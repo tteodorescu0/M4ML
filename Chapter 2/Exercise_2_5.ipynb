{
  "nbformat": 4,
  "nbformat_minor": 0,
  "metadata": {
    "colab": {
      "provenance": [],
      "authorship_tag": "ABX9TyOGvZK36Vgzml/1sWkoKLUz",
      "include_colab_link": true
    },
    "kernelspec": {
      "name": "python3",
      "display_name": "Python 3"
    },
    "language_info": {
      "name": "python"
    }
  },
  "cells": [
    {
      "cell_type": "markdown",
      "metadata": {
        "id": "view-in-github",
        "colab_type": "text"
      },
      "source": [
        "<a href=\"https://colab.research.google.com/github/tteodorescu0/M4ML/blob/main/Chapter%202/Exercise_2_5.ipynb\" target=\"_parent\"><img src=\"https://colab.research.google.com/assets/colab-badge.svg\" alt=\"Open In Colab\"/></a>"
      ]
    },
    {
      "cell_type": "markdown",
      "source": [
        "#Exercise 2.5\n",
        "\n",
        "Find the set $\\mathcal{S}$ of all solutions in $\\boldsymbol{x}$ of the following inhomogeneous linear systems $\\boldsymbol{A}\\boldsymbol{x} = \\boldsymbol{b}$, where $\\boldsymbol{A}$ and $\\boldsymbol{b}$ are defined as follows:\n",
        "\n",
        "a.\n",
        "$$\\boldsymbol{A}=\\begin{bmatrix}\n",
        "1 & 1 & -1 & -1 \\\\\n",
        "2 & 5 & -7 & -5 \\\\\n",
        "2 & -1 & 1 & 3 \\\\\n",
        "5 & 2 & -4 & 2\n",
        "\\end{bmatrix}, \\boldsymbol{b}=\\begin{bmatrix}\n",
        "1 \\\\\n",
        "-2 \\\\\n",
        "4 \\\\\n",
        "6 \n",
        "\\end{bmatrix}$$\n",
        "b.\n",
        "$$\\boldsymbol{A}=\\begin{bmatrix}\n",
        "1 & -1 & 0 & 0 & 1 \\\\\n",
        "1 & 1 & 0 & -3 & 0 \\\\\n",
        "2 & -1 & 0 & 1 & -1 \\\\\n",
        "-1 & 2 & 0 & -2 & -1\n",
        "\\end{bmatrix}, \\boldsymbol{b}=\\begin{bmatrix}\n",
        "3 \\\\\n",
        "6 \\\\\n",
        "5 \\\\\n",
        "-1 \n",
        "\\end{bmatrix}$$"
      ],
      "metadata": {
        "id": "RLezh7wRDq_M"
      }
    },
    {
      "cell_type": "markdown",
      "source": [
        "#Solution\n",
        "\n",
        "For each part, we'll start with the augmented matrix and use Gauss elimination to get the row-echelon form.\n",
        "\n",
        "We'll use matrix multiplication to perform the three row operations in the Gauss elimination process.\n",
        "\n",
        "For example, \n",
        "\n",
        "* swapping rows 2 and 4 is equivalent to multiplying on the left with the matrix \\begin{bmatrix}\n",
        "1 & 0 & 0 & 0 \\\\ \n",
        "0 & 0 & 0 & 1 \\\\\n",
        "0 & 0 & 1 & 0 \\\\\n",
        "0 & 1 & 0 & 0\n",
        "\\end{bmatrix};\n",
        "* multiplying row 3 with 7 is is equivalent to multiplying on the left with the matrix \\begin{bmatrix}\n",
        "1 & 0 & 0 & 0 \\\\\n",
        "0 & 1 & 0 & 0 \\\\\n",
        "0 & 0 & 7 & 0 \\\\\n",
        "0 & 0 & 0 & 1\n",
        "\\end{bmatrix};\n",
        "* multiplying row 4 with 7 and adding it to row 2 is is equivalent to multiplying on the left with the matrix \\begin{bmatrix}\n",
        "1 & 0 & 0 & 0 \\\\\n",
        "0 & 1 & 0 & 7 \\\\\n",
        "0 & 0 & 1 & 0 \\\\\n",
        "0 & 0 & 0 & 1\n",
        "\\end{bmatrix}."
      ],
      "metadata": {
        "id": "OXWjFNL_y0bq"
      }
    },
    {
      "cell_type": "code",
      "source": [
        "from sympy import *"
      ],
      "metadata": {
        "id": "qt0m4eqx-w7M"
      },
      "execution_count": null,
      "outputs": []
    },
    {
      "cell_type": "markdown",
      "source": [
        "#Part a\n",
        "\n",
        "Write the augmented matrix."
      ],
      "metadata": {
        "id": "lI45sQQa7soy"
      }
    },
    {
      "cell_type": "code",
      "source": [
        "A = Matrix([[1, 1, -1, -1, 1], [2, 5, -7, -5, -2], [2, -1, 1, 3, 4], [5, 2, -4, 2, 6]])\n",
        "A"
      ],
      "metadata": {
        "id": "Utk2N7E5y2Hh",
        "colab": {
          "base_uri": "https://localhost:8080/",
          "height": 98
        },
        "outputId": "ecb8b32f-1d25-482f-dca5-49ae9cd0540c"
      },
      "execution_count": null,
      "outputs": [
        {
          "output_type": "execute_result",
          "data": {
            "text/plain": [
              "Matrix([\n",
              "[1,  1, -1, -1,  1],\n",
              "[2,  5, -7, -5, -2],\n",
              "[2, -1,  1,  3,  4],\n",
              "[5,  2, -4,  2,  6]])"
            ],
            "text/latex": "$\\displaystyle \\left[\\begin{matrix}1 & 1 & -1 & -1 & 1\\\\2 & 5 & -7 & -5 & -2\\\\2 & -1 & 1 & 3 & 4\\\\5 & 2 & -4 & 2 & 6\\end{matrix}\\right]$"
          },
          "metadata": {},
          "execution_count": 2
        }
      ]
    },
    {
      "cell_type": "markdown",
      "source": [
        "$R_2 \\leftarrow R_2 - 2R_1$\n",
        "\n",
        "$R_3 \\leftarrow R_3 - 2R_1$\n",
        "\n",
        "$R_4 \\leftarrow R_4 - 5R_1$"
      ],
      "metadata": {
        "id": "RLsWF_f6_pN7"
      }
    },
    {
      "cell_type": "code",
      "source": [
        "A = Matrix([[1, 0, 0, 0], [-2, 1, 0, 0], [0, 0, 1, 0], [0, 0, 0, 1]]) * A\n",
        "A = Matrix([[1, 0, 0, 0], [0, 1, 0, 0], [-2, 0, 1, 0], [0, 0, 0, 1]]) * A\n",
        "A = Matrix([[1, 0, 0, 0], [0, 1, 0, 0], [0, 0, 1, 0], [-5, 0, 0, 1]]) * A\n",
        "A"
      ],
      "metadata": {
        "colab": {
          "base_uri": "https://localhost:8080/",
          "height": 98
        },
        "id": "E43zVObm_qAA",
        "outputId": "cec65181-a472-4f25-f9c7-76818117ab36"
      },
      "execution_count": null,
      "outputs": [
        {
          "output_type": "execute_result",
          "data": {
            "text/plain": [
              "Matrix([\n",
              "[1,  1, -1, -1,  1],\n",
              "[0,  3, -5, -3, -4],\n",
              "[0, -3,  3,  5,  2],\n",
              "[0, -3,  1,  7,  1]])"
            ],
            "text/latex": "$\\displaystyle \\left[\\begin{matrix}1 & 1 & -1 & -1 & 1\\\\0 & 3 & -5 & -3 & -4\\\\0 & -3 & 3 & 5 & 2\\\\0 & -3 & 1 & 7 & 1\\end{matrix}\\right]$"
          },
          "metadata": {},
          "execution_count": 3
        }
      ]
    },
    {
      "cell_type": "markdown",
      "source": [
        "$R_2 \\leftarrow \\frac{1}{3}R_2$"
      ],
      "metadata": {
        "id": "5IKl8QiGBwPZ"
      }
    },
    {
      "cell_type": "code",
      "source": [
        "A = Matrix([[1, 0, 0, 0], [0, Rational(1, 3), 0, 0], [0, 0, 1, 0], [0, 0, 0, 1]]) *A\n",
        "A"
      ],
      "metadata": {
        "colab": {
          "base_uri": "https://localhost:8080/",
          "height": 98
        },
        "id": "6N3XiAW8B6mp",
        "outputId": "b4a7b4ed-cb72-4581-dea1-596ed2aaa06e"
      },
      "execution_count": null,
      "outputs": [
        {
          "output_type": "execute_result",
          "data": {
            "text/plain": [
              "Matrix([\n",
              "[1,  1,   -1, -1,    1],\n",
              "[0,  1, -5/3, -1, -4/3],\n",
              "[0, -3,    3,  5,    2],\n",
              "[0, -3,    1,  7,    1]])"
            ],
            "text/latex": "$\\displaystyle \\left[\\begin{matrix}1 & 1 & -1 & -1 & 1\\\\0 & 1 & - \\frac{5}{3} & -1 & - \\frac{4}{3}\\\\0 & -3 & 3 & 5 & 2\\\\0 & -3 & 1 & 7 & 1\\end{matrix}\\right]$"
          },
          "metadata": {},
          "execution_count": 4
        }
      ]
    },
    {
      "cell_type": "markdown",
      "source": [
        "$R_3 \\leftarrow R_3 +3 R_2$\n",
        "\n",
        "$R_4 \\leftarrow R_4 + 3 R_2$"
      ],
      "metadata": {
        "id": "MAoeXvc2CpFb"
      }
    },
    {
      "cell_type": "code",
      "source": [
        "A = Matrix([[1, 0, 0, 0], [0, 1, 0, 0], [0, 3, 1, 0], [0, 0, 0, 1]])*A\n",
        "A = Matrix([[1, 0, 0, 0], [0, 1, 0, 0], [0, 0, 1, 0], [0, 3, 0, 1]])*A\n",
        "A"
      ],
      "metadata": {
        "colab": {
          "base_uri": "https://localhost:8080/",
          "height": 98
        },
        "id": "F7rJSr9eCpjq",
        "outputId": "2a3fd154-cf9c-42db-e0ec-ff5cbad98205"
      },
      "execution_count": null,
      "outputs": [
        {
          "output_type": "execute_result",
          "data": {
            "text/plain": [
              "Matrix([\n",
              "[1, 1,   -1, -1,    1],\n",
              "[0, 1, -5/3, -1, -4/3],\n",
              "[0, 0,   -2,  2,   -2],\n",
              "[0, 0,   -4,  4,   -3]])"
            ],
            "text/latex": "$\\displaystyle \\left[\\begin{matrix}1 & 1 & -1 & -1 & 1\\\\0 & 1 & - \\frac{5}{3} & -1 & - \\frac{4}{3}\\\\0 & 0 & -2 & 2 & -2\\\\0 & 0 & -4 & 4 & -3\\end{matrix}\\right]$"
          },
          "metadata": {},
          "execution_count": 5
        }
      ]
    },
    {
      "cell_type": "markdown",
      "source": [
        "$R_3 \\leftarrow -\\frac{1}{2} R_3$"
      ],
      "metadata": {
        "id": "CkTzTEr2DHwi"
      }
    },
    {
      "cell_type": "code",
      "source": [
        "A = Matrix([[1, 0, 0, 0], [0, 1, 0, 0], [0, 0, -Rational(1,2), 0], [0, 0, 0, 1]])*A\n",
        "A"
      ],
      "metadata": {
        "colab": {
          "base_uri": "https://localhost:8080/",
          "height": 98
        },
        "id": "bUb_n135DIV4",
        "outputId": "6bd7f2b1-4573-43f5-f029-2be54c138f5e"
      },
      "execution_count": null,
      "outputs": [
        {
          "output_type": "execute_result",
          "data": {
            "text/plain": [
              "Matrix([\n",
              "[1, 1,   -1, -1,    1],\n",
              "[0, 1, -5/3, -1, -4/3],\n",
              "[0, 0,    1, -1,    1],\n",
              "[0, 0,   -4,  4,   -3]])"
            ],
            "text/latex": "$\\displaystyle \\left[\\begin{matrix}1 & 1 & -1 & -1 & 1\\\\0 & 1 & - \\frac{5}{3} & -1 & - \\frac{4}{3}\\\\0 & 0 & 1 & -1 & 1\\\\0 & 0 & -4 & 4 & -3\\end{matrix}\\right]$"
          },
          "metadata": {},
          "execution_count": 6
        }
      ]
    },
    {
      "cell_type": "markdown",
      "source": [
        "$R_4 \\leftarrow R_4 +4R_3$"
      ],
      "metadata": {
        "id": "kEoukD2VDYqZ"
      }
    },
    {
      "cell_type": "code",
      "source": [
        "A = Matrix([[1, 0, 0, 0], [0, 1, 0, 0], [0, 0, 1, 0], [0, 0, 4, 1]]) * A\n",
        "A"
      ],
      "metadata": {
        "colab": {
          "base_uri": "https://localhost:8080/",
          "height": 98
        },
        "id": "5tBdz_-mDdn8",
        "outputId": "728355e4-4b28-45a9-9a9b-688e582aad98"
      },
      "execution_count": null,
      "outputs": [
        {
          "output_type": "execute_result",
          "data": {
            "text/plain": [
              "Matrix([\n",
              "[1, 1,   -1, -1,    1],\n",
              "[0, 1, -5/3, -1, -4/3],\n",
              "[0, 0,    1, -1,    1],\n",
              "[0, 0,    0,  0,    1]])"
            ],
            "text/latex": "$\\displaystyle \\left[\\begin{matrix}1 & 1 & -1 & -1 & 1\\\\0 & 1 & - \\frac{5}{3} & -1 & - \\frac{4}{3}\\\\0 & 0 & 1 & -1 & 1\\\\0 & 0 & 0 & 0 & 1\\end{matrix}\\right]$"
          },
          "metadata": {},
          "execution_count": 7
        }
      ]
    },
    {
      "cell_type": "markdown",
      "source": [
        "The inhomogeneous linear systems $\\boldsymbol{A}\\boldsymbol{x}=\\boldsymbol{b}$ has no solutions because the last equation is equivalen to the equation $0=1$, which is not possible."
      ],
      "metadata": {
        "id": "0xdWP1rhD8i_"
      }
    },
    {
      "cell_type": "markdown",
      "source": [
        "#Part b\n",
        "\n",
        "Write the augmented matrix."
      ],
      "metadata": {
        "id": "CScMNB3HnlU-"
      }
    },
    {
      "cell_type": "code",
      "source": [
        "B=Matrix([[1, -1, 0, 0, 1, 3], [1, 1, 0, -3, 0, 6], [2, -1, 0, 1, -1, 5], [-1, 2, 0, -2, -1, -1]])\n",
        "B"
      ],
      "metadata": {
        "colab": {
          "base_uri": "https://localhost:8080/",
          "height": 98
        },
        "id": "8sbtcUf7qjg1",
        "outputId": "6644180c-9f7b-493a-b127-fc3964582678"
      },
      "execution_count": null,
      "outputs": [
        {
          "output_type": "execute_result",
          "data": {
            "text/plain": [
              "Matrix([\n",
              "[ 1, -1, 0,  0,  1,  3],\n",
              "[ 1,  1, 0, -3,  0,  6],\n",
              "[ 2, -1, 0,  1, -1,  5],\n",
              "[-1,  2, 0, -2, -1, -1]])"
            ],
            "text/latex": "$\\displaystyle \\left[\\begin{matrix}1 & -1 & 0 & 0 & 1 & 3\\\\1 & 1 & 0 & -3 & 0 & 6\\\\2 & -1 & 0 & 1 & -1 & 5\\\\-1 & 2 & 0 & -2 & -1 & -1\\end{matrix}\\right]$"
          },
          "metadata": {},
          "execution_count": 8
        }
      ]
    },
    {
      "cell_type": "markdown",
      "source": [
        "$R_2 \\leftarrow R_2 - R_1$\n",
        "\n",
        "$R_3 \\leftarrow R_3 - 2R_1$\n",
        "\n",
        "$R_4 \\leftarrow R_4 + R_1$"
      ],
      "metadata": {
        "id": "etHT6N1hFf7b"
      }
    },
    {
      "cell_type": "code",
      "source": [
        "B = Matrix([[1, 0, 0, 0], [-1, 1, 0, 0], [0, 0, 1, 0], [0, 0, 0, 1]]) * B\n",
        "B = Matrix([[1, 0, 0, 0], [0, 1, 0, 0], [-2, 0, 1, 0], [0, 0, 0, 1]]) * B\n",
        "B = Matrix([[1, 0, 0, 0], [0, 1, 0, 0], [0, 0, 1, 0], [1, 0, 0, 1]]) * B\n",
        "B"
      ],
      "metadata": {
        "colab": {
          "base_uri": "https://localhost:8080/",
          "height": 98
        },
        "id": "gQ-1W3tPFkDb",
        "outputId": "13a14895-0cf8-46e8-8b33-d9605fbafc21"
      },
      "execution_count": null,
      "outputs": [
        {
          "output_type": "execute_result",
          "data": {
            "text/plain": [
              "Matrix([\n",
              "[1, -1, 0,  0,  1,  3],\n",
              "[0,  2, 0, -3, -1,  3],\n",
              "[0,  1, 0,  1, -3, -1],\n",
              "[0,  1, 0, -2,  0,  2]])"
            ],
            "text/latex": "$\\displaystyle \\left[\\begin{matrix}1 & -1 & 0 & 0 & 1 & 3\\\\0 & 2 & 0 & -3 & -1 & 3\\\\0 & 1 & 0 & 1 & -3 & -1\\\\0 & 1 & 0 & -2 & 0 & 2\\end{matrix}\\right]$"
          },
          "metadata": {},
          "execution_count": 9
        }
      ]
    },
    {
      "cell_type": "markdown",
      "source": [
        "$R_2 \\leftarrow \\frac{1}{2}R_2$"
      ],
      "metadata": {
        "id": "SabawvhUFz30"
      }
    },
    {
      "cell_type": "code",
      "source": [
        "B = Matrix([[1, 0, 0, 0], [0, Rational(1, 2), 0, 0], [0, 0, 1, 0], [0, 0, 0, 1]]) * B\n",
        "B"
      ],
      "metadata": {
        "colab": {
          "base_uri": "https://localhost:8080/",
          "height": 98
        },
        "id": "7xb2iNRLF7kf",
        "outputId": "cb17d25a-2701-4479-f62d-e7444a115907"
      },
      "execution_count": null,
      "outputs": [
        {
          "output_type": "execute_result",
          "data": {
            "text/plain": [
              "Matrix([\n",
              "[1, -1, 0,    0,    1,   3],\n",
              "[0,  1, 0, -3/2, -1/2, 3/2],\n",
              "[0,  1, 0,    1,   -3,  -1],\n",
              "[0,  1, 0,   -2,    0,   2]])"
            ],
            "text/latex": "$\\displaystyle \\left[\\begin{matrix}1 & -1 & 0 & 0 & 1 & 3\\\\0 & 1 & 0 & - \\frac{3}{2} & - \\frac{1}{2} & \\frac{3}{2}\\\\0 & 1 & 0 & 1 & -3 & -1\\\\0 & 1 & 0 & -2 & 0 & 2\\end{matrix}\\right]$"
          },
          "metadata": {},
          "execution_count": 10
        }
      ]
    },
    {
      "cell_type": "markdown",
      "source": [
        "$R_3 \\leftarrow R_3 - R_2$\n",
        "\n",
        "$R_4 \\leftarrow R_4 - R_2$"
      ],
      "metadata": {
        "id": "wtVwEqkwGPbC"
      }
    },
    {
      "cell_type": "code",
      "source": [
        "B = Matrix([[1, 0, 0, 0], [0, 1, 0, 0], [0, -1, 1, 0], [0, 0, 0, 1]]) * B\n",
        "B = Matrix([[1, 0, 0, 0], [0, 1, 0, 0], [0, 0, 1, 0], [0, -1, 0, 1]]) * B\n",
        "B"
      ],
      "metadata": {
        "colab": {
          "base_uri": "https://localhost:8080/",
          "height": 99
        },
        "id": "9x15gJmgGSrH",
        "outputId": "f345f357-79d7-45d7-9a2e-6cafff23f359"
      },
      "execution_count": null,
      "outputs": [
        {
          "output_type": "execute_result",
          "data": {
            "text/plain": [
              "Matrix([\n",
              "[1, -1, 0,    0,    1,    3],\n",
              "[0,  1, 0, -3/2, -1/2,  3/2],\n",
              "[0,  0, 0,  5/2, -5/2, -5/2],\n",
              "[0,  0, 0, -1/2,  1/2,  1/2]])"
            ],
            "text/latex": "$\\displaystyle \\left[\\begin{matrix}1 & -1 & 0 & 0 & 1 & 3\\\\0 & 1 & 0 & - \\frac{3}{2} & - \\frac{1}{2} & \\frac{3}{2}\\\\0 & 0 & 0 & \\frac{5}{2} & - \\frac{5}{2} & - \\frac{5}{2}\\\\0 & 0 & 0 & - \\frac{1}{2} & \\frac{1}{2} & \\frac{1}{2}\\end{matrix}\\right]$"
          },
          "metadata": {},
          "execution_count": 11
        }
      ]
    },
    {
      "cell_type": "markdown",
      "source": [
        "$R_3 \\leftarrow \\frac{2}{5} R_3$"
      ],
      "metadata": {
        "id": "MHE-wD9pGh9i"
      }
    },
    {
      "cell_type": "code",
      "source": [
        "B = Matrix([[1, 0, 0, 0], [0, 1, 0, 0], [0, 0, Rational(2,5), 0], [0, 0, 0, 1]]) * B\n",
        "B"
      ],
      "metadata": {
        "colab": {
          "base_uri": "https://localhost:8080/",
          "height": 99
        },
        "id": "PSUqOeQqG7sF",
        "outputId": "bc233d0c-1307-4820-cf65-38eb083d642a"
      },
      "execution_count": null,
      "outputs": [
        {
          "output_type": "execute_result",
          "data": {
            "text/plain": [
              "Matrix([\n",
              "[1, -1, 0,    0,    1,   3],\n",
              "[0,  1, 0, -3/2, -1/2, 3/2],\n",
              "[0,  0, 0,    1,   -1,  -1],\n",
              "[0,  0, 0, -1/2,  1/2, 1/2]])"
            ],
            "text/latex": "$\\displaystyle \\left[\\begin{matrix}1 & -1 & 0 & 0 & 1 & 3\\\\0 & 1 & 0 & - \\frac{3}{2} & - \\frac{1}{2} & \\frac{3}{2}\\\\0 & 0 & 0 & 1 & -1 & -1\\\\0 & 0 & 0 & - \\frac{1}{2} & \\frac{1}{2} & \\frac{1}{2}\\end{matrix}\\right]$"
          },
          "metadata": {},
          "execution_count": 12
        }
      ]
    },
    {
      "cell_type": "markdown",
      "source": [
        "$R_4 \\leftarrow R_4 +\\frac{1}{2}R_3$"
      ],
      "metadata": {
        "id": "ziCmQzZ4HH0O"
      }
    },
    {
      "cell_type": "code",
      "source": [
        "B = Matrix([[1, 0, 0, 0], [0, 1, 0, 0], [0, 0, 1, 0], [0, 0, Rational(1,2), 1]]) * B\n",
        "B"
      ],
      "metadata": {
        "colab": {
          "base_uri": "https://localhost:8080/",
          "height": 98
        },
        "id": "uyidDRJbHPRO",
        "outputId": "90fedf0a-509b-4fcd-d3b7-49cb465085cd"
      },
      "execution_count": null,
      "outputs": [
        {
          "output_type": "execute_result",
          "data": {
            "text/plain": [
              "Matrix([\n",
              "[1, -1, 0,    0,    1,   3],\n",
              "[0,  1, 0, -3/2, -1/2, 3/2],\n",
              "[0,  0, 0,    1,   -1,  -1],\n",
              "[0,  0, 0,    0,    0,   0]])"
            ],
            "text/latex": "$\\displaystyle \\left[\\begin{matrix}1 & -1 & 0 & 0 & 1 & 3\\\\0 & 1 & 0 & - \\frac{3}{2} & - \\frac{1}{2} & \\frac{3}{2}\\\\0 & 0 & 0 & 1 & -1 & -1\\\\0 & 0 & 0 & 0 & 0 & 0\\end{matrix}\\right]$"
          },
          "metadata": {},
          "execution_count": 13
        }
      ]
    },
    {
      "cell_type": "markdown",
      "source": [
        "Reverting back to the a linear system, we obtain the system.\n",
        "\n",
        "$$\\begin{matrix}\n",
        "x_1 & -x_2 &  &  & +x_5 & = 3 \\\\\n",
        " & x_2 & & -\\frac{3}{2}x_4 & -\\frac{1}{2}x_5 & =\\frac{3}{2} \\\\\n",
        " & & & x_4 & -x_5 & =-1 \\\\\n",
        " & & & & 0 & =0\n",
        "\\end{matrix}\n",
        "$$\n",
        "\n",
        "One particular solution is \n",
        "\n",
        "$$\n",
        "\\begin{bmatrix}\n",
        "x_1 \\\\\n",
        "x_2 \\\\\n",
        "x_3 \\\\\n",
        "x_4 \\\\\n",
        "x_5\n",
        "\\end{bmatrix}\n",
        "=\n",
        "\\begin{bmatrix}\n",
        "4 \\\\\n",
        "2 \\\\\n",
        "0 \\\\\n",
        "0 \\\\\n",
        "1\n",
        "\\end{bmatrix}.\n",
        "$$\n",
        "\n",
        "The reduced row-echelon form of $\\boldsymbol{A}$ is \n",
        "\n",
        "$$\n",
        "\\begin{bmatrix}\n",
        "1 & -1 & 0 & 0 & 1 \\\\\n",
        "0 & 1 & 0 & -\\frac{3}{2} & -\\frac{1}{2} \\\\\n",
        "0 & 0 & 0 & 1 & -1 \\\\\n",
        "0 & 0 & 0 & 0 & 0 \n",
        "\\end{bmatrix}.\n",
        "$$\n",
        "\n",
        "Applying the minus-1 trick, we get the following matrix, where the newly added row is in red.\n",
        "\n",
        "$$\n",
        "\\tilde{\\boldsymbol{A}}=\\begin{bmatrix}\n",
        "1 & -1 & 0 & 0 & 1 \\\\\n",
        "0 & 1 & 0 & -\\frac{3}{2} & -\\frac{1}{2} \\\\\n",
        "{\\color{red} 0 }& {\\color{red} 0 } & {\\color{red}{-1}} & {\\color{red} 0 } & {\\color{red} 0 } \\\\\n",
        "0 & 0 & 0 & 1 & -1 \\\\\n",
        "0 & 0 & 0 & 0 & 0 \n",
        "\\end{bmatrix}\n",
        "$$\n",
        "\n",
        "The solutions of $\\boldsymbol{A}\\boldsymbol{x} = \\boldsymbol{0}$ are represented by the columns of $\\tilde{\\boldsymbol{A}}$ that contain $−1$ on the diagonal. The solution set of $\\boldsymbol{A}\\boldsymbol{x} = \\boldsymbol{0}$ is\n",
        "\n",
        "$$\\begin{Bmatrix} x\\in \\mathbb{R}^5\\, :\\, x = \\lambda \\begin{bmatrix}\n",
        "0 \\\\\n",
        "0 \\\\\n",
        "-1 \\\\\n",
        "0 \\\\\n",
        "0  \n",
        "\\end{bmatrix}, \\lambda \\in \\mathbb{R}\\end{Bmatrix}.$$\n",
        "\n",
        "The solution set of $\\boldsymbol{A}\\boldsymbol{x} = \\boldsymbol{b}$ is\n",
        "\n",
        "$$\\begin{Bmatrix} x\\in \\mathbb{R}^5\\, :\\, x = \\begin{bmatrix}\n",
        "4 \\\\\n",
        "2 \\\\\n",
        "0 \\\\\n",
        "0 \\\\\n",
        "1\n",
        "\\end{bmatrix} + \n",
        "\\lambda \\begin{bmatrix}\n",
        "0 \\\\\n",
        "0 \\\\\n",
        "-1 \\\\\n",
        "0 \\\\\n",
        "0  \n",
        "\\end{bmatrix}, \\lambda \\in \\mathbb{R}\\end{Bmatrix}.$$"
      ],
      "metadata": {
        "id": "-0iysYetIzMa"
      }
    }
  ]
}