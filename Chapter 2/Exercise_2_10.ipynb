{
  "nbformat": 4,
  "nbformat_minor": 0,
  "metadata": {
    "colab": {
      "provenance": [],
      "authorship_tag": "ABX9TyM+DeZAGAMgApACd7OiOwkI",
      "include_colab_link": true
    },
    "kernelspec": {
      "name": "python3",
      "display_name": "Python 3"
    },
    "language_info": {
      "name": "python"
    }
  },
  "cells": [
    {
      "cell_type": "markdown",
      "metadata": {
        "id": "view-in-github",
        "colab_type": "text"
      },
      "source": [
        "<a href=\"https://colab.research.google.com/github/tteodorescu0/M4ML/blob/main/Chapter%202/Exercise_2_10.ipynb\" target=\"_parent\"><img src=\"https://colab.research.google.com/assets/colab-badge.svg\" alt=\"Open In Colab\"/></a>"
      ]
    },
    {
      "cell_type": "markdown",
      "source": [
        "#Exercise 2.10\n",
        "\n",
        "\n",
        "Are the following sets of vectors linearly independent? \n",
        "\n",
        "a.\n",
        "$$\\boldsymbol{x}_1=\\begin{bmatrix} 2 \\\\ -1 \\\\ 3 \\end{bmatrix}, \n",
        "\\boldsymbol{x}_2=\\begin{bmatrix} 1 \\\\ 1 \\\\ -2 \\end{bmatrix}, \n",
        "\\boldsymbol{x}_3=\\begin{bmatrix} 3 \\\\ -3 \\\\ 8 \\end{bmatrix}$$\n",
        "b.\n",
        "$$\\boldsymbol{x}_1=\\begin{bmatrix} 1 \\\\ 2 \\\\ 1 \\\\ 0 \\\\ 0 \\end{bmatrix}, \n",
        "\\boldsymbol{x}_2=\\begin{bmatrix} 1 \\\\ 1 \\\\ 0 \\\\ 1 \\\\ 1 \\end{bmatrix}, \n",
        "\\boldsymbol{x}_3=\\begin{bmatrix} 1 \\\\ 0 \\\\ 0 \\\\ 1 \\\\ 1 \\end{bmatrix}$$"
      ],
      "metadata": {
        "id": "RLezh7wRDq_M"
      }
    },
    {
      "cell_type": "code",
      "source": [
        "from sympy import *"
      ],
      "metadata": {
        "id": "qt0m4eqx-w7M"
      },
      "execution_count": null,
      "outputs": []
    },
    {
      "cell_type": "markdown",
      "source": [
        "#Part a: Solution\n",
        "\n",
        "Consider the matrix $A$ with columns $x_1$, $x_2$, and $x_3$, and then compute its reduced row-echelon form."
      ],
      "metadata": {
        "id": "h7z2M74DEdWS"
      }
    },
    {
      "cell_type": "code",
      "source": [
        "A = Matrix([[2], [-1], [3]])\n",
        "A = A.col_insert(1, Matrix([[1], [1], [-2]]))\n",
        "A = A.col_insert(2, Matrix([[3], [-3], [8]]))\n",
        "A"
      ],
      "metadata": {
        "id": "Utk2N7E5y2Hh",
        "colab": {
          "base_uri": "https://localhost:8080/",
          "height": 78
        },
        "outputId": "eadee099-9200-48fa-e952-f7e64b8ee698"
      },
      "execution_count": null,
      "outputs": [
        {
          "output_type": "execute_result",
          "data": {
            "text/plain": [
              "Matrix([\n",
              "[ 2,  1,  3],\n",
              "[-1,  1, -3],\n",
              "[ 3, -2,  8]])"
            ],
            "text/latex": "$\\displaystyle \\left[\\begin{matrix}2 & 1 & 3\\\\-1 & 1 & -3\\\\3 & -2 & 8\\end{matrix}\\right]$"
          },
          "metadata": {},
          "execution_count": 3
        }
      ]
    },
    {
      "cell_type": "code",
      "source": [
        "A.rref()"
      ],
      "metadata": {
        "colab": {
          "base_uri": "https://localhost:8080/"
        },
        "id": "dgWMiLVEFK6R",
        "outputId": "a5b8828e-8027-4bfc-bcbb-ad719721bd58"
      },
      "execution_count": null,
      "outputs": [
        {
          "output_type": "execute_result",
          "data": {
            "text/plain": [
              "(Matrix([\n",
              " [1, 0,  2],\n",
              " [0, 1, -1],\n",
              " [0, 0,  0]]), (0, 1))"
            ]
          },
          "metadata": {},
          "execution_count": 4
        }
      ]
    },
    {
      "cell_type": "markdown",
      "source": [
        "Since the pivots are in the first and second columns but not in the third column, the three vectors are not linear independent."
      ],
      "metadata": {
        "id": "4Nv6BNb6FcV2"
      }
    },
    {
      "cell_type": "markdown",
      "source": [
        "#Part b: Solution\n",
        "\n",
        "Consider the matrix $A$ with columns $x_1$, $x_2$, and $x_3$, and then compute its reduced row-echelon form."
      ],
      "metadata": {
        "id": "KWr8v0lXFsUy"
      }
    },
    {
      "cell_type": "code",
      "source": [
        "A = Matrix([[1], [2], [1], [0], [0]])\n",
        "A = A.col_insert(1, Matrix([[1], [1], [0], [1], [1]]))\n",
        "A = A.col_insert(2, Matrix([[1], [0], [0], [1], [1]]))\n",
        "A"
      ],
      "metadata": {
        "colab": {
          "base_uri": "https://localhost:8080/",
          "height": 119
        },
        "id": "E43zVObm_qAA",
        "outputId": "5278dc34-9193-4814-8584-6cb3aeb346b0"
      },
      "execution_count": null,
      "outputs": [
        {
          "output_type": "execute_result",
          "data": {
            "text/plain": [
              "Matrix([\n",
              "[1, 1, 1],\n",
              "[2, 1, 0],\n",
              "[1, 0, 0],\n",
              "[0, 1, 1],\n",
              "[0, 1, 1]])"
            ],
            "text/latex": "$\\displaystyle \\left[\\begin{matrix}1 & 1 & 1\\\\2 & 1 & 0\\\\1 & 0 & 0\\\\0 & 1 & 1\\\\0 & 1 & 1\\end{matrix}\\right]$"
          },
          "metadata": {},
          "execution_count": 5
        }
      ]
    },
    {
      "cell_type": "code",
      "source": [
        "A.rref()"
      ],
      "metadata": {
        "colab": {
          "base_uri": "https://localhost:8080/"
        },
        "id": "6N3XiAW8B6mp",
        "outputId": "e1ce7ab2-4422-4eb3-8a4e-3804f19e5d59"
      },
      "execution_count": null,
      "outputs": [
        {
          "output_type": "execute_result",
          "data": {
            "text/plain": [
              "(Matrix([\n",
              " [1, 0, 0],\n",
              " [0, 1, 0],\n",
              " [0, 0, 1],\n",
              " [0, 0, 0],\n",
              " [0, 0, 0]]), (0, 1, 2))"
            ]
          },
          "metadata": {},
          "execution_count": 6
        }
      ]
    },
    {
      "cell_type": "markdown",
      "source": [
        "Since the pivots are in the first, second, and third columns, the three vectors are linear independent."
      ],
      "metadata": {
        "id": "79J7mUNJQTrA"
      }
    }
  ]
}