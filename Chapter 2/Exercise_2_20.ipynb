{
  "nbformat": 4,
  "nbformat_minor": 0,
  "metadata": {
    "colab": {
      "provenance": [],
      "authorship_tag": "ABX9TyNwSGpqKF2lPNkdNJGABZBS",
      "include_colab_link": true
    },
    "kernelspec": {
      "name": "python3",
      "display_name": "Python 3"
    },
    "language_info": {
      "name": "python"
    }
  },
  "cells": [
    {
      "cell_type": "markdown",
      "metadata": {
        "id": "view-in-github",
        "colab_type": "text"
      },
      "source": [
        "<a href=\"https://colab.research.google.com/github/tteodorescu0/M4ML/blob/main/Chapter%202/Exercise_2_20.ipynb\" target=\"_parent\"><img src=\"https://colab.research.google.com/assets/colab-badge.svg\" alt=\"Open In Colab\"/></a>"
      ]
    },
    {
      "cell_type": "markdown",
      "source": [
        "#Exercise 2.20\n",
        "\n",
        "Let us consider $\\mathbf{b}_1$, $\\mathbf{b}_2$, $\\mathbf{b}'_1$, $\\mathbf{b}'_2$, 4 vectors of $\\mathbb{R}^2$ expressed in the standard basis of $\\mathbb{R}^2$ as\n",
        "\n",
        "$$\\mathbf{b}_1= \\begin{bmatrix} 2 \\\\ 1 \\end{bmatrix}, \\mathbf{b}_2 = \\begin{bmatrix} -1 \\\\ -1 \\end{bmatrix}, \\mathbf{b}'_1 = \\begin{bmatrix} 2 \\\\ -2 \\end{bmatrix}, \\mathbf{b}'_2 = \\begin{bmatrix} 1 \\\\ 1 \\end{bmatrix}$$\n",
        "\n",
        "and let us define two ordered bases $B = (\\mathbf{b}_1, \\mathbf{b}_2)$ and $B′ = (\\mathbf{b}'_1, \\mathbf{b}'_2)$ of $\\mathbb{R}^2$.\n",
        "\n",
        "\n",
        "a. Show that $B$ and $B'$ are two bases of $\\mathbb{R}^2$ and draw those basis vectors.\n",
        "\n",
        "b. Compute the matrix $\\mathbf{P}_1$ that performs a basis change from $B'$ to $B$.\n",
        "\n",
        "c. We consider $\\mathbf{c}_1$, $\\mathbf{c}_2$, $\\mathbf{c}_3$, three vectors of $\\mathbb{R}^3$ defined in the standard basis of $\\mathbb{R}^3$ as\n",
        "\n",
        "$$\\mathbf{c}_1= \\begin{bmatrix} 1 \\\\ 2 \\\\ -1 \\end{bmatrix}, \\mathbf{c}_2 = \\begin{bmatrix} 0 \\\\ -1 \\\\ 2 \\end{bmatrix}, \\mathbf{c}_3 = \\begin{bmatrix} 1 \\\\ 0 \\\\ -1 \\end{bmatrix}$$ \n",
        "\n",
        "and we define $C = (\\mathbf{c}_1, \\mathbf{c}_2, \\mathbf{c}_3)$.\n",
        "\n",
        "(i) Show that $C$ is a basis of $\\mathbb{R}^3$, e.g., by using determinants.\n",
        "\n",
        "(ii) Let us call $C' = (\\mathbf{c}'_1, \\mathbf{c}'_2, \\mathbf{c}'_3)$ the standard basis of $\\mathbb{R}^3$. Determine the matrix $\\mathbf{P}_2$ that performs the basis change from $C$ to $C'$.\n",
        "\n",
        "d. We consider a homomorphism $\\Phi : \\mathbb{R}^2 \\rightarrow \\mathbb{R}^3$, such that \n",
        "\n",
        "$$\n",
        "\\begin{matrix}\n",
        "\\Phi(\\mathbf{b}_1 +\\mathbf{b}_2) & = & \\mathbf{c}_2 +\\mathbf{c}_3 \\\\\n",
        "\\Phi(\\mathbf{b}_1 −\\mathbf{b}_2) & = & 2\\mathbf{c}_1 −\\mathbf{c}_2 +3\\mathbf{c}_3\n",
        "\\end{matrix}\n",
        "$$\n",
        "\n",
        "where $B = (\\mathbf{b}_1, \\mathbf{b}_2)$ and $C = (\\mathbf{c}_1, \\mathbf{c}_2, \\mathbf{c}_3)$ are ordered bases of $\\mathbb{R}^2$ and $\\mathbb{R}^3$, respectively. \n",
        "\n",
        "Determine the transformation matrix $\\mathbf{A}_\\Phi$ of $\\Phi$ with respect to the ordered bases $B$ and $C$.\n",
        "\n",
        "e. Determine $A'$, the transformation matrix of $\\Phi$ with respect to the bases $B'$ and $C'$.\n",
        "\n",
        "f. Let us consider the vector $\\mathbf{x} \\in \\mathbb{R}^2$ whose coordinates in $B'$ are ${[2,3]}^T$. In other words, $\\mathbf{x} = 2\\mathbf{b}'_1 + 3\\mathbf{b}'_2$.\n",
        "\n",
        "(i) Calculate the coordinates of $\\mathbf{x}$ in $B$.\n",
        "\n",
        "(ii) Based on that, compute the coordinates of $\\Phi(\\mathbf{x})$ expressed in $C$.\n",
        "\n",
        "(iii) Then, write $\\Phi(\\mathbf{x})$ in terms of $\\mathbf{c}'_1$ , $\\mathbf{c}'_2$ , $\\mathbf{c}'_3$.\n",
        "\n",
        "(iv) Use the representation of $\\mathbf{x}$ in $B'$ and the matrix $A'$ to find this result directly.\n"
      ],
      "metadata": {
        "id": "RLezh7wRDq_M"
      }
    },
    {
      "cell_type": "code",
      "source": [
        "from sympy import *"
      ],
      "metadata": {
        "id": "qt0m4eqx-w7M"
      },
      "execution_count": null,
      "outputs": []
    },
    {
      "cell_type": "markdown",
      "source": [
        "#Solution: Part a\n",
        "\n",
        "Let $A_1=\\begin{bmatrix} 2 & -1\\\\ 1 & -1\\end{bmatrix}$ be the $2\\times 2$ matrix obtained by combining the two vectors $\\mathbf{b}_1$, $\\mathbf{b}_2$.\n",
        "\n",
        "$B$ is a base of $\\mathbb{R}^2$ because the reduced row-echelon form of $A_1$ has pivots in all the columns, as shown below."
      ],
      "metadata": {
        "id": "h7z2M74DEdWS"
      }
    },
    {
      "cell_type": "code",
      "source": [
        "A1 = Matrix([[2, -1], [1, -1]])\n",
        "A1"
      ],
      "metadata": {
        "id": "Utk2N7E5y2Hh",
        "colab": {
          "base_uri": "https://localhost:8080/",
          "height": 58
        },
        "outputId": "7c3c267a-8746-4a4d-aa1b-506e5ae28c38"
      },
      "execution_count": null,
      "outputs": [
        {
          "output_type": "execute_result",
          "data": {
            "text/plain": [
              "Matrix([\n",
              "[2, -1],\n",
              "[1, -1]])"
            ],
            "text/latex": "$\\displaystyle \\left[\\begin{matrix}2 & -1\\\\1 & -1\\end{matrix}\\right]$"
          },
          "metadata": {},
          "execution_count": 2
        }
      ]
    },
    {
      "cell_type": "code",
      "source": [
        "A1_rr, _= A1.rref()\n",
        "A1_rr"
      ],
      "metadata": {
        "colab": {
          "base_uri": "https://localhost:8080/",
          "height": 58
        },
        "id": "dgWMiLVEFK6R",
        "outputId": "eec40595-ae3f-4c83-b054-b18a064a703f"
      },
      "execution_count": null,
      "outputs": [
        {
          "output_type": "execute_result",
          "data": {
            "text/plain": [
              "Matrix([\n",
              "[1, 0],\n",
              "[0, 1]])"
            ],
            "text/latex": "$\\displaystyle \\left[\\begin{matrix}1 & 0\\\\0 & 1\\end{matrix}\\right]$"
          },
          "metadata": {},
          "execution_count": 3
        }
      ]
    },
    {
      "cell_type": "code",
      "source": [
        "import numpy as np\n",
        "import matplotlib.pyplot as plt"
      ],
      "metadata": {
        "id": "9bnd3Zu0neSs"
      },
      "execution_count": null,
      "outputs": []
    },
    {
      "cell_type": "code",
      "source": [
        "def plot_vectors(v1, v2, V1, V2):\n",
        "    color_1 = \"red\"\n",
        "    color_2 = \"blue\" \n",
        "\n",
        "    _, ax = plt.subplots(figsize=(7, 7))\n",
        "    ax.tick_params(axis='x', labelsize=14)\n",
        "    ax.tick_params(axis='y', labelsize=14)\n",
        "    ax.set_xticks(np.arange(-6, 6))\n",
        "    ax.set_yticks(np.arange(-6, 6))\n",
        "    \n",
        "    plt.axis([-6, 6, -6, 6])\n",
        "    plt.quiver([0, 0],[0, 0], [v1[0], v2[0]], [v1[1], v2[1]], color=color_1, angles='xy', scale_units='xy', scale=1)\n",
        "    plt.plot([0,v2[0],v1[0]+v2[0],v1[0]], \n",
        "        [0,v2[1],v1[1]+v2[1],v1[1]], \n",
        "        color=color_1)\n",
        "    v1_sgn = 0.4 * np.array([[1] if i==0 else [i] for i in np.sign(v1)])\n",
        "    ax.text(v1[0]-0.2+v1_sgn[0], v1[1]-0.2+v1_sgn[1], f\"$b_1$\", fontsize=14, color=color_1)\n",
        "    v2_sgn = 0.4 * np.array([[1] if i==0 else [i] for i in np.sign(v2)])\n",
        "    ax.text(v2[0]-0.2+v2_sgn[0], v2[1]-0.2+v2_sgn[1], f'$b_2$', fontsize=14, color=color_1)\n",
        "    \n",
        "    plt.quiver([0, 0],[0, 0], [V1[0], V2[0]], [V1[1], V2[1]], color=color_2, angles='xy', scale_units='xy', scale=1)\n",
        "    plt.plot([0,V2[0],V1[0]+V2[0],V1[0]], \n",
        "        [0,V2[1],V1[1]+V2[1],V1[1]], \n",
        "        color=color_2)\n",
        "    V1_sgn = 0.4 * np.array([[1] if i==0 else [i] for i in np.sign(V1)])\n",
        "    ax.text(V1[0]-0.2+V1_sgn[0], V1[1]-0.2+V1_sgn[1], f\"$B_1$\", fontsize=14, color=color_2)\n",
        "    V2_sgn = 0.4 * np.array([[1] if i==0 else [i] for i in np.sign(V2)])\n",
        "    ax.text(V2[0]-0.2+V2_sgn[0], V2[1]-0.2+V2_sgn[1], f'$B_2$', fontsize=14, color=color_2)\n",
        "    \n",
        "    plt.gca().set_aspect(\"equal\")\n",
        "    plt.show()\n",
        "    \n",
        "plot_vectors(np.array([[2],[1]]), np.array([[-1],[-1]]), np.array([[2],[-2]]), np.array([[1],[1]]))\n"
      ],
      "metadata": {
        "colab": {
          "base_uri": "https://localhost:8080/",
          "height": 486
        },
        "id": "N4L7MjM-npKT",
        "outputId": "c9c0a23d-3694-41fb-eaec-0d8065c52b9b"
      },
      "execution_count": null,
      "outputs": [
        {
          "output_type": "stream",
          "name": "stderr",
          "text": [
            "/usr/local/lib/python3.8/dist-packages/numpy/core/shape_base.py:65: VisibleDeprecationWarning: Creating an ndarray from ragged nested sequences (which is a list-or-tuple of lists-or-tuples-or ndarrays with different lengths or shapes) is deprecated. If you meant to do this, you must specify 'dtype=object' when creating the ndarray.\n",
            "  ary = asanyarray(ary)\n"
          ]
        },
        {
          "output_type": "display_data",
          "data": {
            "text/plain": [
              "<Figure size 504x504 with 1 Axes>"
            ],
            "image/png": "[encoded data removed]"
          },
          "metadata": {
            "needs_background": "light"
          }
        }
      ]
    },
    {
      "cell_type": "markdown",
      "source": [
        "Let $A_2=\\begin{bmatrix} 2 & 1\\\\ -2 & 1\\end{bmatrix}$ be the $2\\times 2$ matrix obtained by combining the two vectors $\\mathbf{b}'_1$, $\\mathbf{b}'_2$. \n",
        "\n",
        "$B'$ is a base of $\\mathbb{R}^2$ because the reduced row-echelon form of $A_2$ has pivots in all the columns, as shown below."
      ],
      "metadata": {
        "id": "R7rsGWY_XdJ2"
      }
    },
    {
      "cell_type": "code",
      "source": [
        "A2 = Matrix([[2, 1], [-2, 1]])\n",
        "A2"
      ],
      "metadata": {
        "colab": {
          "base_uri": "https://localhost:8080/",
          "height": 58
        },
        "id": "V1zH8USumdsh",
        "outputId": "fb257539-bffe-4cc4-f4eb-7a2cb4b2fd85"
      },
      "execution_count": null,
      "outputs": [
        {
          "output_type": "execute_result",
          "data": {
            "text/plain": [
              "Matrix([\n",
              "[ 2, 1],\n",
              "[-2, 1]])"
            ],
            "text/latex": "$\\displaystyle \\left[\\begin{matrix}2 & 1\\\\-2 & 1\\end{matrix}\\right]$"
          },
          "metadata": {},
          "execution_count": 6
        }
      ]
    },
    {
      "cell_type": "code",
      "source": [
        "A2_rr, _= A2.rref()\n",
        "A2_rr"
      ],
      "metadata": {
        "colab": {
          "base_uri": "https://localhost:8080/",
          "height": 58
        },
        "id": "GkFZec_vmmW1",
        "outputId": "c49cb4e6-a6df-4177-cb70-bd4dc9dece69"
      },
      "execution_count": null,
      "outputs": [
        {
          "output_type": "execute_result",
          "data": {
            "text/plain": [
              "Matrix([\n",
              "[1, 0],\n",
              "[0, 1]])"
            ],
            "text/latex": "$\\displaystyle \\left[\\begin{matrix}1 & 0\\\\0 & 1\\end{matrix}\\right]$"
          },
          "metadata": {},
          "execution_count": 7
        }
      ]
    },
    {
      "cell_type": "markdown",
      "source": [
        "#Part b\n",
        "\n",
        "The matrix $A_1$ is the matrix that transforms basis $B$ to the standard base in $\\mathbb{R}^2$. The matrix $A_2$ is the matrix that transforms basis $B'$ to the standard base in $\\mathbb{R}^2$. The matrix $\\mathbf{P}_1$ that performs a basis change from $B'$ to $B$ is $A_1^{-1}A_2$ and is computed below.\n"
      ],
      "metadata": {
        "id": "twD6zD_Gpzpv"
      }
    },
    {
      "cell_type": "code",
      "source": [
        "P1 = A1**(-1) * A2\n",
        "P1"
      ],
      "metadata": {
        "colab": {
          "base_uri": "https://localhost:8080/",
          "height": 58
        },
        "id": "bKK8TwoJqZ9f",
        "outputId": "1b7a0f33-3004-4980-e37d-aa962be2456c"
      },
      "execution_count": null,
      "outputs": [
        {
          "output_type": "execute_result",
          "data": {
            "text/plain": [
              "Matrix([\n",
              "[4,  0],\n",
              "[6, -1]])"
            ],
            "text/latex": "$\\displaystyle \\left[\\begin{matrix}4 & 0\\\\6 & -1\\end{matrix}\\right]$"
          },
          "metadata": {},
          "execution_count": 8
        }
      ]
    },
    {
      "cell_type": "markdown",
      "source": [
        "#Part c (i)\n",
        "\n",
        "Let $C_1=\\begin{bmatrix} 1 & 0 & 1\\\\ 2 & -1 & 0 \\\\ -1 & 2 & -1\\end{bmatrix}$ be the $3\\times 3$ matrix obtained by combining the three vectors $\\mathbf{c}_1$, $\\mathbf{c}_2$, $\\mathbf{c}_3$. \n",
        "\n",
        "$C_1$ is a base of $\\mathbb{R}^3$ because $\\mathrm{det}(C_1) = 4 \\neq 0$ as shown below."
      ],
      "metadata": {
        "id": "XYx518FSckXZ"
      }
    },
    {
      "cell_type": "code",
      "source": [
        "C1=Matrix([[1, 0, 1], [2,-1,0], [-1,2,-1]])\n",
        "C1"
      ],
      "metadata": {
        "colab": {
          "base_uri": "https://localhost:8080/",
          "height": 78
        },
        "id": "znJ_-x1hdZre",
        "outputId": "d7eaf8c9-741e-4cb3-f8bc-d720549f43a4"
      },
      "execution_count": null,
      "outputs": [
        {
          "output_type": "execute_result",
          "data": {
            "text/plain": [
              "Matrix([\n",
              "[ 1,  0,  1],\n",
              "[ 2, -1,  0],\n",
              "[-1,  2, -1]])"
            ],
            "text/latex": "$\\displaystyle \\left[\\begin{matrix}1 & 0 & 1\\\\2 & -1 & 0\\\\-1 & 2 & -1\\end{matrix}\\right]$"
          },
          "metadata": {},
          "execution_count": 9
        }
      ]
    },
    {
      "cell_type": "code",
      "source": [
        "det(C1)"
      ],
      "metadata": {
        "colab": {
          "base_uri": "https://localhost:8080/",
          "height": 37
        },
        "id": "cFAo9Zmhdgf_",
        "outputId": "fcaefc61-47fd-4e63-fd7a-4f826dd19593"
      },
      "execution_count": null,
      "outputs": [
        {
          "output_type": "execute_result",
          "data": {
            "text/plain": [
              "4"
            ],
            "text/latex": "$\\displaystyle 4$"
          },
          "metadata": {},
          "execution_count": 10
        }
      ]
    },
    {
      "cell_type": "markdown",
      "source": [
        "#Part c (ii)\n",
        "\n",
        "The matrix $\\mathbf{P}_2$ that performs the basis change from $C$ to $C'$ is the inverse of $C_1$, computed as shoiwn below."
      ],
      "metadata": {
        "id": "rmRnGIKKdltc"
      }
    },
    {
      "cell_type": "code",
      "source": [
        "P2= C1**(-1)\n",
        "P2"
      ],
      "metadata": {
        "colab": {
          "base_uri": "https://localhost:8080/",
          "height": 78
        },
        "id": "yk89WEhwd8Yr",
        "outputId": "3cd0468d-31c2-4639-9ee4-2873dd8448a4"
      },
      "execution_count": null,
      "outputs": [
        {
          "output_type": "execute_result",
          "data": {
            "text/plain": [
              "Matrix([\n",
              "[1/4,  1/2,  1/4],\n",
              "[1/2,    0,  1/2],\n",
              "[3/4, -1/2, -1/4]])"
            ],
            "text/latex": "$\\displaystyle \\left[\\begin{matrix}\\frac{1}{4} & \\frac{1}{2} & \\frac{1}{4}\\\\\\frac{1}{2} & 0 & \\frac{1}{2}\\\\\\frac{3}{4} & - \\frac{1}{2} & - \\frac{1}{4}\\end{matrix}\\right]$"
          },
          "metadata": {},
          "execution_count": 11
        }
      ]
    },
    {
      "cell_type": "markdown",
      "source": [
        "#Part d\n",
        "\n",
        "Since $\\Phi(\\mathbf{b}_1 +\\mathbf{b}_2) = \\mathbf{c}_2 +\\mathbf{c}_3$ and $\\Phi(\\mathbf{b}_1 −\\mathbf{b}_2) = 2\\mathbf{c}_1 −\\mathbf{c}_2 +3\\mathbf{c}_3$, it follows that $\\Phi(\\mathbf{b}_1) = \\mathbf{c}_1 +2\\mathbf{c}_3$ and $\\Phi(\\mathbf{b}_1) = -\\mathbf{c}_1 +\\mathbf{c}_2 -\\mathbf{c}_3$.\n",
        "\n",
        "The transformation matrix $\\mathbf{A}_\\Phi$ of $\\Phi$ with respect to the ordered bases $B$ and $C$ is the matrix $T_1=\\begin{bmatrix}\n",
        "1 & -1 \\\\\n",
        "0 & 1 \\\\\n",
        "2 & -1\n",
        "\\end{bmatrix}$."
      ],
      "metadata": {
        "id": "KVU6s5VyehhE"
      }
    },
    {
      "cell_type": "code",
      "source": [
        "T1 = Matrix([[1, -1], [0,1], [2,-1]])\n",
        "T1"
      ],
      "metadata": {
        "colab": {
          "base_uri": "https://localhost:8080/",
          "height": 78
        },
        "id": "f10h6SGUhqm1",
        "outputId": "7d78bfdf-73df-4d1a-dfea-bc1662b69ee8"
      },
      "execution_count": null,
      "outputs": [
        {
          "output_type": "execute_result",
          "data": {
            "text/plain": [
              "Matrix([\n",
              "[1, -1],\n",
              "[0,  1],\n",
              "[2, -1]])"
            ],
            "text/latex": "$\\displaystyle \\left[\\begin{matrix}1 & -1\\\\0 & 1\\\\2 & -1\\end{matrix}\\right]$"
          },
          "metadata": {},
          "execution_count": 12
        }
      ]
    },
    {
      "cell_type": "markdown",
      "source": [
        "#Part e \n",
        "\n",
        "$A'$, the transformation matrix of $\\Phi$ with respect to the bases $B'$ and $C'$, is the matrix $T_2=P_2T_1P_1$.\n"
      ],
      "metadata": {
        "id": "t8Fu9JyEgeqW"
      }
    },
    {
      "cell_type": "code",
      "source": [
        "T2=P2*T1*P1\n",
        "T2"
      ],
      "metadata": {
        "colab": {
          "base_uri": "https://localhost:8080/",
          "height": 78
        },
        "id": "b8BlaK-mgIbf",
        "outputId": "ad0db441-b5c5-4d65-84da-902f0e62a3b7"
      },
      "execution_count": null,
      "outputs": [
        {
          "output_type": "execute_result",
          "data": {
            "text/plain": [
              "Matrix([\n",
              "[ 3, 0],\n",
              "[ 0, 1],\n",
              "[-5, 1]])"
            ],
            "text/latex": "$\\displaystyle \\left[\\begin{matrix}3 & 0\\\\0 & 1\\\\-5 & 1\\end{matrix}\\right]$"
          },
          "metadata": {},
          "execution_count": 13
        }
      ]
    },
    {
      "cell_type": "markdown",
      "source": [
        "#Part f (i)\n",
        "\n",
        "The coordinates of $\\mathbf{x}$ in $B$ is $P_1\\cdot \\begin{bmatrix} 2 \\\\ 3\\end{bmatrix}$ and is computed below.\n"
      ],
      "metadata": {
        "id": "qujo3w2kglXV"
      }
    },
    {
      "cell_type": "code",
      "source": [
        "P1*Matrix([[2],[3]])"
      ],
      "metadata": {
        "colab": {
          "base_uri": "https://localhost:8080/",
          "height": 58
        },
        "id": "8sWycXmGkRPZ",
        "outputId": "3ab20906-fc39-4b55-e216-bb8daa3c879d"
      },
      "execution_count": null,
      "outputs": [
        {
          "output_type": "execute_result",
          "data": {
            "text/plain": [
              "Matrix([\n",
              "[8],\n",
              "[9]])"
            ],
            "text/latex": "$\\displaystyle \\left[\\begin{matrix}8\\\\9\\end{matrix}\\right]$"
          },
          "metadata": {},
          "execution_count": 14
        }
      ]
    },
    {
      "cell_type": "markdown",
      "source": [
        "#Part f (ii)\n",
        "\n",
        "The coordinates of $\\Phi(\\mathbf{x})$ expressed in $C$ are computed below."
      ],
      "metadata": {
        "id": "07ZIaMLEgstd"
      }
    },
    {
      "cell_type": "code",
      "source": [
        "T1*(P1*Matrix([[2],[3]]))"
      ],
      "metadata": {
        "colab": {
          "base_uri": "https://localhost:8080/",
          "height": 78
        },
        "id": "ku6Afn6Lknu3",
        "outputId": "416d39fe-d7b3-4c8f-f7c0-42f0df9c230e"
      },
      "execution_count": null,
      "outputs": [
        {
          "output_type": "execute_result",
          "data": {
            "text/plain": [
              "Matrix([\n",
              "[-1],\n",
              "[ 9],\n",
              "[ 7]])"
            ],
            "text/latex": "$\\displaystyle \\left[\\begin{matrix}-1\\\\9\\\\7\\end{matrix}\\right]$"
          },
          "metadata": {},
          "execution_count": 15
        }
      ]
    },
    {
      "cell_type": "markdown",
      "source": [
        "#Part f (iii)\n",
        "\n",
        "\n",
        "$\\Phi(\\mathbf{x}) = 6\\mathbf{c}'_1 + 3\\mathbf{c}'_2 -7\\mathbf{c}'_3$ as computed below.\n"
      ],
      "metadata": {
        "id": "s7GiXkjegxuo"
      }
    },
    {
      "cell_type": "code",
      "source": [
        "P2*(T1*(P1*Matrix([[2],[3]])))"
      ],
      "metadata": {
        "colab": {
          "base_uri": "https://localhost:8080/",
          "height": 78
        },
        "id": "_--MhiBwk4Mn",
        "outputId": "8613a1cc-aec4-4545-f50a-d2de80396aa8"
      },
      "execution_count": null,
      "outputs": [
        {
          "output_type": "execute_result",
          "data": {
            "text/plain": [
              "Matrix([\n",
              "[ 6],\n",
              "[ 3],\n",
              "[-7]])"
            ],
            "text/latex": "$\\displaystyle \\left[\\begin{matrix}6\\\\3\\\\-7\\end{matrix}\\right]$"
          },
          "metadata": {},
          "execution_count": 16
        }
      ]
    },
    {
      "cell_type": "markdown",
      "source": [
        "#Part f (iv)\n",
        "\n",
        "\n",
        "Using the matrix $A'$, the representation of $\\mathbf{x}$ in $B'$ is $\\Phi(\\mathbf{x}) = 6\\mathbf{c}'_1 + 3\\mathbf{c}'_2 -7\\mathbf{c}'_3$, as shown below."
      ],
      "metadata": {
        "id": "mAovNcrVg1zy"
      }
    },
    {
      "cell_type": "code",
      "source": [
        "T2*Matrix([[2],[3]])"
      ],
      "metadata": {
        "colab": {
          "base_uri": "https://localhost:8080/",
          "height": 78
        },
        "id": "dTman28Ilfa1",
        "outputId": "241852ba-333c-4655-af32-1c740f0a9b80"
      },
      "execution_count": null,
      "outputs": [
        {
          "output_type": "execute_result",
          "data": {
            "text/plain": [
              "Matrix([\n",
              "[ 6],\n",
              "[ 3],\n",
              "[-7]])"
            ],
            "text/latex": "$\\displaystyle \\left[\\begin{matrix}6\\\\3\\\\-7\\end{matrix}\\right]$"
          },
          "metadata": {},
          "execution_count": 17
        }
      ]
    }
  ]
}