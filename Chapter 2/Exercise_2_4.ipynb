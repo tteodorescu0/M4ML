{
  "nbformat": 4,
  "nbformat_minor": 0,
  "metadata": {
    "colab": {
      "provenance": [],
      "authorship_tag": "ABX9TyMS5xROPoWFJivOuX4DXr9V",
      "include_colab_link": true
    },
    "kernelspec": {
      "name": "python3",
      "display_name": "Python 3"
    },
    "language_info": {
      "name": "python"
    }
  },
  "cells": [
    {
      "cell_type": "markdown",
      "metadata": {
        "id": "view-in-github",
        "colab_type": "text"
      },
      "source": [
        "<a href=\"https://colab.research.google.com/github/tteodorescu0/M4ML/blob/main/Chapter%202/Exercise_2_4.ipynb\" target=\"_parent\"><img src=\"https://colab.research.google.com/assets/colab-badge.svg\" alt=\"Open In Colab\"/></a>"
      ]
    },
    {
      "cell_type": "markdown",
      "source": [
        "#Exercise 2.4\n",
        "\n",
        "Compute the following matrix products, if possible:\n",
        "\n",
        "a. $\\begin{bmatrix}\n",
        "1 & 2 \\\\\n",
        "4 & 5 \\\\\n",
        "7 & 8 \n",
        "\\end{bmatrix} \\begin{bmatrix}\n",
        "1 & 1 & 0 \\\\\n",
        "0 & 1 & 1 \\\\\n",
        "1 & 0 & 1\n",
        "\\end{bmatrix}$\n",
        "\n",
        "b. $\\begin{bmatrix}\n",
        "1 & 2 & 3 \\\\\n",
        "4 & 5 & 6 \\\\\n",
        "7 & 8 & 9\n",
        "\\end{bmatrix} \\begin{bmatrix}\n",
        "1 & 1 & 0 \\\\\n",
        "0 & 1 & 1 \\\\\n",
        "1 & 0 & 1\n",
        "\\end{bmatrix}$\n",
        "\n",
        "c. $\\begin{bmatrix}\n",
        "1 & 1 & 0 \\\\\n",
        "0 & 1 & 1 \\\\\n",
        "1 & 0 & 1\n",
        "\\end{bmatrix} \\cdot \\begin{bmatrix}\n",
        "1 & 2 & 3 \\\\\n",
        "4 & 5 & 6 \\\\\n",
        "7 & 8 & 9\n",
        "\\end{bmatrix}$\n",
        "\n",
        "d. $\\begin{bmatrix}\n",
        "1 & 2 & 1 & 2 \\\\\n",
        "4 & 1 & -1 & -4\n",
        "\\end{bmatrix} \\begin{bmatrix}\n",
        "0 & 3 \\\\\n",
        "1 & -1 \\\\\n",
        "2 & 1 \\\\\n",
        "5 & 2\n",
        "\\end{bmatrix}$\n",
        "\n",
        "e. $\\begin{bmatrix}\n",
        "0 & 3 \\\\\n",
        "1 & -1 \\\\\n",
        "2 & 1 \\\\\n",
        "5 & 2\n",
        "\\end{bmatrix} \\begin{bmatrix}\n",
        "1 & 2 & 1 & 2 \\\\\n",
        "4 & 1 & -1 & -4\n",
        "\\end{bmatrix}$"
      ],
      "metadata": {
        "id": "RLezh7wRDq_M"
      }
    },
    {
      "cell_type": "markdown",
      "source": [
        "#Solution"
      ],
      "metadata": {
        "id": "OXWjFNL_y0bq"
      }
    },
    {
      "cell_type": "code",
      "source": [
        "#import numpy as np\n",
        "from sympy import *\n",
        "A = Matrix([[1, 2], [4, 5], [7, 8]])\n",
        "B = Matrix([[1, 1, 0], [0, 1, 1], [1, 0, 1]])\n",
        "C = Matrix([[1, 2, 3], [4, 5, 6], [7, 8, 9]])\n",
        "D = Matrix([[1, 2, 1, 2], [4, 1, -1, -4]])\n",
        "E = Matrix([[0, 3], [1, -1], [2, 1], [5, 2]])"
      ],
      "metadata": {
        "id": "Utk2N7E5y2Hh"
      },
      "execution_count": 2,
      "outputs": []
    },
    {
      "cell_type": "markdown",
      "source": [
        "#Part a\n",
        "The multiplication is undefined because of matrix size mismatch, as shown below."
      ],
      "metadata": {
        "id": "7_xeTR8zFT7K"
      }
    },
    {
      "cell_type": "code",
      "source": [
        "A * B"
      ],
      "metadata": {
        "colab": {
          "base_uri": "https://localhost:8080/",
          "height": 307
        },
        "id": "WDb1TDPooDCl",
        "outputId": "d4f0e54a-4b15-44fd-a505-59ae97c7d890"
      },
      "execution_count": 3,
      "outputs": [
        {
          "output_type": "error",
          "ename": "ShapeError",
          "evalue": "ignored",
          "traceback": [
            "\u001b[0;31m---------------------------------------------------------------------------\u001b[0m",
            "\u001b[0;31mShapeError\u001b[0m                                Traceback (most recent call last)",
            "\u001b[0;32m<ipython-input-3-a4cedde81ed0>\u001b[0m in \u001b[0;36m<module>\u001b[0;34m\u001b[0m\n\u001b[0;32m----> 1\u001b[0;31m \u001b[0mA\u001b[0m \u001b[0;34m*\u001b[0m \u001b[0mB\u001b[0m\u001b[0;34m\u001b[0m\u001b[0;34m\u001b[0m\u001b[0m\n\u001b[0m",
            "\u001b[0;32m/usr/local/lib/python3.8/dist-packages/sympy/core/decorators.py\u001b[0m in \u001b[0;36mbinary_op_wrapper\u001b[0;34m(self, other)\u001b[0m\n\u001b[1;32m    135\u001b[0m                     \u001b[0;32mif\u001b[0m \u001b[0mf\u001b[0m \u001b[0;32mis\u001b[0m \u001b[0;32mnot\u001b[0m \u001b[0;32mNone\u001b[0m\u001b[0;34m:\u001b[0m\u001b[0;34m\u001b[0m\u001b[0;34m\u001b[0m\u001b[0m\n\u001b[1;32m    136\u001b[0m                         \u001b[0;32mreturn\u001b[0m \u001b[0mf\u001b[0m\u001b[0;34m(\u001b[0m\u001b[0mself\u001b[0m\u001b[0;34m)\u001b[0m\u001b[0;34m\u001b[0m\u001b[0;34m\u001b[0m\u001b[0m\n\u001b[0;32m--> 137\u001b[0;31m             \u001b[0;32mreturn\u001b[0m \u001b[0mfunc\u001b[0m\u001b[0;34m(\u001b[0m\u001b[0mself\u001b[0m\u001b[0;34m,\u001b[0m \u001b[0mother\u001b[0m\u001b[0;34m)\u001b[0m\u001b[0;34m\u001b[0m\u001b[0;34m\u001b[0m\u001b[0m\n\u001b[0m\u001b[1;32m    138\u001b[0m         \u001b[0;32mreturn\u001b[0m \u001b[0mbinary_op_wrapper\u001b[0m\u001b[0;34m\u001b[0m\u001b[0;34m\u001b[0m\u001b[0m\n\u001b[1;32m    139\u001b[0m     \u001b[0;32mreturn\u001b[0m \u001b[0mpriority_decorator\u001b[0m\u001b[0;34m\u001b[0m\u001b[0;34m\u001b[0m\u001b[0m\n",
            "\u001b[0;32m/usr/local/lib/python3.8/dist-packages/sympy/matrices/common.py\u001b[0m in \u001b[0;36m__mul__\u001b[0;34m(self, other)\u001b[0m\n\u001b[1;32m   2605\u001b[0m         \"\"\"\n\u001b[1;32m   2606\u001b[0m \u001b[0;34m\u001b[0m\u001b[0m\n\u001b[0;32m-> 2607\u001b[0;31m         \u001b[0;32mreturn\u001b[0m \u001b[0mself\u001b[0m\u001b[0;34m.\u001b[0m\u001b[0mmultiply\u001b[0m\u001b[0;34m(\u001b[0m\u001b[0mother\u001b[0m\u001b[0;34m)\u001b[0m\u001b[0;34m\u001b[0m\u001b[0;34m\u001b[0m\u001b[0m\n\u001b[0m\u001b[1;32m   2608\u001b[0m \u001b[0;34m\u001b[0m\u001b[0m\n\u001b[1;32m   2609\u001b[0m     \u001b[0;32mdef\u001b[0m \u001b[0mmultiply\u001b[0m\u001b[0;34m(\u001b[0m\u001b[0mself\u001b[0m\u001b[0;34m,\u001b[0m \u001b[0mother\u001b[0m\u001b[0;34m,\u001b[0m \u001b[0mdotprodsimp\u001b[0m\u001b[0;34m=\u001b[0m\u001b[0;32mNone\u001b[0m\u001b[0;34m)\u001b[0m\u001b[0;34m:\u001b[0m\u001b[0;34m\u001b[0m\u001b[0;34m\u001b[0m\u001b[0m\n",
            "\u001b[0;32m/usr/local/lib/python3.8/dist-packages/sympy/matrices/common.py\u001b[0m in \u001b[0;36mmultiply\u001b[0;34m(self, other, dotprodsimp)\u001b[0m\n\u001b[1;32m   2627\u001b[0m              getattr(other, 'is_MatrixLike', True))):\n\u001b[1;32m   2628\u001b[0m             \u001b[0;32mif\u001b[0m \u001b[0mself\u001b[0m\u001b[0;34m.\u001b[0m\u001b[0mshape\u001b[0m\u001b[0;34m[\u001b[0m\u001b[0;36m1\u001b[0m\u001b[0;34m]\u001b[0m \u001b[0;34m!=\u001b[0m \u001b[0mother\u001b[0m\u001b[0;34m.\u001b[0m\u001b[0mshape\u001b[0m\u001b[0;34m[\u001b[0m\u001b[0;36m0\u001b[0m\u001b[0;34m]\u001b[0m\u001b[0;34m:\u001b[0m\u001b[0;34m\u001b[0m\u001b[0;34m\u001b[0m\u001b[0m\n\u001b[0;32m-> 2629\u001b[0;31m                 raise ShapeError(\"Matrix size mismatch: %s * %s.\" % (\n\u001b[0m\u001b[1;32m   2630\u001b[0m                     self.shape, other.shape))\n\u001b[1;32m   2631\u001b[0m \u001b[0;34m\u001b[0m\u001b[0m\n",
            "\u001b[0;31mShapeError\u001b[0m: Matrix size mismatch: (3, 2) * (3, 3)."
          ]
        }
      ]
    },
    {
      "cell_type": "markdown",
      "source": [
        "#Part b"
      ],
      "metadata": {
        "id": "CScMNB3HnlU-"
      }
    },
    {
      "cell_type": "code",
      "source": [
        "B*C"
      ],
      "metadata": {
        "colab": {
          "base_uri": "https://localhost:8080/",
          "height": 78
        },
        "id": "8sbtcUf7qjg1",
        "outputId": "6f1f5f43-fc25-437f-abc8-3c0cd0f7fcd9"
      },
      "execution_count": 4,
      "outputs": [
        {
          "output_type": "execute_result",
          "data": {
            "text/plain": [
              "Matrix([\n",
              "[ 5,  7,  9],\n",
              "[11, 13, 15],\n",
              "[ 8, 10, 12]])"
            ],
            "text/latex": "$\\displaystyle \\left[\\begin{matrix}5 & 7 & 9\\\\11 & 13 & 15\\\\8 & 10 & 12\\end{matrix}\\right]$"
          },
          "metadata": {},
          "execution_count": 4
        }
      ]
    },
    {
      "cell_type": "markdown",
      "source": [
        "#Part c"
      ],
      "metadata": {
        "id": "8heTSsHMnmlo"
      }
    },
    {
      "cell_type": "code",
      "source": [
        "C*B"
      ],
      "metadata": {
        "colab": {
          "base_uri": "https://localhost:8080/",
          "height": 78
        },
        "id": "Gf5UkvXZrKq-",
        "outputId": "3f4d98d0-eea4-48e1-e878-c1ca39f71390"
      },
      "execution_count": 5,
      "outputs": [
        {
          "output_type": "execute_result",
          "data": {
            "text/plain": [
              "Matrix([\n",
              "[ 4,  3,  5],\n",
              "[10,  9, 11],\n",
              "[16, 15, 17]])"
            ],
            "text/latex": "$\\displaystyle \\left[\\begin{matrix}4 & 3 & 5\\\\10 & 9 & 11\\\\16 & 15 & 17\\end{matrix}\\right]$"
          },
          "metadata": {},
          "execution_count": 5
        }
      ]
    },
    {
      "cell_type": "markdown",
      "source": [
        "#Part d"
      ],
      "metadata": {
        "id": "p6UcS7T_nne8"
      }
    },
    {
      "cell_type": "code",
      "source": [
        "D*E"
      ],
      "metadata": {
        "colab": {
          "base_uri": "https://localhost:8080/",
          "height": 58
        },
        "id": "fb9eIzDWsED0",
        "outputId": "1404a934-820f-4186-a6b6-2a3a093f51b8"
      },
      "execution_count": 6,
      "outputs": [
        {
          "output_type": "execute_result",
          "data": {
            "text/plain": [
              "Matrix([\n",
              "[ 14, 6],\n",
              "[-21, 2]])"
            ],
            "text/latex": "$\\displaystyle \\left[\\begin{matrix}14 & 6\\\\-21 & 2\\end{matrix}\\right]$"
          },
          "metadata": {},
          "execution_count": 6
        }
      ]
    },
    {
      "cell_type": "markdown",
      "source": [
        "#Part e"
      ],
      "metadata": {
        "id": "vnwygyV7nofq"
      }
    },
    {
      "cell_type": "code",
      "source": [
        "E*D"
      ],
      "metadata": {
        "colab": {
          "base_uri": "https://localhost:8080/",
          "height": 98
        },
        "id": "G3e_SVj6tOfY",
        "outputId": "32e49d13-4e90-4bbb-a254-d30952653501"
      },
      "execution_count": 7,
      "outputs": [
        {
          "output_type": "execute_result",
          "data": {
            "text/plain": [
              "Matrix([\n",
              "[12,  3, -3, -12],\n",
              "[-3,  1,  2,   6],\n",
              "[ 6,  5,  1,   0],\n",
              "[13, 12,  3,   2]])"
            ],
            "text/latex": "$\\displaystyle \\left[\\begin{matrix}12 & 3 & -3 & -12\\\\-3 & 1 & 2 & 6\\\\6 & 5 & 1 & 0\\\\13 & 12 & 3 & 2\\end{matrix}\\right]$"
          },
          "metadata": {},
          "execution_count": 7
        }
      ]
    }
  ]
}