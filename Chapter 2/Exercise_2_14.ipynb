{
  "nbformat": 4,
  "nbformat_minor": 0,
  "metadata": {
    "colab": {
      "provenance": [],
      "authorship_tag": "ABX9TyNlZ58yPGD8MNPsOfLq5vFp",
      "include_colab_link": true
    },
    "kernelspec": {
      "name": "python3",
      "display_name": "Python 3"
    },
    "language_info": {
      "name": "python"
    }
  },
  "cells": [
    {
      "cell_type": "markdown",
      "metadata": {
        "id": "view-in-github",
        "colab_type": "text"
      },
      "source": [
        "<a href=\"https://colab.research.google.com/github/tteodorescu0/M4ML/blob/main/Chapter%202/Exercise_2_14.ipynb\" target=\"_parent\"><img src=\"https://colab.research.google.com/assets/colab-badge.svg\" alt=\"Open In Colab\"/></a>"
      ]
    },
    {
      "cell_type": "markdown",
      "source": [
        "#Exercise 2.14\n",
        "\n",
        "Consider two subspaces $U_1$ and $U_2$, where $U_1$ is spanned by the columns of $\\mathbf{A}_1$ and $U_2$ is spanned by the columns of $\\mathbf{A}_2$ with\n",
        "\n",
        "\n",
        "$$\\mathbf{A}_1 = \\begin{bmatrix} 1 & 0 & 1 \\\\ 1 & -2 & -1 \\\\ 2 & 1 & 3 \\\\ 1 & 0 & 1\\end{bmatrix}, \n",
        "\\mathbf{A}_2 =  \\begin{bmatrix} 3 & -3 & 0 \\\\ 1 & 2 & 3 \\\\ 7 & -5 & 2 \\\\ 3 & -1 & 2 \\end{bmatrix}\n",
        "$$\n",
        "\n",
        "\n",
        "\n",
        "a. Determine the dimension of $U_1$ , $U_2$.\n",
        "\n",
        "b. Determine bases of $U_1$ , $U_2$.\n",
        "\n",
        "c. Determine a basis of $U_1 \\cap U_2$."
      ],
      "metadata": {
        "id": "RLezh7wRDq_M"
      }
    },
    {
      "cell_type": "code",
      "source": [
        "from sympy import *"
      ],
      "metadata": {
        "id": "qt0m4eqx-w7M"
      },
      "execution_count": null,
      "outputs": []
    },
    {
      "cell_type": "markdown",
      "source": [
        "#Solution: Parts a and b\n",
        "\n",
        "Compute the reduced row-echelon form of the transpose of $\\mathbf{A}_1$."
      ],
      "metadata": {
        "id": "h7z2M74DEdWS"
      }
    },
    {
      "cell_type": "code",
      "source": [
        "A1 = Matrix([[1, 0, 1], [1, -2, -1], [2, 1, 3], [1, 0, 1]]).transpose()\n",
        "A1"
      ],
      "metadata": {
        "id": "Utk2N7E5y2Hh",
        "colab": {
          "base_uri": "https://localhost:8080/",
          "height": 78
        },
        "outputId": "86885b10-ea13-4d19-ca04-5c5e2a406a6f"
      },
      "execution_count": null,
      "outputs": [
        {
          "output_type": "execute_result",
          "data": {
            "text/plain": [
              "Matrix([\n",
              "[1,  1, 2, 1],\n",
              "[0, -2, 1, 0],\n",
              "[1, -1, 3, 1]])"
            ],
            "text/latex": "$\\displaystyle \\left[\\begin{matrix}1 & 1 & 2 & 1\\\\0 & -2 & 1 & 0\\\\1 & -1 & 3 & 1\\end{matrix}\\right]$"
          },
          "metadata": {},
          "execution_count": 3
        }
      ]
    },
    {
      "cell_type": "code",
      "source": [
        "B1, _= A1.rref()\n",
        "B1"
      ],
      "metadata": {
        "colab": {
          "base_uri": "https://localhost:8080/",
          "height": 78
        },
        "id": "dgWMiLVEFK6R",
        "outputId": "d9ccc208-4f18-49e5-eabd-6bf953f1eb5c"
      },
      "execution_count": null,
      "outputs": [
        {
          "output_type": "execute_result",
          "data": {
            "text/plain": [
              "Matrix([\n",
              "[1, 0,  5/2, 1],\n",
              "[0, 1, -1/2, 0],\n",
              "[0, 0,    0, 0]])"
            ],
            "text/latex": "$\\displaystyle \\left[\\begin{matrix}1 & 0 & \\frac{5}{2} & 1\\\\0 & 1 & - \\frac{1}{2} & 0\\\\0 & 0 & 0 & 0\\end{matrix}\\right]$"
          },
          "metadata": {},
          "execution_count": 4
        }
      ]
    },
    {
      "cell_type": "markdown",
      "source": [
        "The dimension of $U_1$ is 2. A basis of $U_1$ is $ \\{ \\begin{bmatrix} 1 \\\\ 0  \\\\ \\frac{5}{2} \\\\ 1 \\end{bmatrix}, \\begin{bmatrix} 0 \\\\ 1  \\\\ -\\frac{1}{2} \\\\ 0 \\end{bmatrix} \\}\n",
        "$"
      ],
      "metadata": {
        "id": "0k05dopYKfYy"
      }
    },
    {
      "cell_type": "markdown",
      "source": [
        "Compute the reduced row-echelon form of the transpose of $\\mathbf{A}_2$."
      ],
      "metadata": {
        "id": "t--CupMwW5Q7"
      }
    },
    {
      "cell_type": "code",
      "source": [
        "A2 = Matrix([[3, -3, 0], [1, 2, 3], [7, -5, 2], [3, -1, 2]]).transpose()\n",
        "A2"
      ],
      "metadata": {
        "colab": {
          "base_uri": "https://localhost:8080/",
          "height": 78
        },
        "id": "QTVzoqiBW6h9",
        "outputId": "c333b273-4e93-4c16-daad-7d19a4ce7dc8"
      },
      "execution_count": null,
      "outputs": [
        {
          "output_type": "execute_result",
          "data": {
            "text/plain": [
              "Matrix([\n",
              "[ 3, 1,  7,  3],\n",
              "[-3, 2, -5, -1],\n",
              "[ 0, 3,  2,  2]])"
            ],
            "text/latex": "$\\displaystyle \\left[\\begin{matrix}3 & 1 & 7 & 3\\\\-3 & 2 & -5 & -1\\\\0 & 3 & 2 & 2\\end{matrix}\\right]$"
          },
          "metadata": {},
          "execution_count": 5
        }
      ]
    },
    {
      "cell_type": "code",
      "source": [
        "B2, _= A2.rref()\n",
        "B2"
      ],
      "metadata": {
        "colab": {
          "base_uri": "https://localhost:8080/",
          "height": 78
        },
        "id": "eevDat1fXIok",
        "outputId": "337b921b-09af-4d2a-d6bd-a34d93c14ef2"
      },
      "execution_count": null,
      "outputs": [
        {
          "output_type": "execute_result",
          "data": {
            "text/plain": [
              "Matrix([\n",
              "[1, 0, 19/9, 7/9],\n",
              "[0, 1,  2/3, 2/3],\n",
              "[0, 0,    0,   0]])"
            ],
            "text/latex": "$\\displaystyle \\left[\\begin{matrix}1 & 0 & \\frac{19}{9} & \\frac{7}{9}\\\\0 & 1 & \\frac{2}{3} & \\frac{2}{3}\\\\0 & 0 & 0 & 0\\end{matrix}\\right]$"
          },
          "metadata": {},
          "execution_count": 6
        }
      ]
    },
    {
      "cell_type": "markdown",
      "source": [
        "The dimension of $U_2$ is 2. A basis of $U_2$ is $ \\{ \\begin{bmatrix} 1 \\\\ 0  \\\\ \\frac{19}{9} \\\\ \\frac{7}{9} \\end{bmatrix}, \\begin{bmatrix} 0 \\\\ 1  \\\\ \\frac{2}{3} \\\\ \\frac{2}{3} \\end{bmatrix} \\}\n",
        "$"
      ],
      "metadata": {
        "id": "R7rsGWY_XdJ2"
      }
    },
    {
      "cell_type": "markdown",
      "source": [
        "#Part c\n",
        "\n",
        "An element of $U_1\\cap U_2$ gives the equation \n",
        "\n",
        "$$ \\lambda_1 \\begin{bmatrix} 1 \\\\ 0  \\\\ \\frac{5}{2} \\\\ 1 \\end{bmatrix} + \\lambda_2 \\begin{bmatrix} 0 \\\\ 1  \\\\ -\\frac{1}{2} \\\\ 0 \\end{bmatrix}= \n",
        "\\lambda_3 \\begin{bmatrix} 1 \\\\ 0  \\\\ \\frac{19}{9} \\\\ \\frac{7}{9} \\end{bmatrix}+\n",
        "\\lambda_4 \\begin{bmatrix} 0 \\\\ 1  \\\\ \\frac{2}{3} \\\\ \\frac{2}{3} \\end{bmatrix}\n",
        "$$\n",
        "\n",
        "which is equivalent to\n",
        "\n",
        "$$ \\begin{bmatrix} \\lambda_1 \\\\ \\lambda_2  \\\\ \\frac{5}{2}\\lambda_1 - \\frac{1}{2}\\lambda_2\\\\ \\lambda_1 \\end{bmatrix} = \n",
        " \\begin{bmatrix} \\lambda_3 \\\\ \\lambda_4  \\\\ \\frac{19}{9}\\lambda_3 + \\frac{2}{3}\\lambda_4\\\\ \\frac{7}{9}\\lambda_3 + \\frac{2}{3}\\lambda_4 \\end{bmatrix}\n",
        "$$\n",
        "\n",
        "with solution $(\\lambda_1,\\lambda_2,\\lambda_3,\\lambda_4)=a(3, 1, 3, 1)$, where $a\\in \\mathbb{R}$.\n",
        "\n",
        "An element of $U_1\\cap U_2$ has the form\n",
        "\n",
        "$$ 3a\\begin{bmatrix} 1 \\\\ 0  \\\\ \\frac{5}{2} \\\\ 1 \\end{bmatrix} + a \\begin{bmatrix} 0 \\\\ 1  \\\\ -\\frac{1}{2} \\\\ 0 \\end{bmatrix} = \n",
        "\\begin{bmatrix} 3a \\\\ a  \\\\ 7a \\\\ 3a \\end{bmatrix}= \n",
        "a \\begin{bmatrix} 3 \\\\ 1  \\\\ 7 \\\\ 3 \\end{bmatrix}\n",
        "$$\n",
        "\n",
        "The dimension of $U_1\\cap U_2$ is 1. A basis of $U_1\\cap U_2$ is $\\{\\begin{bmatrix} 3 \\\\ 1  \\\\ 7 \\\\ 3 \\end{bmatrix} \\}\n",
        "$"
      ],
      "metadata": {
        "id": "ui86vH7AXshF"
      }
    }
  ]
}