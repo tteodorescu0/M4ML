{
  "nbformat": 4,
  "nbformat_minor": 0,
  "metadata": {
    "colab": {
      "provenance": [],
      "authorship_tag": "ABX9TyM3QMVCIXE5VqBQJC5bn7ZH",
      "include_colab_link": true
    },
    "kernelspec": {
      "name": "python3",
      "display_name": "Python 3"
    },
    "language_info": {
      "name": "python"
    }
  },
  "cells": [
    {
      "cell_type": "markdown",
      "metadata": {
        "id": "view-in-github",
        "colab_type": "text"
      },
      "source": [
        "<a href=\"https://colab.research.google.com/github/tteodorescu0/M4ML/blob/main/Chapter%202/Exercise_2_8.ipynb\" target=\"_parent\"><img src=\"https://colab.research.google.com/assets/colab-badge.svg\" alt=\"Open In Colab\"/></a>"
      ]
    },
    {
      "cell_type": "markdown",
      "source": [
        "#Exercise 2.8\n",
        "\n",
        "\n",
        "Determine the inverses of the following matrices if possible:\n",
        "\n",
        "a.\n",
        "$$\\boldsymbol{A}=\\begin{bmatrix}\n",
        "2 & 3 & 4  \\\\\n",
        "3 & 4 & 5 \\\\\n",
        "4 & 5 & 6 \n",
        "\\end{bmatrix}$$\n",
        "b.\n",
        "$$\\boldsymbol{A}=\\begin{bmatrix}\n",
        "1 & 0 & 1 & 0 \\\\\n",
        "0 & 1 & 1 & 0 \\\\\n",
        "1 & 1 & 0 & 1 \\\\\n",
        "1 & 1 & 1 & 0\n",
        "\\end{bmatrix}$$"
      ],
      "metadata": {
        "id": "RLezh7wRDq_M"
      }
    },
    {
      "cell_type": "code",
      "source": [
        "from sympy import *"
      ],
      "metadata": {
        "id": "qt0m4eqx-w7M"
      },
      "execution_count": null,
      "outputs": []
    },
    {
      "cell_type": "markdown",
      "source": [
        "#Part a: Solution 1\n",
        "\n",
        "Since $R_1-2R_2+R_3=0$, the rows are not linearly independent, so the matrix is not invertible."
      ],
      "metadata": {
        "id": "lI45sQQa7soy"
      }
    },
    {
      "cell_type": "markdown",
      "source": [
        "#Part a: Solution 2\n",
        "\n",
        "We consider the augmented matrix $A|I_3$ and compute its reduced row-echelon form."
      ],
      "metadata": {
        "id": "h7z2M74DEdWS"
      }
    },
    {
      "cell_type": "code",
      "source": [
        "A = Matrix([[2, 3, 4, 1, 0, 0], [3, 4, 5, 0, 1, 0], [4, 5, 6, 0, 0, 1]])\n",
        "A"
      ],
      "metadata": {
        "id": "Utk2N7E5y2Hh",
        "colab": {
          "base_uri": "https://localhost:8080/",
          "height": 78
        },
        "outputId": "67390865-8093-4e7b-f0e2-7f134e424a0a"
      },
      "execution_count": null,
      "outputs": [
        {
          "output_type": "execute_result",
          "data": {
            "text/plain": [
              "Matrix([\n",
              "[2, 3, 4, 1, 0, 0],\n",
              "[3, 4, 5, 0, 1, 0],\n",
              "[4, 5, 6, 0, 0, 1]])"
            ],
            "text/latex": "$\\displaystyle \\left[\\begin{matrix}2 & 3 & 4 & 1 & 0 & 0\\\\3 & 4 & 5 & 0 & 1 & 0\\\\4 & 5 & 6 & 0 & 0 & 1\\end{matrix}\\right]$"
          },
          "metadata": {},
          "execution_count": 2
        }
      ]
    },
    {
      "cell_type": "code",
      "source": [
        "A.rref()"
      ],
      "metadata": {
        "colab": {
          "base_uri": "https://localhost:8080/"
        },
        "id": "dgWMiLVEFK6R",
        "outputId": "a07ddff9-eeac-4cea-801c-3eaa4c5ec1b2"
      },
      "execution_count": null,
      "outputs": [
        {
          "output_type": "execute_result",
          "data": {
            "text/plain": [
              "(Matrix([\n",
              " [1, 0, -1, 0, -5,  4],\n",
              " [0, 1,  2, 0,  4, -3],\n",
              " [0, 0,  0, 1, -2,  1]]), (0, 1, 3))"
            ]
          },
          "metadata": {},
          "execution_count": 3
        }
      ]
    },
    {
      "cell_type": "markdown",
      "source": [
        "Since the pivots are in the first and second columns but not in the third column, the matrix does not have an inverse."
      ],
      "metadata": {
        "id": "4Nv6BNb6FcV2"
      }
    },
    {
      "cell_type": "markdown",
      "source": [
        "#Part b: Solution\n",
        "\n",
        "We consider the augmented matrix $A|I_3$ and compute its reduced row-echelon form."
      ],
      "metadata": {
        "id": "KWr8v0lXFsUy"
      }
    },
    {
      "cell_type": "code",
      "source": [
        "Aug = Matrix([[1, 0, 1, 0, 1, 0, 0, 0], [0, 1, 1, 0, 0, 1, 0, 0], [1, 1, 0, 1, 0, 0, 1, 0], [1, 1, 1, 0, 0, 0, 0, 1]])\n",
        "Aug"
      ],
      "metadata": {
        "colab": {
          "base_uri": "https://localhost:8080/",
          "height": 98
        },
        "id": "E43zVObm_qAA",
        "outputId": "a1200456-6aec-4302-e12d-0a5fc622cf9a"
      },
      "execution_count": null,
      "outputs": [
        {
          "output_type": "execute_result",
          "data": {
            "text/plain": [
              "Matrix([\n",
              "[1, 0, 1, 0, 1, 0, 0, 0],\n",
              "[0, 1, 1, 0, 0, 1, 0, 0],\n",
              "[1, 1, 0, 1, 0, 0, 1, 0],\n",
              "[1, 1, 1, 0, 0, 0, 0, 1]])"
            ],
            "text/latex": "$\\displaystyle \\left[\\begin{matrix}1 & 0 & 1 & 0 & 1 & 0 & 0 & 0\\\\0 & 1 & 1 & 0 & 0 & 1 & 0 & 0\\\\1 & 1 & 0 & 1 & 0 & 0 & 1 & 0\\\\1 & 1 & 1 & 0 & 0 & 0 & 0 & 1\\end{matrix}\\right]$"
          },
          "metadata": {},
          "execution_count": 4
        }
      ]
    },
    {
      "cell_type": "code",
      "source": [
        "Aug.rref()"
      ],
      "metadata": {
        "colab": {
          "base_uri": "https://localhost:8080/"
        },
        "id": "6N3XiAW8B6mp",
        "outputId": "ea19294f-9e4b-4b71-9a3e-1bf6af774513"
      },
      "execution_count": null,
      "outputs": [
        {
          "output_type": "execute_result",
          "data": {
            "text/plain": [
              "(Matrix([\n",
              " [1, 0, 0, 0,  0, -1, 0,  1],\n",
              " [0, 1, 0, 0, -1,  0, 0,  1],\n",
              " [0, 0, 1, 0,  1,  1, 0, -1],\n",
              " [0, 0, 0, 1,  1,  1, 1, -2]]), (0, 1, 2, 3))"
            ]
          },
          "metadata": {},
          "execution_count": 5
        }
      ]
    },
    {
      "cell_type": "markdown",
      "source": [
        "The inverse of $$\\boldsymbol{A}=\\begin{bmatrix}\n",
        "1 & 0 & 1 & 0 \\\\\n",
        "0 & 1 & 1 & 0 \\\\\n",
        "1 & 1 & 0 & 1 \\\\\n",
        "1 & 1 & 1 & 0\n",
        "\\end{bmatrix}$$ is $$\\boldsymbol{A}^{-1}=\\begin{bmatrix}\n",
        "0 & -1 & 0 & 1 \\\\\n",
        "-1 & 0 & 0 & 1 \\\\\n",
        "1 & 1 & 0 & -1 \\\\\n",
        "1 & 1 & 1 & -2\n",
        "\\end{bmatrix}$$."
      ],
      "metadata": {
        "id": "HFYvXMHjGJ_f"
      }
    },
    {
      "cell_type": "code",
      "source": [
        "x,y = Aug.rref()\n",
        "\n",
        "A_inv=x.copy()\n",
        "A_inv.col_del(0)\n",
        "A_inv.col_del(0)\n",
        "A_inv.col_del(0)\n",
        "A_inv.col_del(0)\n",
        "\n",
        "A = Aug.copy()\n",
        "A.col_del(7)\n",
        "A.col_del(6)\n",
        "A.col_del(5)\n",
        "A.col_del(4)\n",
        "\n",
        "print(\"A = \", A)\n",
        "print(\"A_inv = \", A_inv)\n",
        "print(\"A_inv*A == eye(4) is \", A_inv*A == eye(4))\n",
        "print(\"A*A_inv == eye(4) is \", A*A_inv == eye(4))"
      ],
      "metadata": {
        "colab": {
          "base_uri": "https://localhost:8080/"
        },
        "id": "qzkeyUVnG1JO",
        "outputId": "7c1c0c72-5d14-4bc0-afdd-9708c5d44e74"
      },
      "execution_count": null,
      "outputs": [
        {
          "output_type": "stream",
          "name": "stdout",
          "text": [
            "A =  Matrix([[1, 0, 1, 0], [0, 1, 1, 0], [1, 1, 0, 1], [1, 1, 1, 0]])\n",
            "A_inv =  Matrix([[0, -1, 0, 1], [-1, 0, 0, 1], [1, 1, 0, -1], [1, 1, 1, -2]])\n",
            "A_inv*A == eye(4) is  True\n",
            "A*A_inv == eye(4) is  True\n"
          ]
        }
      ]
    }
  ]
}