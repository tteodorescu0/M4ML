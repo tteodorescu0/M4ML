{
  "nbformat": 4,
  "nbformat_minor": 0,
  "metadata": {
    "colab": {
      "provenance": [],
      "authorship_tag": "ABX9TyMv9xLJsGuO7mbY9N2juWpv",
      "include_colab_link": true
    },
    "kernelspec": {
      "name": "python3",
      "display_name": "Python 3"
    },
    "language_info": {
      "name": "python"
    }
  },
  "cells": [
    {
      "cell_type": "markdown",
      "metadata": {
        "id": "view-in-github",
        "colab_type": "text"
      },
      "source": [
        "<a href=\"https://colab.research.google.com/github/tteodorescu0/M4ML/blob/main/Chapter%202/Exercise_2_19.ipynb\" target=\"_parent\"><img src=\"https://colab.research.google.com/assets/colab-badge.svg\" alt=\"Open In Colab\"/></a>"
      ]
    },
    {
      "cell_type": "markdown",
      "source": [
        "#Exercise 2.19\n",
        "\n",
        "Consider an endomorphism $\\Phi: \\mathbb{R}^3 \\rightarrow \\mathbb{R}^3$ whose transformation matrix (with respect to the standard basis in $\\mathbb{R}^3$) is\n",
        "\n",
        "$$\\mathbf{A}_\\Phi=\n",
        "\\begin{bmatrix} 1 & 1 & 0 \\\\ 1 & -1 & 0 \\\\ 1 & 1 & 1 \\end{bmatrix}\n",
        "$$\n",
        "\n",
        "a. Determine $\\mathrm{ker}(\\Phi)$ and $\\mathrm{Im}(\\Phi)$.\n",
        "\n",
        "b. Determine the transformation matrix $\\tilde{\\mathbf{A}}_\\Phi$ with respect to the basis\n",
        "\n",
        "$$B=(\\begin{bmatrix} 1 \\\\ 1  \\\\ 1 \\end{bmatrix}, \\begin{bmatrix} 1 \\\\ 2  \\\\ 1 \\end{bmatrix}, \\begin{bmatrix} 1 \\\\ 0  \\\\ 0 \\end{bmatrix})$$\n",
        "\n",
        "i.e., perform a basis change toward the new basis $B$.\n"
      ],
      "metadata": {
        "id": "RLezh7wRDq_M"
      }
    },
    {
      "cell_type": "code",
      "source": [
        "from sympy import *"
      ],
      "metadata": {
        "id": "qt0m4eqx-w7M"
      },
      "execution_count": null,
      "outputs": []
    },
    {
      "cell_type": "markdown",
      "source": [
        "#Solution: Part a\n",
        "\n",
        "Compute the reduced row-echelon form of $\\mathbf{A}_\\Phi$."
      ],
      "metadata": {
        "id": "h7z2M74DEdWS"
      }
    },
    {
      "cell_type": "code",
      "source": [
        "A = Matrix([[1, 1, 0], [1, -1, 0], [1, 1, 1]])\n",
        "A"
      ],
      "metadata": {
        "id": "Utk2N7E5y2Hh",
        "colab": {
          "base_uri": "https://localhost:8080/",
          "height": 78
        },
        "outputId": "ae91d47a-23c5-402d-b75a-97a7b7fb4e4e"
      },
      "execution_count": null,
      "outputs": [
        {
          "output_type": "execute_result",
          "data": {
            "text/plain": [
              "Matrix([\n",
              "[1,  1, 0],\n",
              "[1, -1, 0],\n",
              "[1,  1, 1]])"
            ],
            "text/latex": "$\\displaystyle \\left[\\begin{matrix}1 & 1 & 0\\\\1 & -1 & 0\\\\1 & 1 & 1\\end{matrix}\\right]$"
          },
          "metadata": {},
          "execution_count": 3
        }
      ]
    },
    {
      "cell_type": "code",
      "source": [
        "B, _= A.rref()\n",
        "B"
      ],
      "metadata": {
        "colab": {
          "base_uri": "https://localhost:8080/",
          "height": 78
        },
        "id": "dgWMiLVEFK6R",
        "outputId": "71c5fa42-87af-4b98-e5a5-8b3e4d22010a"
      },
      "execution_count": null,
      "outputs": [
        {
          "output_type": "execute_result",
          "data": {
            "text/plain": [
              "Matrix([\n",
              "[1, 0, 0],\n",
              "[0, 1, 0],\n",
              "[0, 0, 1]])"
            ],
            "text/latex": "$\\displaystyle \\left[\\begin{matrix}1 & 0 & 0\\\\0 & 1 & 0\\\\0 & 0 & 1\\end{matrix}\\right]$"
          },
          "metadata": {},
          "execution_count": 4
        }
      ]
    },
    {
      "cell_type": "markdown",
      "source": [
        "$\\mathrm{ker}(\\Phi)=\\mathbf{0}$ because the reduced row-echelon form abobe has pivots in all columns."
      ],
      "metadata": {
        "id": "R7rsGWY_XdJ2"
      }
    },
    {
      "cell_type": "markdown",
      "source": [
        "\n",
        "To compute $\\mathrm{dim}(\\mathrm{Im}(\\Phi))$, we'll compute the reduced row-echelon form of the transpose of $\\mathbf{A}_\\Phi$.\n"
      ],
      "metadata": {
        "id": "ui86vH7AXshF"
      }
    },
    {
      "cell_type": "code",
      "source": [
        "A_tr = A.transpose()\n",
        "A_tr"
      ],
      "metadata": {
        "colab": {
          "base_uri": "https://localhost:8080/",
          "height": 78
        },
        "id": "V1zH8USumdsh",
        "outputId": "5900c2b0-e642-4d7c-87bb-e613068232be"
      },
      "execution_count": null,
      "outputs": [
        {
          "output_type": "execute_result",
          "data": {
            "text/plain": [
              "Matrix([\n",
              "[1,  1, 1],\n",
              "[1, -1, 1],\n",
              "[0,  0, 1]])"
            ],
            "text/latex": "$\\displaystyle \\left[\\begin{matrix}1 & 1 & 1\\\\1 & -1 & 1\\\\0 & 0 & 1\\end{matrix}\\right]$"
          },
          "metadata": {},
          "execution_count": 5
        }
      ]
    },
    {
      "cell_type": "code",
      "source": [
        "B_tr, _= A_tr.rref()\n",
        "B_tr"
      ],
      "metadata": {
        "colab": {
          "base_uri": "https://localhost:8080/",
          "height": 78
        },
        "id": "GkFZec_vmmW1",
        "outputId": "bb73747a-6a4b-4d7c-cd11-09a694c7aa9d"
      },
      "execution_count": null,
      "outputs": [
        {
          "output_type": "execute_result",
          "data": {
            "text/plain": [
              "Matrix([\n",
              "[1, 0, 0],\n",
              "[0, 1, 0],\n",
              "[0, 0, 1]])"
            ],
            "text/latex": "$\\displaystyle \\left[\\begin{matrix}1 & 0 & 0\\\\0 & 1 & 0\\\\0 & 0 & 1\\end{matrix}\\right]$"
          },
          "metadata": {},
          "execution_count": 6
        }
      ]
    },
    {
      "cell_type": "markdown",
      "source": [
        "The reduced row-echelon form of the transpose of $\\mathbf{A}_\\Phi$ above shows that the columns of $\\mathbf{A}_\\Phi$ are linear independent, so $\\mathrm{dim}(\\mathrm{Im}(\\Phi))=3$ and therefore $\\mathrm{Im}(\\Phi)=\\mathbb{R}^3$."
      ],
      "metadata": {
        "id": "Q7ZWGa43mr6t"
      }
    },
    {
      "cell_type": "markdown",
      "source": [
        "#Part b\n",
        "\n",
        "The transformation matrix $\\tilde{\\mathbf{A}}_\\Phi$ with respect to the basis $B$ is $T^{-1}\\mathbf{A}_\\Phi T$, where $T$ is defined below."
      ],
      "metadata": {
        "id": "twD6zD_Gpzpv"
      }
    },
    {
      "cell_type": "code",
      "source": [
        "T=Matrix([[1, 1, 1], [1,2,0], [1, 1, 0]])\n",
        "T"
      ],
      "metadata": {
        "colab": {
          "base_uri": "https://localhost:8080/",
          "height": 78
        },
        "id": "bKK8TwoJqZ9f",
        "outputId": "c6f210c4-ee2e-4695-c24f-a27a5aaae525"
      },
      "execution_count": null,
      "outputs": [
        {
          "output_type": "execute_result",
          "data": {
            "text/plain": [
              "Matrix([\n",
              "[1, 1, 1],\n",
              "[1, 2, 0],\n",
              "[1, 1, 0]])"
            ],
            "text/latex": "$\\displaystyle \\left[\\begin{matrix}1 & 1 & 1\\\\1 & 2 & 0\\\\1 & 1 & 0\\end{matrix}\\right]$"
          },
          "metadata": {},
          "execution_count": 10
        }
      ]
    },
    {
      "cell_type": "code",
      "source": [
        "T**(-1)*A*T"
      ],
      "metadata": {
        "colab": {
          "base_uri": "https://localhost:8080/",
          "height": 78
        },
        "id": "-8ukgsiEqulI",
        "outputId": "f3606616-2cfe-47be-e1aa-9a7d7ca9e6e1"
      },
      "execution_count": null,
      "outputs": [
        {
          "output_type": "execute_result",
          "data": {
            "text/plain": [
              "Matrix([\n",
              "[ 6,  9, 1],\n",
              "[-3, -5, 0],\n",
              "[-1, -1, 0]])"
            ],
            "text/latex": "$\\displaystyle \\left[\\begin{matrix}6 & 9 & 1\\\\-3 & -5 & 0\\\\-1 & -1 & 0\\end{matrix}\\right]$"
          },
          "metadata": {},
          "execution_count": 12
        }
      ]
    }
  ]
}