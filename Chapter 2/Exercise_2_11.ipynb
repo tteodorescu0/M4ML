{
  "nbformat": 4,
  "nbformat_minor": 0,
  "metadata": {
    "colab": {
      "provenance": [],
      "authorship_tag": "ABX9TyML3cC8KcXIYsnhdZqRW0e9",
      "include_colab_link": true
    },
    "kernelspec": {
      "name": "python3",
      "display_name": "Python 3"
    },
    "language_info": {
      "name": "python"
    }
  },
  "cells": [
    {
      "cell_type": "markdown",
      "metadata": {
        "id": "view-in-github",
        "colab_type": "text"
      },
      "source": [
        "<a href=\"https://colab.research.google.com/github/tteodorescu0/M4ML/blob/main/Chapter%202/Exercise_2_11.ipynb\" target=\"_parent\"><img src=\"https://colab.research.google.com/assets/colab-badge.svg\" alt=\"Open In Colab\"/></a>"
      ]
    },
    {
      "cell_type": "markdown",
      "source": [
        "#Exercise 2.11\n",
        "\n",
        "Write\n",
        "\n",
        "$$\\boldsymbol{y}=\\begin{bmatrix} 1 \\\\ -2 \\\\ 5 \\end{bmatrix}$$\n",
        "\n",
        "as linear combination of\n",
        "\n",
        "$$\\boldsymbol{x}_1=\\begin{bmatrix} 1 \\\\ 1 \\\\ 1 \\end{bmatrix}, \n",
        "\\boldsymbol{x}_2=\\begin{bmatrix} 1 \\\\ 2 \\\\ 3 \\end{bmatrix}, \n",
        "\\boldsymbol{x}_3=\\begin{bmatrix} 2 \\\\ -1 \\\\ 1 \\end{bmatrix}.$$\n"
      ],
      "metadata": {
        "id": "RLezh7wRDq_M"
      }
    },
    {
      "cell_type": "code",
      "source": [
        "from sympy import *"
      ],
      "metadata": {
        "id": "qt0m4eqx-w7M"
      },
      "execution_count": null,
      "outputs": []
    },
    {
      "cell_type": "markdown",
      "source": [
        "#Solution\n",
        "\n",
        "If $y=\\lambda_1 x_1 + \\lambda_2 x_2 + \\lambda_3 x_3$, then\n",
        "\n",
        "$$\\begin{bmatrix} 1 & 1 & 2 \\\\ 1  & 2 & -1 \\\\ 1 & 3 & 1 \\end{bmatrix}\n",
        "\\cdot \n",
        "\\begin{bmatrix} \\lambda_1 \\\\ \\lambda_2 \\\\ \\lambda_3 \\end{bmatrix}\n",
        "=\n",
        "\\begin{bmatrix} 1 \\\\ -2 \\\\ 5 \\end{bmatrix}\n",
        "$$\n",
        "\n",
        "Consider the augmented matrix and compute its reduced row-echelon form."
      ],
      "metadata": {
        "id": "h7z2M74DEdWS"
      }
    },
    {
      "cell_type": "code",
      "source": [
        "Aug = Matrix([[1, 1, 2, 1], [1, 2, -1, -2], [1, 3, 1, 5]])\n",
        "Aug"
      ],
      "metadata": {
        "id": "Utk2N7E5y2Hh",
        "colab": {
          "base_uri": "https://localhost:8080/",
          "height": 78
        },
        "outputId": "be3d174f-973f-4244-c6c8-74da05bb7e4f"
      },
      "execution_count": null,
      "outputs": [
        {
          "output_type": "execute_result",
          "data": {
            "text/plain": [
              "Matrix([\n",
              "[1, 1,  2,  1],\n",
              "[1, 2, -1, -2],\n",
              "[1, 3,  1,  5]])"
            ],
            "text/latex": "$\\displaystyle \\left[\\begin{matrix}1 & 1 & 2 & 1\\\\1 & 2 & -1 & -2\\\\1 & 3 & 1 & 5\\end{matrix}\\right]$"
          },
          "metadata": {},
          "execution_count": 4
        }
      ]
    },
    {
      "cell_type": "code",
      "source": [
        "Aug.rref()"
      ],
      "metadata": {
        "colab": {
          "base_uri": "https://localhost:8080/"
        },
        "id": "dgWMiLVEFK6R",
        "outputId": "bd578c22-d6be-40f3-acb6-b989c705cf51"
      },
      "execution_count": null,
      "outputs": [
        {
          "output_type": "execute_result",
          "data": {
            "text/plain": [
              "(Matrix([\n",
              " [1, 0, 0, -6],\n",
              " [0, 1, 0,  3],\n",
              " [0, 0, 1,  2]]), (0, 1, 2))"
            ]
          },
          "metadata": {},
          "execution_count": 6
        }
      ]
    },
    {
      "cell_type": "markdown",
      "source": [
        "The solution is $(\\lambda_1, \\lambda_2, \\lambda_3)= (-6, 3, 2)$, so $y=-6x_1+3x_2+2x_3$"
      ],
      "metadata": {
        "id": "4Nv6BNb6FcV2"
      }
    }
  ]
}