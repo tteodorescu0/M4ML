{
  "nbformat": 4,
  "nbformat_minor": 0,
  "metadata": {
    "colab": {
      "provenance": [],
      "authorship_tag": "ABX9TyNtD0wRku2G+YCFeIoSaDNA",
      "include_colab_link": true
    },
    "kernelspec": {
      "name": "python3",
      "display_name": "Python 3"
    },
    "language_info": {
      "name": "python"
    }
  },
  "cells": [
    {
      "cell_type": "markdown",
      "metadata": {
        "id": "view-in-github",
        "colab_type": "text"
      },
      "source": [
        "<a href=\"https://colab.research.google.com/github/tteodorescu0/M4ML/blob/main/Chapter%202/Exercise_2_12.ipynb\" target=\"_parent\"><img src=\"https://colab.research.google.com/assets/colab-badge.svg\" alt=\"Open In Colab\"/></a>"
      ]
    },
    {
      "cell_type": "markdown",
      "source": [
        "#Exercise 2.12\n",
        "\n",
        "Consider two subspaces of $\\mathbf{R}^4$:\n",
        "\n",
        "\n",
        "\n",
        "\n",
        "\n",
        "$$U_1= \\mathrm{span} [\\begin{bmatrix} 1 \\\\ 1 \\\\ -3 \\\\ 1 \\end{bmatrix}, \n",
        "\\begin{bmatrix} 2 \\\\ -1 \\\\ 0 \\\\ -1 \\end{bmatrix},\n",
        "\\begin{bmatrix} -1 \\\\ 1 \\\\ -1 \\\\ 1 \\end{bmatrix}\n",
        "], \n",
        "U_2=\\mathrm{span} [\\begin{bmatrix} -1 \\\\ -2 \\\\ 2 \\\\ 1 \\end{bmatrix}, \n",
        "\\begin{bmatrix} 2 \\\\ -2 \\\\ 0 \\\\ 0 \\end{bmatrix},\n",
        "\\begin{bmatrix} -3 \\\\ 6 \\\\ -2 \\\\ -1 \\end{bmatrix}\n",
        "]$$\n",
        "\n",
        "Determine a basis of $U_1 \\cap U_2$."
      ],
      "metadata": {
        "id": "RLezh7wRDq_M"
      }
    },
    {
      "cell_type": "code",
      "source": [
        "from sympy import *"
      ],
      "metadata": {
        "id": "qt0m4eqx-w7M"
      },
      "execution_count": null,
      "outputs": []
    },
    {
      "cell_type": "markdown",
      "source": [
        "#Solution\n",
        "\n",
        "An element of $U_1 \\cap U_2$ creates the equation with unknowns $\\lambda_1, \\lambda_2, \\lambda_3, \\lambda_4, \\lambda_5, \\lambda_6$. \n",
        "\n",
        "$$\\lambda_1  \\begin{bmatrix} 1 \\\\ 1  \\\\ -3 \\\\ 1 \\end{bmatrix} +\n",
        "\\lambda_2  \\begin{bmatrix} 2 \\\\ -1  \\\\ 0 \\\\ -1 \\end{bmatrix} +\n",
        "\\lambda_3  \\begin{bmatrix} -1 \\\\ 1  \\\\ -1 \\\\ 1 \\end{bmatrix} =\n",
        "\\lambda_4  \\begin{bmatrix} -1 \\\\ -2  \\\\ 2 \\\\ 1 \\end{bmatrix} +\n",
        "\\lambda_5  \\begin{bmatrix} 2 \\\\ -2  \\\\ 0 \\\\ 0 \\end{bmatrix} +\n",
        "\\lambda_6  \\begin{bmatrix} -3 \\\\ 6  \\\\ -2 \\\\ -1 \\end{bmatrix}\n",
        "$$\n",
        "\n",
        "This equation is equivalent to the equation \n",
        "\n",
        "$$\\begin{bmatrix} 1 & 2 & -1 & 1 & -2 & 3\\\\ \n",
        "1 & -1 & 1 & 2 & 2 & -6 \\\\ \n",
        "-3 & 0 & -1 & -2 & 0 & 2\\\\\n",
        " 1 & -1 & 1 & -1 & 0 & 1 \\end{bmatrix} \\cdot\n",
        "\\begin{bmatrix} \\lambda_1 \\\\ \\lambda_2  \\\\ \\lambda_3 \\\\ \\lambda_4 \\\\ \\lambda_5 \\\\ \\lambda_6\\end{bmatrix} =\n",
        "\\begin{bmatrix} 0 \\\\ 0  \\\\ 0 \\\\ 0 \\\\ 0 \\\\ 0 \\end{bmatrix}\n",
        "$$\n",
        "\n",
        "Compute its reduced row-echelon form."
      ],
      "metadata": {
        "id": "h7z2M74DEdWS"
      }
    },
    {
      "cell_type": "code",
      "source": [
        "A = Matrix([[1, 2, -1, 1, -2, 3], [1, -1, 1, 2, 2, -6], [-3, 0, -1, -2, 0, 2], [1, -1, 1, -1, 0, 1]])\n",
        "A"
      ],
      "metadata": {
        "id": "Utk2N7E5y2Hh",
        "colab": {
          "base_uri": "https://localhost:8080/",
          "height": 98
        },
        "outputId": "9b3c3508-20df-4519-a085-48690878702d"
      },
      "execution_count": null,
      "outputs": [
        {
          "output_type": "execute_result",
          "data": {
            "text/plain": [
              "Matrix([\n",
              "[ 1,  2, -1,  1, -2,  3],\n",
              "[ 1, -1,  1,  2,  2, -6],\n",
              "[-3,  0, -1, -2,  0,  2],\n",
              "[ 1, -1,  1, -1,  0,  1]])"
            ],
            "text/latex": "$\\displaystyle \\left[\\begin{matrix}1 & 2 & -1 & 1 & -2 & 3\\\\1 & -1 & 1 & 2 & 2 & -6\\\\-3 & 0 & -1 & -2 & 0 & 2\\\\1 & -1 & 1 & -1 & 0 & 1\\end{matrix}\\right]$"
          },
          "metadata": {},
          "execution_count": 2
        }
      ]
    },
    {
      "cell_type": "code",
      "source": [
        "B, _= A.rref()\n",
        "B"
      ],
      "metadata": {
        "colab": {
          "base_uri": "https://localhost:8080/",
          "height": 99
        },
        "id": "dgWMiLVEFK6R",
        "outputId": "7fc3813e-51e9-4599-8be9-9069869c5300"
      },
      "execution_count": null,
      "outputs": [
        {
          "output_type": "execute_result",
          "data": {
            "text/plain": [
              "Matrix([\n",
              "[1, 0,  1/3, 0,  -4/9,  8/9],\n",
              "[0, 1, -2/3, 0, -10/9, 20/9],\n",
              "[0, 0,    0, 1,   2/3, -7/3],\n",
              "[0, 0,    0, 0,     0,    0]])"
            ],
            "text/latex": "$\\displaystyle \\left[\\begin{matrix}1 & 0 & \\frac{1}{3} & 0 & - \\frac{4}{9} & \\frac{8}{9}\\\\0 & 1 & - \\frac{2}{3} & 0 & - \\frac{10}{9} & \\frac{20}{9}\\\\0 & 0 & 0 & 1 & \\frac{2}{3} & - \\frac{7}{3}\\\\0 & 0 & 0 & 0 & 0 & 0\\end{matrix}\\right]$"
          },
          "metadata": {},
          "execution_count": 3
        }
      ]
    },
    {
      "cell_type": "markdown",
      "source": [
        "Dropping the bottom row and then applying the minus-1 trick gives the following matrix."
      ],
      "metadata": {
        "id": "4Nv6BNb6FcV2"
      }
    },
    {
      "cell_type": "code",
      "source": [
        "B.row_del(3)\n",
        "B = B.row_insert(2, Matrix([[0, 0, -1, 0, 0, 0]]))\n",
        "B = B.row_insert(4, Matrix([[0, 0, 0, 0, -1, 0]]))\n",
        "B = B.row_insert(5, Matrix([[0, 0, 0, 0, 0, -1]]))\n",
        "B"
      ],
      "metadata": {
        "colab": {
          "base_uri": "https://localhost:8080/",
          "height": 139
        },
        "id": "yll3tM72I1tI",
        "outputId": "d32ed1cd-7279-40c5-cf99-dae666afd873"
      },
      "execution_count": null,
      "outputs": [
        {
          "output_type": "execute_result",
          "data": {
            "text/plain": [
              "Matrix([\n",
              "[1, 0,  1/3, 0,  -4/9,  8/9],\n",
              "[0, 1, -2/3, 0, -10/9, 20/9],\n",
              "[0, 0,   -1, 0,     0,    0],\n",
              "[0, 0,    0, 1,   2/3, -7/3],\n",
              "[0, 0,    0, 0,    -1,    0],\n",
              "[0, 0,    0, 0,     0,   -1]])"
            ],
            "text/latex": "$\\displaystyle \\left[\\begin{matrix}1 & 0 & \\frac{1}{3} & 0 & - \\frac{4}{9} & \\frac{8}{9}\\\\0 & 1 & - \\frac{2}{3} & 0 & - \\frac{10}{9} & \\frac{20}{9}\\\\0 & 0 & -1 & 0 & 0 & 0\\\\0 & 0 & 0 & 1 & \\frac{2}{3} & - \\frac{7}{3}\\\\0 & 0 & 0 & 0 & -1 & 0\\\\0 & 0 & 0 & 0 & 0 & -1\\end{matrix}\\right]$"
          },
          "metadata": {},
          "execution_count": 4
        }
      ]
    },
    {
      "cell_type": "markdown",
      "source": [
        "The set of solutions $\\begin{bmatrix} \\lambda_1 \\\\ \\lambda_2  \\\\ \\lambda_3 \\\\ \\lambda_4 \\\\ \\lambda_5 \\\\ \\lambda_6\\end{bmatrix}$ of the equation \n",
        "\n",
        "$$\\begin{bmatrix} 1 & 2 & -1 & 1 & -2 & 3\\\\ \n",
        "1 & -1 & 1 & 2 & 2 & -6 \\\\ \n",
        "-3 & 0 & -1 & -2 & 0 & 2\\\\\n",
        " 1 & -1 & 1 & -1 & 0 & 1 \\end{bmatrix} \\cdot\n",
        "\\begin{bmatrix} \\lambda_1 \\\\ \\lambda_2  \\\\ \\lambda_3 \\\\ \\lambda_4 \\\\ \\lambda_5 \\\\ \\lambda_6\\end{bmatrix} =\n",
        "\\begin{bmatrix} 0 \\\\ 0  \\\\ 0 \\\\ 0 \\\\ 0 \\\\ 0 \\end{bmatrix}\n",
        "$$\n",
        "\n",
        "is \n",
        "\n",
        "$$ \\{\n",
        "  \\begin{bmatrix} \\lambda_1 \\\\ \\lambda_2  \\\\ \\lambda_3 \\\\ \\lambda_4 \\\\ \\lambda_5 \\\\ \\lambda_6\\end{bmatrix} | a \\begin{bmatrix} \\frac{1}{3} \\\\ -\\frac{2}{3}  \\\\ -1 \\\\ 0 \\\\ 0 \\\\ 0\\end{bmatrix} + b \\begin{bmatrix} -\\frac{4}{9} \\\\ -\\frac{10}{9}  \\\\ 0 \\\\ \\frac{2}{3} \\\\ -1 \\\\ 0\\end{bmatrix} + c \\begin{bmatrix} \\frac{8}{9} \\\\ \\frac{20}{9}  \\\\ 0 \\\\ -\\frac{7}{3} \\\\ 0 \\\\ -1\\end{bmatrix}, a, b, c \\in \\mathbb{R}\n",
        "  \\}\n",
        "$$\n",
        "\n",
        "For the column vector corresponding to $a$, we get \n",
        "\n",
        "$$\\frac{1}{3}  \\begin{bmatrix} 1 \\\\ 1  \\\\ -3 \\\\ 1 \\end{bmatrix} \n",
        "-\\frac{2}{3}  \\begin{bmatrix} 2 \\\\ -1  \\\\ 0 \\\\ -1 \\end{bmatrix} \n",
        "-  \\begin{bmatrix} -1 \\\\ 1  \\\\ -1 \\\\ 1 \\end{bmatrix} =\n",
        "\\begin{bmatrix} 0 \\\\ 0  \\\\ 0 \\\\ 0 \\end{bmatrix} \n",
        "$$\n",
        "\n",
        "For the column vector corresponding to $b$, we get \n",
        "\n",
        "$$-\\frac{4}{9}  \\begin{bmatrix} 1 \\\\ 1  \\\\ -3 \\\\ 1 \\end{bmatrix} \n",
        "-\\frac{10}{9}  \\begin{bmatrix} 2 \\\\ -1  \\\\ 0 \\\\ -1 \\end{bmatrix} \n",
        "+ 0 \\begin{bmatrix} -1 \\\\ 1  \\\\ -1 \\\\ 1 \\end{bmatrix} =\n",
        "-\\frac{6}{9}\\begin{bmatrix} 4 \\\\ -1  \\\\ -2 \\\\ -1 \\end{bmatrix} \n",
        "$$\n",
        "\n",
        "For the column vector corresponding to $c$, we get \n",
        "\n",
        "$$\\frac{8}{9}  \\begin{bmatrix} 1 \\\\ 1  \\\\ -3 \\\\ 1 \\end{bmatrix} \n",
        "+ \\frac{20}{9}  \\begin{bmatrix} 2 \\\\ -1  \\\\ 0 \\\\ -1 \\end{bmatrix} \n",
        "+ 0 \\begin{bmatrix} -1 \\\\ 1  \\\\ -1 \\\\ 1 \\end{bmatrix} =\n",
        "\\frac{12}{9}\\begin{bmatrix} 4 \\\\ -1  \\\\ -2 \\\\ -1 \\end{bmatrix} \n",
        "$$\n",
        "\n",
        "We get that \n",
        "\n",
        "$$U_1\\cap U_2= \\mathrm{span} [\\begin{bmatrix} 0 \\\\ 0 \\\\ 0 \\\\ 0 \\end{bmatrix}, \n",
        "-\\frac{6}{9}\\begin{bmatrix} 4 \\\\ -1 \\\\ -2 \\\\ -1 \\end{bmatrix},\n",
        "\\frac{12}{9}\\begin{bmatrix} 4 \\\\ -1 \\\\ -2 \\\\ -1 \\end{bmatrix}\n",
        "] = \\mathrm{span} [\n",
        "\\begin{bmatrix} 4 \\\\ -1 \\\\ -2 \\\\ -1 \\end{bmatrix}\n",
        "] $$\n"
      ],
      "metadata": {
        "id": "0k05dopYKfYy"
      }
    }
  ]
}