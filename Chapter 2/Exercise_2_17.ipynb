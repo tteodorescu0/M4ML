{
  "nbformat": 4,
  "nbformat_minor": 0,
  "metadata": {
    "colab": {
      "provenance": [],
      "authorship_tag": "ABX9TyOmpS74opk2n0mUpggbi9Hp",
      "include_colab_link": true
    },
    "kernelspec": {
      "name": "python3",
      "display_name": "Python 3"
    },
    "language_info": {
      "name": "python"
    }
  },
  "cells": [
    {
      "cell_type": "markdown",
      "metadata": {
        "id": "view-in-github",
        "colab_type": "text"
      },
      "source": [
        "<a href=\"https://colab.research.google.com/github/tteodorescu0/M4ML/blob/main/Chapter%202/Exercise_2_17.ipynb\" target=\"_parent\"><img src=\"https://colab.research.google.com/assets/colab-badge.svg\" alt=\"Open In Colab\"/></a>"
      ]
    },
    {
      "cell_type": "markdown",
      "source": [
        "#Exercise 2.17\n",
        "\n",
        "Consider the linear mapping\n",
        "\n",
        "\n",
        "$$\\Phi: \\mathbb{R}^3 \\rightarrow \\mathbb{R}^4$$\n",
        "\n",
        "$$\\Phi(\\begin{bmatrix} x_1 \\\\ x_2 \\\\ x_3\\end{bmatrix})=\n",
        "\\begin{bmatrix} 3x_1+2x_2+x_3 \\\\ x_1 +x_2+x_3 \\\\ x_1 -3x_2 \\\\ 2x_1 +3x_2 + x_3 \\end{bmatrix}\n",
        "$$\n",
        "\n",
        "\n",
        "\n",
        "a. Find the transformation matrix $\\mathbf{A}_\\Phi$.\n",
        "\n",
        "b. Determine $\\mathrm{rk}(\\mathbf{A}_\\Phi)$.\n",
        "\n",
        "c. Compute the kernel and image of $\\Phi$. What are $\\mathrm{dim}(\\mathrm{ker}(\\Phi))$ and $\\mathrm{dim}(\\mathrm{Im}(\\Phi))$?"
      ],
      "metadata": {
        "id": "RLezh7wRDq_M"
      }
    },
    {
      "cell_type": "code",
      "source": [
        "from sympy import *"
      ],
      "metadata": {
        "id": "qt0m4eqx-w7M"
      },
      "execution_count": null,
      "outputs": []
    },
    {
      "cell_type": "markdown",
      "source": [
        "#Solution: Part a\n",
        "\n",
        "The transformation matrix $\\mathbf{A}_\\Phi$ is $\\begin{bmatrix}3 & 2 & 1 \\\\ 1 & 1 & 1 \\\\ 1 & -3 & 0 \\\\ 2 & 3 & 1 \\end{bmatrix}$.\n",
        "\n",
        "$$\\Phi(\\begin{bmatrix}x_1 \\\\ x_2 \\\\ x_3  \\end{bmatrix})=\\begin{bmatrix}3 & 2 & 1 \\\\ 1 & 1 & 1 \\\\ 1 & -3 & 0 \\\\ 2 & 3 & 1 \\end{bmatrix} \\cdot \\begin{bmatrix}x_1 \\\\ x_2 \\\\ x_3  \\end{bmatrix} $$"
      ],
      "metadata": {
        "id": "zkxY9Wm2j8jY"
      }
    },
    {
      "cell_type": "markdown",
      "source": [
        "#Solution: Part b\n",
        "\n",
        "Compute the reduced row-echelon form of $\\mathbf{A}_\\Phi$."
      ],
      "metadata": {
        "id": "h7z2M74DEdWS"
      }
    },
    {
      "cell_type": "code",
      "source": [
        "A = Matrix([[3, 2, 1], [1, 1, 1], [1, -3, 0], [2, 3, 1]])\n",
        "A"
      ],
      "metadata": {
        "id": "Utk2N7E5y2Hh",
        "colab": {
          "base_uri": "https://localhost:8080/",
          "height": 98
        },
        "outputId": "2afdf989-eb35-4424-f352-5885bc5cea43"
      },
      "execution_count": null,
      "outputs": [
        {
          "output_type": "execute_result",
          "data": {
            "text/plain": [
              "Matrix([\n",
              "[3,  2, 1],\n",
              "[1,  1, 1],\n",
              "[1, -3, 0],\n",
              "[2,  3, 1]])"
            ],
            "text/latex": "$\\displaystyle \\left[\\begin{matrix}3 & 2 & 1\\\\1 & 1 & 1\\\\1 & -3 & 0\\\\2 & 3 & 1\\end{matrix}\\right]$"
          },
          "metadata": {},
          "execution_count": 2
        }
      ]
    },
    {
      "cell_type": "code",
      "source": [
        "B, _= A.rref()\n",
        "B"
      ],
      "metadata": {
        "colab": {
          "base_uri": "https://localhost:8080/",
          "height": 98
        },
        "id": "dgWMiLVEFK6R",
        "outputId": "65b8c300-7521-4663-815b-5b879513cedf"
      },
      "execution_count": null,
      "outputs": [
        {
          "output_type": "execute_result",
          "data": {
            "text/plain": [
              "Matrix([\n",
              "[1, 0, 0],\n",
              "[0, 1, 0],\n",
              "[0, 0, 1],\n",
              "[0, 0, 0]])"
            ],
            "text/latex": "$\\displaystyle \\left[\\begin{matrix}1 & 0 & 0\\\\0 & 1 & 0\\\\0 & 0 & 1\\\\0 & 0 & 0\\end{matrix}\\right]$"
          },
          "metadata": {},
          "execution_count": 3
        }
      ]
    },
    {
      "cell_type": "markdown",
      "source": [
        "$\\mathrm{rk}(\\mathbf{A}_\\Phi)=3$ because it is the dimension of the row space of $\\mathbf{A}_\\Phi$."
      ],
      "metadata": {
        "id": "R7rsGWY_XdJ2"
      }
    },
    {
      "cell_type": "markdown",
      "source": [
        "#Part c\n",
        "\n",
        "Using again the reduced row-echelon form of $\\mathbf{A}_\\Phi$ above, it follows that $\\mathrm{dim}(\\mathrm{ker}(\\Phi))=0$.\n",
        "\n",
        "To compute $\\mathrm{dim}(\\mathrm{Im}(\\Phi))$, we'll compute the reduced row-echelon form of the transpose of $\\mathbf{A}_\\Phi$.\n"
      ],
      "metadata": {
        "id": "ui86vH7AXshF"
      }
    },
    {
      "cell_type": "code",
      "source": [
        "A_tr = Matrix([[3, 2, 1], [1, 1, 1], [1, -3, 0], [2, 3, 1]]).transpose()\n",
        "A_tr"
      ],
      "metadata": {
        "colab": {
          "base_uri": "https://localhost:8080/",
          "height": 78
        },
        "id": "V1zH8USumdsh",
        "outputId": "f8e4e9e8-e239-4d41-8c52-b8429a3fad52"
      },
      "execution_count": null,
      "outputs": [
        {
          "output_type": "execute_result",
          "data": {
            "text/plain": [
              "Matrix([\n",
              "[3, 1,  1, 2],\n",
              "[2, 1, -3, 3],\n",
              "[1, 1,  0, 1]])"
            ],
            "text/latex": "$\\displaystyle \\left[\\begin{matrix}3 & 1 & 1 & 2\\\\2 & 1 & -3 & 3\\\\1 & 1 & 0 & 1\\end{matrix}\\right]$"
          },
          "metadata": {},
          "execution_count": 4
        }
      ]
    },
    {
      "cell_type": "code",
      "source": [
        "B_tr, _= A_tr.rref()\n",
        "B_tr"
      ],
      "metadata": {
        "colab": {
          "base_uri": "https://localhost:8080/",
          "height": 78
        },
        "id": "GkFZec_vmmW1",
        "outputId": "befe6382-55ef-467f-875e-bd6e3f110dce"
      },
      "execution_count": null,
      "outputs": [
        {
          "output_type": "execute_result",
          "data": {
            "text/plain": [
              "Matrix([\n",
              "[1, 0, 0,  5/7],\n",
              "[0, 1, 0,  2/7],\n",
              "[0, 0, 1, -3/7]])"
            ],
            "text/latex": "$\\displaystyle \\left[\\begin{matrix}1 & 0 & 0 & \\frac{5}{7}\\\\0 & 1 & 0 & \\frac{2}{7}\\\\0 & 0 & 1 & - \\frac{3}{7}\\end{matrix}\\right]$"
          },
          "metadata": {},
          "execution_count": 5
        }
      ]
    },
    {
      "cell_type": "markdown",
      "source": [
        "The reduced row-echelon form of the transpose of $\\mathbf{A}_\\Phi$ above shows that the columns of $\\mathbf{A}_\\Phi$ are linear independent, so $\\mathrm{dim}(\\mathrm{Im}(\\Phi))=3$."
      ],
      "metadata": {
        "id": "Q7ZWGa43mr6t"
      }
    }
  ]
}