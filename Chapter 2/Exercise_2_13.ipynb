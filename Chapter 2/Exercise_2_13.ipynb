{
  "nbformat": 4,
  "nbformat_minor": 0,
  "metadata": {
    "colab": {
      "provenance": [],
      "authorship_tag": "ABX9TyOyCPHITh1R2czdooVaze0P",
      "include_colab_link": true
    },
    "kernelspec": {
      "name": "python3",
      "display_name": "Python 3"
    },
    "language_info": {
      "name": "python"
    }
  },
  "cells": [
    {
      "cell_type": "markdown",
      "metadata": {
        "id": "view-in-github",
        "colab_type": "text"
      },
      "source": [
        "<a href=\"https://colab.research.google.com/github/tteodorescu0/M4ML/blob/main/Chapter%202/Exercise_2_13.ipynb\" target=\"_parent\"><img src=\"https://colab.research.google.com/assets/colab-badge.svg\" alt=\"Open In Colab\"/></a>"
      ]
    },
    {
      "cell_type": "markdown",
      "source": [
        "#Exercise 2.13\n",
        "\n",
        "Consider two subspaces $U_1$ and $U_2$, where $U_1$ is the solution space of the\n",
        "homogeneous equation system $\\mathbf{A}_1\\mathbf{x} = \\mathbf{0}$ and $U_2$ is the solution space of the homogeneous equation system $\\mathbf{A}_2\\mathbf{x} = \\mathbf{0}$ with\n",
        "\n",
        "\n",
        "\n",
        "\n",
        "\n",
        "$$\\mathbf{A}_1 = \\begin{bmatrix} 1 & 0 & 1 \\\\ 1 & -2 & -1 \\\\ 2 & 1 & 3 \\\\ 1 & 0 & 1\\end{bmatrix}, \n",
        "\\mathbf{A}_2 =  \\begin{bmatrix} 3 & -3 & 0 \\\\ 1 & 2 & 3 \\\\ 7 & -5 & 2 \\\\ 3 & -1 & 2 \\end{bmatrix}\n",
        "$$\n",
        "\n",
        "\n",
        "\n",
        "a. Determine the dimension of $U_1$ , $U_2$.\n",
        "\n",
        "b. Determine bases of $U_1$ , $U_2$.\n",
        "\n",
        "c. Determine a basis of $U_1 \\cap U_2$."
      ],
      "metadata": {
        "id": "RLezh7wRDq_M"
      }
    },
    {
      "cell_type": "code",
      "source": [
        "from sympy import *"
      ],
      "metadata": {
        "id": "qt0m4eqx-w7M"
      },
      "execution_count": null,
      "outputs": []
    },
    {
      "cell_type": "markdown",
      "source": [
        "#Solution: Parts a and b\n",
        "\n",
        "Compute the reduced row-echelon form of $\\mathbf{A}_1$."
      ],
      "metadata": {
        "id": "h7z2M74DEdWS"
      }
    },
    {
      "cell_type": "code",
      "source": [
        "A1 = Matrix([[1, 0, 1], [1, -2, -1], [2, 1, 3], [1, 0, 1]])\n",
        "A1"
      ],
      "metadata": {
        "id": "Utk2N7E5y2Hh",
        "colab": {
          "base_uri": "https://localhost:8080/",
          "height": 98
        },
        "outputId": "de72a80e-4174-48c6-88aa-719e50dfffe7"
      },
      "execution_count": null,
      "outputs": [
        {
          "output_type": "execute_result",
          "data": {
            "text/plain": [
              "Matrix([\n",
              "[1,  0,  1],\n",
              "[1, -2, -1],\n",
              "[2,  1,  3],\n",
              "[1,  0,  1]])"
            ],
            "text/latex": "$\\displaystyle \\left[\\begin{matrix}1 & 0 & 1\\\\1 & -2 & -1\\\\2 & 1 & 3\\\\1 & 0 & 1\\end{matrix}\\right]$"
          },
          "metadata": {},
          "execution_count": 2
        }
      ]
    },
    {
      "cell_type": "code",
      "source": [
        "B1, _= A1.rref()\n",
        "B1"
      ],
      "metadata": {
        "colab": {
          "base_uri": "https://localhost:8080/",
          "height": 98
        },
        "id": "dgWMiLVEFK6R",
        "outputId": "9423c8c8-1b3f-4468-8821-765eab7da11e"
      },
      "execution_count": null,
      "outputs": [
        {
          "output_type": "execute_result",
          "data": {
            "text/plain": [
              "Matrix([\n",
              "[1, 0, 1],\n",
              "[0, 1, 1],\n",
              "[0, 0, 0],\n",
              "[0, 0, 0]])"
            ],
            "text/latex": "$\\displaystyle \\left[\\begin{matrix}1 & 0 & 1\\\\0 & 1 & 1\\\\0 & 0 & 0\\\\0 & 0 & 0\\end{matrix}\\right]$"
          },
          "metadata": {},
          "execution_count": 3
        }
      ]
    },
    {
      "cell_type": "markdown",
      "source": [
        "Dropping the bottom 2 rows and then applying the minus-1 trick gives the following matrix."
      ],
      "metadata": {
        "id": "4Nv6BNb6FcV2"
      }
    },
    {
      "cell_type": "code",
      "source": [
        "B1.row_del(2)\n",
        "B1.row_del(2)\n",
        "B1 = B1.row_insert(2, Matrix([[0, 0, -1]]))\n",
        "B1"
      ],
      "metadata": {
        "colab": {
          "base_uri": "https://localhost:8080/",
          "height": 78
        },
        "id": "yll3tM72I1tI",
        "outputId": "10180342-2cf6-4ee0-cac8-fd21ac72cb97"
      },
      "execution_count": null,
      "outputs": [
        {
          "output_type": "execute_result",
          "data": {
            "text/plain": [
              "Matrix([\n",
              "[1, 0,  1],\n",
              "[0, 1,  1],\n",
              "[0, 0, -1]])"
            ],
            "text/latex": "$\\displaystyle \\left[\\begin{matrix}1 & 0 & 1\\\\0 & 1 & 1\\\\0 & 0 & -1\\end{matrix}\\right]$"
          },
          "metadata": {},
          "execution_count": 4
        }
      ]
    },
    {
      "cell_type": "markdown",
      "source": [
        "The set of solutions $\\begin{bmatrix} x_1 \\\\ x_2  \\\\ x_3 \\end{bmatrix}$ of the equation $\\mathbf{A}_1\\mathbf{x}=\\mathbf{0}$ is \n",
        "\n",
        "$$ \\{\n",
        "  \\begin{bmatrix} x_1 \\\\ x_2  \\\\ x_3 \\end{bmatrix} | a \\begin{bmatrix} 1 \\\\ 1  \\\\ -1 \\end{bmatrix} , a \\in \\mathbb{R}\n",
        "  \\}\n",
        "$$\n",
        "\n",
        "The dimension of $U_1$ is 1. A basis of $U_1$ is $ \\{ \\begin{bmatrix} 1 \\\\ 1  \\\\ -1 \\end{bmatrix} \\}\n",
        "$"
      ],
      "metadata": {
        "id": "0k05dopYKfYy"
      }
    },
    {
      "cell_type": "markdown",
      "source": [
        "Compute the reduced row-echelon form of $\\mathbf{A}_2$."
      ],
      "metadata": {
        "id": "t--CupMwW5Q7"
      }
    },
    {
      "cell_type": "code",
      "source": [
        "A2 = Matrix([[3, -3, 0], [1, 2, 3], [7, -5, 2], [3, -1, 2]])\n",
        "A2"
      ],
      "metadata": {
        "colab": {
          "base_uri": "https://localhost:8080/",
          "height": 98
        },
        "id": "QTVzoqiBW6h9",
        "outputId": "2be809db-5d38-4414-dc1a-d90c20920a52"
      },
      "execution_count": null,
      "outputs": [
        {
          "output_type": "execute_result",
          "data": {
            "text/plain": [
              "Matrix([\n",
              "[3, -3, 0],\n",
              "[1,  2, 3],\n",
              "[7, -5, 2],\n",
              "[3, -1, 2]])"
            ],
            "text/latex": "$\\displaystyle \\left[\\begin{matrix}3 & -3 & 0\\\\1 & 2 & 3\\\\7 & -5 & 2\\\\3 & -1 & 2\\end{matrix}\\right]$"
          },
          "metadata": {},
          "execution_count": 5
        }
      ]
    },
    {
      "cell_type": "code",
      "source": [
        "B2, _= A2.rref()\n",
        "B2"
      ],
      "metadata": {
        "colab": {
          "base_uri": "https://localhost:8080/",
          "height": 98
        },
        "id": "eevDat1fXIok",
        "outputId": "6e629417-1d0d-46e4-d5d5-f9cb6b601e1e"
      },
      "execution_count": null,
      "outputs": [
        {
          "output_type": "execute_result",
          "data": {
            "text/plain": [
              "Matrix([\n",
              "[1, 0, 1],\n",
              "[0, 1, 1],\n",
              "[0, 0, 0],\n",
              "[0, 0, 0]])"
            ],
            "text/latex": "$\\displaystyle \\left[\\begin{matrix}1 & 0 & 1\\\\0 & 1 & 1\\\\0 & 0 & 0\\\\0 & 0 & 0\\end{matrix}\\right]$"
          },
          "metadata": {},
          "execution_count": 6
        }
      ]
    },
    {
      "cell_type": "markdown",
      "source": [
        "Dropping the bottom 2 rows and then applying the minus-1 trick gives the following matrix."
      ],
      "metadata": {
        "id": "eVAhRiUZXQuJ"
      }
    },
    {
      "cell_type": "code",
      "source": [
        "B2.row_del(2)\n",
        "B2.row_del(2)\n",
        "B2 = B2.row_insert(2, Matrix([[0, 0, -1]]))\n",
        "B2"
      ],
      "metadata": {
        "colab": {
          "base_uri": "https://localhost:8080/",
          "height": 78
        },
        "id": "5GGlEJ2bXRzA",
        "outputId": "9bd67c8e-5986-49a1-97c2-c5748e7e1cca"
      },
      "execution_count": null,
      "outputs": [
        {
          "output_type": "execute_result",
          "data": {
            "text/plain": [
              "Matrix([\n",
              "[1, 0,  1],\n",
              "[0, 1,  1],\n",
              "[0, 0, -1]])"
            ],
            "text/latex": "$\\displaystyle \\left[\\begin{matrix}1 & 0 & 1\\\\0 & 1 & 1\\\\0 & 0 & -1\\end{matrix}\\right]$"
          },
          "metadata": {},
          "execution_count": 7
        }
      ]
    },
    {
      "cell_type": "markdown",
      "source": [
        "The set of solutions $\\begin{bmatrix} x_1 \\\\ x_2  \\\\ x_3 \\end{bmatrix}$ of the equation $\\mathbf{A}_2\\mathbf{x}=\\mathbf{0}$ is \n",
        "\n",
        "$$ \\{\n",
        "  \\begin{bmatrix} x_1 \\\\ x_2  \\\\ x_3 \\end{bmatrix} | a \\begin{bmatrix} 1 \\\\ 1  \\\\ -1 \\end{bmatrix} , a \\in \\mathbb{R}\n",
        "  \\}\n",
        "$$\n",
        "\n",
        "The dimension of $U_2$ is 1. A basis of $U_2$ is $ \\{ \\begin{bmatrix} 1 \\\\ 1  \\\\ -1 \\end{bmatrix} \\}\n",
        "$\n",
        "\n",
        "Note that $U_1=U_2$."
      ],
      "metadata": {
        "id": "R7rsGWY_XdJ2"
      }
    },
    {
      "cell_type": "markdown",
      "source": [
        "#Part c\n",
        "\n",
        "Since $U_1=U_2$, we get that $U_1\\cap U_2=U_1=U_2$, so the dimension of $U_1\\cap U_2$ is also 1, and a basis of $U_1\\cap U_2$ is also $ \\{ \\begin{bmatrix} 1 \\\\ 1  \\\\ -1 \\end{bmatrix} \\}\n",
        "$."
      ],
      "metadata": {
        "id": "ui86vH7AXshF"
      }
    }
  ]
}