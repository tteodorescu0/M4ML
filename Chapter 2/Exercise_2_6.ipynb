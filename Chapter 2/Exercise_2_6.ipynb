{
  "nbformat": 4,
  "nbformat_minor": 0,
  "metadata": {
    "colab": {
      "provenance": [],
      "authorship_tag": "ABX9TyN2IREcFiAB/ByBqEe4+SPl",
      "include_colab_link": true
    },
    "kernelspec": {
      "name": "python3",
      "display_name": "Python 3"
    },
    "language_info": {
      "name": "python"
    }
  },
  "cells": [
    {
      "cell_type": "markdown",
      "metadata": {
        "id": "view-in-github",
        "colab_type": "text"
      },
      "source": [
        "<a href=\"https://colab.research.google.com/github/tteodorescu0/M4ML/blob/main/Chapter%202/Exercise_2_6.ipynb\" target=\"_parent\"><img src=\"https://colab.research.google.com/assets/colab-badge.svg\" alt=\"Open In Colab\"/></a>"
      ]
    },
    {
      "cell_type": "markdown",
      "source": [
        "#Exercise 2.6\n",
        "\n",
        "Using Gaussian elimination, find all solutions of the inhomogeneous equa-\n",
        "tion system $\\boldsymbol{A}x = \\boldsymbol{b}$ with\n",
        "\n",
        "$$\\boldsymbol{A}=\\begin{bmatrix}\n",
        "0 & 1 & 0 & 0 & 1 & 0 \\\\\n",
        "0 & 0 & 0 & 1 & 1 & 0 \\\\\n",
        "0 & 1 & 0 & 0 & 0 & 1 \n",
        "\\end{bmatrix}, \\boldsymbol{b}=\\begin{bmatrix}\n",
        "2 \\\\\n",
        "-1 \\\\\n",
        "1 \n",
        "\\end{bmatrix}$$\n"
      ],
      "metadata": {
        "id": "RLezh7wRDq_M"
      }
    },
    {
      "cell_type": "markdown",
      "source": [
        "#Solution\n",
        "\n",
        "We'll start with the augmented matrix and use Gauss elimination to get the row-echelon form. Simailar to the solution to exercise 2.5, we'll use matrix multiplication to perform the three row operations in the Gauss elimination process."
      ],
      "metadata": {
        "id": "OXWjFNL_y0bq"
      }
    },
    {
      "cell_type": "code",
      "source": [
        "from sympy import *"
      ],
      "metadata": {
        "id": "qt0m4eqx-w7M"
      },
      "execution_count": null,
      "outputs": []
    },
    {
      "cell_type": "code",
      "source": [
        "A = Matrix([[0, 1, 0, 0, 1, 0, 2], [0, 0, 0, 1, 1, 0, -1], [0, 1, 0, 0, 0, 1, 1]])\n",
        "A"
      ],
      "metadata": {
        "id": "Utk2N7E5y2Hh",
        "colab": {
          "base_uri": "https://localhost:8080/",
          "height": 78
        },
        "outputId": "4d826b12-b3c4-4175-f455-08c4af182b4e"
      },
      "execution_count": null,
      "outputs": [
        {
          "output_type": "execute_result",
          "data": {
            "text/plain": [
              "Matrix([\n",
              "[0, 1, 0, 0, 1, 0,  2],\n",
              "[0, 0, 0, 1, 1, 0, -1],\n",
              "[0, 1, 0, 0, 0, 1,  1]])"
            ],
            "text/latex": "$\\displaystyle \\left[\\begin{matrix}0 & 1 & 0 & 0 & 1 & 0 & 2\\\\0 & 0 & 0 & 1 & 1 & 0 & -1\\\\0 & 1 & 0 & 0 & 0 & 1 & 1\\end{matrix}\\right]$"
          },
          "metadata": {},
          "execution_count": 4
        }
      ]
    },
    {
      "cell_type": "markdown",
      "source": [
        "\n",
        "$R_3 \\leftarrow R_3 - R_1$"
      ],
      "metadata": {
        "id": "RLsWF_f6_pN7"
      }
    },
    {
      "cell_type": "code",
      "source": [
        "A = Matrix([[1, 0, 0], [0, 1, 0], [-1, 0, 1]]) * A\n",
        "A"
      ],
      "metadata": {
        "colab": {
          "base_uri": "https://localhost:8080/",
          "height": 78
        },
        "id": "E43zVObm_qAA",
        "outputId": "280cad7c-09ad-4646-e45f-695a370c9325"
      },
      "execution_count": null,
      "outputs": [
        {
          "output_type": "execute_result",
          "data": {
            "text/plain": [
              "Matrix([\n",
              "[0, 1, 0, 0,  1, 0,  2],\n",
              "[0, 0, 0, 1,  1, 0, -1],\n",
              "[0, 0, 0, 0, -1, 1, -1]])"
            ],
            "text/latex": "$\\displaystyle \\left[\\begin{matrix}0 & 1 & 0 & 0 & 1 & 0 & 2\\\\0 & 0 & 0 & 1 & 1 & 0 & -1\\\\0 & 0 & 0 & 0 & -1 & 1 & -1\\end{matrix}\\right]$"
          },
          "metadata": {},
          "execution_count": 6
        }
      ]
    },
    {
      "cell_type": "markdown",
      "source": [
        "$R_3 \\leftarrow -R_3$"
      ],
      "metadata": {
        "id": "5IKl8QiGBwPZ"
      }
    },
    {
      "cell_type": "code",
      "source": [
        "A = Matrix([[1, 0, 0], [0, 1, 0], [0, 0, -1]]) *A\n",
        "A"
      ],
      "metadata": {
        "colab": {
          "base_uri": "https://localhost:8080/",
          "height": 78
        },
        "id": "6N3XiAW8B6mp",
        "outputId": "80dca520-eaa1-49aa-a8b8-bdb710f86312"
      },
      "execution_count": null,
      "outputs": [
        {
          "output_type": "execute_result",
          "data": {
            "text/plain": [
              "Matrix([\n",
              "[0, 1, 0, 0, 1,  0,  2],\n",
              "[0, 0, 0, 1, 1,  0, -1],\n",
              "[0, 0, 0, 0, 1, -1,  1]])"
            ],
            "text/latex": "$\\displaystyle \\left[\\begin{matrix}0 & 1 & 0 & 0 & 1 & 0 & 2\\\\0 & 0 & 0 & 1 & 1 & 0 & -1\\\\0 & 0 & 0 & 0 & 1 & -1 & 1\\end{matrix}\\right]$"
          },
          "metadata": {},
          "execution_count": 7
        }
      ]
    },
    {
      "cell_type": "markdown",
      "source": [
        "Reverting back to the a linear system, we obtain the system.\n",
        "\n",
        "$$\\begin{matrix}\n",
        " & x_2 &  &     & +x_5 &      & = 2 \\\\\n",
        " &     &  & x_4 & +x_5 &      & = -1 \\\\\n",
        " &     &  &     & x_5  & -x_6 & = 1 \n",
        "\\end{matrix}\n",
        "$$\n",
        "\n",
        "One particular solution is \n",
        "\n",
        "$$\n",
        "\\begin{bmatrix}\n",
        "x_1 \\\\\n",
        "x_2 \\\\\n",
        "x_3 \\\\\n",
        "x_4 \\\\\n",
        "x_5 \\\\\n",
        "x_6\n",
        "\\end{bmatrix}\n",
        "=\n",
        "\\begin{bmatrix}\n",
        "0 \\\\\n",
        "1 \\\\\n",
        "0 \\\\\n",
        "-2 \\\\\n",
        "1 \\\\\n",
        "0\n",
        "\\end{bmatrix}.\n",
        "$$\n",
        "\n",
        "The reduced row-echelon form of $\\boldsymbol{A}$ is \n",
        "\n",
        "$$\n",
        "\\begin{bmatrix}\n",
        "0 & 1 & 0 & 0 & 0 & 1 \\\\\n",
        "0 & 0 & 0 & 1 & 0 & 1 \\\\\n",
        "0 & 0 & 0 & 0 & 1 & -1 \n",
        "\\end{bmatrix}.\n",
        "$$\n",
        "\n",
        "Applying the minus-1 trick, we get the following matrix, where the newly added rows are in red.\n",
        "\n",
        "$$\n",
        "\\tilde{\\boldsymbol{A}}=\\begin{bmatrix}\n",
        "{\\color{red} {-1} }& {\\color{red} 0 } & {\\color{red} 0} & {\\color{red} 0 } & {\\color{red} 0 } & {\\color{red} 0 } \\\\\n",
        "0 & 1 & 0 & 0 & 0 & 1 \\\\\n",
        "{\\color{red} 0 }& {\\color{red} 0 } & {\\color{red} {-1}} & {\\color{red} 0 } & {\\color{red} 0 } & {\\color{red} 0 } \\\\\n",
        "0 & 0 & 0 & 1 & 0 & 1 \\\\\n",
        "0 & 0 & 0 & 0 & 1 & -1 \\\\\n",
        "{\\color{red} 0 }& {\\color{red} 0 } & {\\color{red} 0} & {\\color{red} 0 } & {\\color{red} 0 } & {\\color{red} {-1} } \n",
        "\\end{bmatrix}\n",
        "$$\n",
        "\n",
        "The solutions of $\\boldsymbol{A}\\boldsymbol{x} = \\boldsymbol{0}$ are represented by the columns of $\\tilde{\\boldsymbol{A}}$ that contain $−1$ on the diagonal. The solution set of $\\boldsymbol{A}\\boldsymbol{x} = \\boldsymbol{0}$ is\n",
        "\n",
        "$$\\begin{Bmatrix} x\\in \\mathbb{R}^5\\, :\\, x = \\lambda_1 \\begin{bmatrix}\n",
        "-1 \\\\\n",
        "0 \\\\\n",
        "0 \\\\\n",
        "0 \\\\\n",
        "0  \\\\\n",
        "0\n",
        "\\end{bmatrix} + \\lambda_2 \\begin{bmatrix}\n",
        "0 \\\\\n",
        "0 \\\\\n",
        "-1 \\\\\n",
        "0 \\\\\n",
        "0  \\\\\n",
        "0\n",
        "\\end{bmatrix} + \\lambda_3 \\begin{bmatrix}\n",
        "0 \\\\\n",
        "1 \\\\\n",
        "0 \\\\\n",
        "1 \\\\\n",
        "-1  \\\\\n",
        "-1\n",
        "\\end{bmatrix}, \\lambda_1, \\lambda_2, \\lambda_3 \\in \\mathbb{R}\\end{Bmatrix}.$$\n",
        "\n",
        "The solution set of $\\boldsymbol{A}\\boldsymbol{x} = \\boldsymbol{b}$ is\n",
        "\n",
        "$$\\begin{Bmatrix} x\\in \\mathbb{R}^5\\, :\\, x = \\begin{bmatrix}\n",
        "0 \\\\\n",
        "1 \\\\\n",
        "0 \\\\\n",
        "-2 \\\\\n",
        "1 \\\\\n",
        "0\n",
        "\\end{bmatrix} + \\lambda_1 \\begin{bmatrix}\n",
        "-1 \\\\\n",
        "0 \\\\\n",
        "0 \\\\\n",
        "0 \\\\\n",
        "0  \\\\\n",
        "0\n",
        "\\end{bmatrix} + \\lambda_2 \\begin{bmatrix}\n",
        "0 \\\\\n",
        "0 \\\\\n",
        "-1 \\\\\n",
        "0 \\\\\n",
        "0  \\\\\n",
        "0\n",
        "\\end{bmatrix} + \\lambda_3 \\begin{bmatrix}\n",
        "0 \\\\\n",
        "1 \\\\\n",
        "0 \\\\\n",
        "1 \\\\\n",
        "-1  \\\\\n",
        "-1\n",
        "\\end{bmatrix}, \\lambda_1, \\lambda_2, \\lambda_3 \\in \\mathbb{R}\\end{Bmatrix}.$$"
      ],
      "metadata": {
        "id": "-0iysYetIzMa"
      }
    }
  ]
}