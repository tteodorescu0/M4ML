{
  "nbformat": 4,
  "nbformat_minor": 0,
  "metadata": {
    "colab": {
      "provenance": [],
      "authorship_tag": "ABX9TyNDbM1C7D7L4sC6b61LJ7Hg",
      "include_colab_link": true
    },
    "kernelspec": {
      "name": "python3",
      "display_name": "Python 3"
    },
    "language_info": {
      "name": "python"
    }
  },
  "cells": [
    {
      "cell_type": "markdown",
      "metadata": {
        "id": "view-in-github",
        "colab_type": "text"
      },
      "source": [
        "<a href=\"https://colab.research.google.com/github/tteodorescu0/M4ML/blob/main/Chapter%202/Exercise_2_3.ipynb\" target=\"_parent\"><img src=\"https://colab.research.google.com/assets/colab-badge.svg\" alt=\"Open In Colab\"/></a>"
      ]
    },
    {
      "cell_type": "markdown",
      "source": [
        "#Exercise 2.3\n",
        "\n",
        "Consider the set $G$ of $3 \\times 3$ matrices defined as follows:\n",
        "\n",
        "$$G=\\begin{Bmatrix}\\begin{bmatrix}\n",
        "1 & x & z \\\\\n",
        "0 & 1 & y \\\\\n",
        "0 & 0 & 1\n",
        "\\end{bmatrix} \\in \\mathbb{R}^{3\\times 3}|x,y,z\\in \\mathbb{R}^3\\end{Bmatrix}$$\n",
        "\n",
        "We define $\\cdot$ as the standard matrix multiplication.\n",
        "\n",
        "Is $(G, \\cdot)$ a group? If yes, is it Abelian? Justify your answer."
      ],
      "metadata": {
        "id": "RLezh7wRDq_M"
      }
    },
    {
      "cell_type": "markdown",
      "source": [
        "#Solution\n",
        "\n",
        "$G$ is close under the operation $\\cdot$."
      ],
      "metadata": {
        "id": "7_xeTR8zFT7K"
      }
    },
    {
      "cell_type": "code",
      "source": [
        "import numpy as np\n",
        "from sympy import *\n",
        "\n",
        "# Define the symbols\n",
        "from sympy.abc import a, b, c, p, q, r, x, y, z\n",
        "\n",
        "A = Matrix([[1, a, c], [0, 1, b], [0, 0, 1]])\n",
        "P = Matrix([[1, p, r], [0, 1, q], [0, 0, 1]])\n",
        "X = Matrix([[1, x, z], [0, 1, y], [0, 0, 1]])\n",
        "cancel(A * P)"
      ],
      "metadata": {
        "colab": {
          "base_uri": "https://localhost:8080/",
          "height": 78
        },
        "id": "WDb1TDPooDCl",
        "outputId": "83eb2fad-2d19-442b-f380-4419a852ffd9"
      },
      "execution_count": 1,
      "outputs": [
        {
          "output_type": "execute_result",
          "data": {
            "text/plain": [
              "Matrix([\n",
              "[1, a + p, a*q + c + r],\n",
              "[0,     1,       b + q],\n",
              "[0,     0,           1]])"
            ],
            "text/latex": "$\\displaystyle \\left[\\begin{matrix}1 & a + p & a q + c + r\\\\0 & 1 & b + q\\\\0 & 0 & 1\\end{matrix}\\right]$"
          },
          "metadata": {},
          "execution_count": 1
        }
      ]
    },
    {
      "cell_type": "markdown",
      "source": [
        "The operation $\\cdot$ is associative. This follows from the associativity of the matrix multiplication. Another way to see this is to check that `(A*P)*X=A*(P*X)` as shown below."
      ],
      "metadata": {
        "id": "CScMNB3HnlU-"
      }
    },
    {
      "cell_type": "code",
      "source": [
        "cancel((A*P)*X) == cancel(A*(P*X))"
      ],
      "metadata": {
        "colab": {
          "base_uri": "https://localhost:8080/"
        },
        "id": "8sbtcUf7qjg1",
        "outputId": "4166a644-362b-45f2-d403-8718a75b6d47"
      },
      "execution_count": 2,
      "outputs": [
        {
          "output_type": "execute_result",
          "data": {
            "text/plain": [
              "True"
            ]
          },
          "metadata": {},
          "execution_count": 2
        }
      ]
    },
    {
      "cell_type": "markdown",
      "source": [
        "The operation $\\cdot$ has an unit element. This follows because the identity matrix is an element of $G$. Another way to see this is to check that `A*I=I*A=A` as shown below."
      ],
      "metadata": {
        "id": "8heTSsHMnmlo"
      }
    },
    {
      "cell_type": "code",
      "source": [
        "I = Matrix([[1, 0, 0], [0, 1, 0], [0, 0, 1]])\n",
        "\n",
        "print(cancel(A*I) == A)\n",
        "\n",
        "print(cancel(I*A) == A)"
      ],
      "metadata": {
        "colab": {
          "base_uri": "https://localhost:8080/"
        },
        "id": "Gf5UkvXZrKq-",
        "outputId": "0e55f934-859e-411b-996d-bf8c8e57566b"
      },
      "execution_count": 3,
      "outputs": [
        {
          "output_type": "stream",
          "name": "stdout",
          "text": [
            "True\n",
            "True\n"
          ]
        }
      ]
    },
    {
      "cell_type": "markdown",
      "source": [
        "Any element in $G$ has an inverse in $G$.\n",
        "\n",
        "The inverse of $\\begin{bmatrix}\n",
        "1 & x & z \\\\\n",
        "0 & 1 & y \\\\\n",
        "0 & 0 & 1\n",
        "\\end{bmatrix}$ is $\\begin{bmatrix}\n",
        "1 & -x & xy-z \\\\\n",
        "0 & 1 & -y \\\\\n",
        "0 & 0 & 1\n",
        "\\end{bmatrix}$ as shown below."
      ],
      "metadata": {
        "id": "p6UcS7T_nne8"
      }
    },
    {
      "cell_type": "code",
      "source": [
        "X_inverse = Matrix([[1, -x, x*y-z], [0, 1, -y], [0, 0, 1]])\n",
        "\n",
        "print(cancel(X*X_inverse) == I)\n",
        "\n",
        "print(cancel(X_inverse*X) == I)"
      ],
      "metadata": {
        "colab": {
          "base_uri": "https://localhost:8080/"
        },
        "id": "fb9eIzDWsED0",
        "outputId": "eea31371-597b-4a13-a521-f13df8afe712"
      },
      "execution_count": 4,
      "outputs": [
        {
          "output_type": "stream",
          "name": "stdout",
          "text": [
            "True\n",
            "True\n"
          ]
        }
      ]
    },
    {
      "cell_type": "markdown",
      "source": [
        "$(G,\\cdot)$ is not Abelian because $A*P\\neq P*A$ as shown below."
      ],
      "metadata": {
        "id": "vnwygyV7nofq"
      }
    },
    {
      "cell_type": "code",
      "source": [
        "print(cancel(A * P) == cancel (P * A))"
      ],
      "metadata": {
        "colab": {
          "base_uri": "https://localhost:8080/"
        },
        "id": "G3e_SVj6tOfY",
        "outputId": "ae67b03d-9cc4-4745-9cf9-01e7fdebd1de"
      },
      "execution_count": 5,
      "outputs": [
        {
          "output_type": "stream",
          "name": "stdout",
          "text": [
            "False\n"
          ]
        }
      ]
    }
  ]
}