{
  "nbformat": 4,
  "nbformat_minor": 0,
  "metadata": {
    "colab": {
      "provenance": [],
      "authorship_tag": "ABX9TyPQhfxQstlhYFH93SbLRNO8",
      "include_colab_link": true
    },
    "kernelspec": {
      "name": "python3",
      "display_name": "Python 3"
    },
    "language_info": {
      "name": "python"
    }
  },
  "cells": [
    {
      "cell_type": "markdown",
      "metadata": {
        "id": "view-in-github",
        "colab_type": "text"
      },
      "source": [
        "<a href=\"https://colab.research.google.com/github/tteodorescu0/M4ML/blob/main/Chapter%202/Exercise_2_7.ipynb\" target=\"_parent\"><img src=\"https://colab.research.google.com/assets/colab-badge.svg\" alt=\"Open In Colab\"/></a>"
      ]
    },
    {
      "cell_type": "markdown",
      "source": [
        "#Exercise 2.7\n",
        "\n",
        "Find all solutions in $\\boldsymbol{x} = \\begin{bmatrix} x_1 \\\\\n",
        "x_2 \\\\\n",
        "x_3\n",
        "\\end{bmatrix} \\in \\mathbb{R}^3$ of the equation system $\\boldsymbol{A}\\boldsymbol{x} = 12\\boldsymbol{x}$,\n",
        "where\n",
        "\n",
        "$$\\boldsymbol{A}=\\begin{bmatrix}\n",
        "6 & 4 & 3  \\\\\n",
        "6 & 0 & 9  \\\\\n",
        "0 & 8 & 0  \n",
        "\\end{bmatrix}$$\n",
        "\n",
        "and $\\Sigma_{i=1}^{3} x_i = 1$."
      ],
      "metadata": {
        "id": "RLezh7wRDq_M"
      }
    },
    {
      "cell_type": "markdown",
      "source": [
        "#Solution\n",
        "\n",
        "$\\boldsymbol{A}\\boldsymbol{x} = 12\\boldsymbol{x}$ is equivalent to $(\\boldsymbol{A}-12 \\boldsymbol{I})\\boldsymbol{x} = \\boldsymbol{0}$, which is equivalent to \n",
        "\n",
        "$$\\begin{bmatrix}\n",
        "-6 & 4 & 3  \\\\\n",
        "6 & -12 & 9  \\\\\n",
        "0 & 8 & -12  \n",
        "\\end{bmatrix} \\cdot \\begin{bmatrix} x_1 \\\\\n",
        "x_2 \\\\\n",
        "x_3\n",
        "\\end{bmatrix} = \\begin{bmatrix} 0 \\\\\n",
        "0 \\\\\n",
        "0\n",
        "\\end{bmatrix}$$\n",
        "\n",
        "$\\Sigma_{i=1}^{3} x_i = 1$ is equivalent to\n",
        "\n",
        "$$\\begin{bmatrix}\n",
        "1 & 1 & 1  \n",
        "\\end{bmatrix} \\cdot \\begin{bmatrix} x_1 \\\\\n",
        "x_2 \\\\\n",
        "x_3\n",
        "\\end{bmatrix} = \\begin{bmatrix} \n",
        "1\n",
        "\\end{bmatrix}$$\n",
        "\n",
        "Combining the two equations, we get\n",
        "\n",
        "$$\\begin{bmatrix}\n",
        "-6 & 4 & 3  \\\\\n",
        "6 & -12 & 9  \\\\\n",
        "0 & 8 & -12  \\\\\n",
        "1 & 1 & 1 \n",
        "\\end{bmatrix} \\cdot \\begin{bmatrix} x_1 \\\\\n",
        "x_2 \\\\\n",
        "x_3\n",
        "\\end{bmatrix} = \\begin{bmatrix} 0 \\\\\n",
        "0 \\\\\n",
        "0 \\\\\n",
        "1\n",
        "\\end{bmatrix}$$\n",
        "\n",
        "We'll start with the augmented matrix and use Gauss elimination to get the row-echelon form. Simailar to the solution to exercise 2.5, we'll use matrix multiplication to perform the three row operations in the Gauss elimination process."
      ],
      "metadata": {
        "id": "OXWjFNL_y0bq"
      }
    },
    {
      "cell_type": "code",
      "source": [
        "from sympy import *"
      ],
      "metadata": {
        "id": "qt0m4eqx-w7M"
      },
      "execution_count": null,
      "outputs": []
    },
    {
      "cell_type": "code",
      "source": [
        "A = Matrix([[-6, 4, 3, 0], [6, -12, 9, 0], [0, 8, -12, 0], [1, 1, 1, 1]])\n",
        "A"
      ],
      "metadata": {
        "id": "Utk2N7E5y2Hh",
        "colab": {
          "base_uri": "https://localhost:8080/",
          "height": 98
        },
        "outputId": "9ac1cb72-3508-4e64-b1d7-f950c62a8049"
      },
      "execution_count": null,
      "outputs": [
        {
          "output_type": "execute_result",
          "data": {
            "text/plain": [
              "Matrix([\n",
              "[-6,   4,   3, 0],\n",
              "[ 6, -12,   9, 0],\n",
              "[ 0,   8, -12, 0],\n",
              "[ 1,   1,   1, 1]])"
            ],
            "text/latex": "$\\displaystyle \\left[\\begin{matrix}-6 & 4 & 3 & 0\\\\6 & -12 & 9 & 0\\\\0 & 8 & -12 & 0\\\\1 & 1 & 1 & 1\\end{matrix}\\right]$"
          },
          "metadata": {},
          "execution_count": 16
        }
      ]
    },
    {
      "cell_type": "markdown",
      "source": [
        "\n",
        "$R_1 \\leftarrow -\\frac{1}{6} R_1$"
      ],
      "metadata": {
        "id": "RLsWF_f6_pN7"
      }
    },
    {
      "cell_type": "code",
      "source": [
        "A = Matrix([[-Rational(1,6), 0, 0, 0], [0, 1, 0, 0], [0, 0, 1, 0], [0, 0, 0, 1]]) * A\n",
        "A"
      ],
      "metadata": {
        "colab": {
          "base_uri": "https://localhost:8080/",
          "height": 98
        },
        "id": "E43zVObm_qAA",
        "outputId": "34c6f08f-7301-431f-9690-df8ea46a441c"
      },
      "execution_count": null,
      "outputs": [
        {
          "output_type": "execute_result",
          "data": {
            "text/plain": [
              "Matrix([\n",
              "[1, -2/3, -1/2, 0],\n",
              "[6,  -12,    9, 0],\n",
              "[0,    8,  -12, 0],\n",
              "[1,    1,    1, 1]])"
            ],
            "text/latex": "$\\displaystyle \\left[\\begin{matrix}1 & - \\frac{2}{3} & - \\frac{1}{2} & 0\\\\6 & -12 & 9 & 0\\\\0 & 8 & -12 & 0\\\\1 & 1 & 1 & 1\\end{matrix}\\right]$"
          },
          "metadata": {},
          "execution_count": 17
        }
      ]
    },
    {
      "cell_type": "markdown",
      "source": [
        "$R_2 \\leftarrow R_2 - 6 R_1$\n",
        "\n",
        "$R_4 \\leftarrow R_4 -  R_1$"
      ],
      "metadata": {
        "id": "fPefEJGR9MCO"
      }
    },
    {
      "cell_type": "code",
      "source": [
        "A = Matrix([[1, 0, 0, 0], [-6, 1, 0, 0], [0, 0, 1, 0], [0, 0, 0, 1]]) * A\n",
        "A = Matrix([[1, 0, 0, 0], [0, 1, 0, 0], [0, 0, 1, 0], [-1, 0, 0, 1]]) * A\n",
        "A"
      ],
      "metadata": {
        "colab": {
          "base_uri": "https://localhost:8080/",
          "height": 99
        },
        "id": "oY9tBaPu9cag",
        "outputId": "6ded7708-b654-4333-b2b9-55ec748c3af0"
      },
      "execution_count": null,
      "outputs": [
        {
          "output_type": "execute_result",
          "data": {
            "text/plain": [
              "Matrix([\n",
              "[1, -2/3, -1/2, 0],\n",
              "[0,   -8,   12, 0],\n",
              "[0,    8,  -12, 0],\n",
              "[0,  5/3,  3/2, 1]])"
            ],
            "text/latex": "$\\displaystyle \\left[\\begin{matrix}1 & - \\frac{2}{3} & - \\frac{1}{2} & 0\\\\0 & -8 & 12 & 0\\\\0 & 8 & -12 & 0\\\\0 & \\frac{5}{3} & \\frac{3}{2} & 1\\end{matrix}\\right]$"
          },
          "metadata": {},
          "execution_count": 18
        }
      ]
    },
    {
      "cell_type": "markdown",
      "source": [
        "$R_2 \\leftarrow -\\frac{1}{8} R_2$"
      ],
      "metadata": {
        "id": "1_V-AOm4-ixt"
      }
    },
    {
      "cell_type": "code",
      "source": [
        "A = Matrix([[1, 0, 0, 0], [0, -Rational(1,8), 0, 0], [0, 0, 1, 0], [0, 0, 0, 1]]) * A\n",
        "A"
      ],
      "metadata": {
        "colab": {
          "base_uri": "https://localhost:8080/",
          "height": 99
        },
        "id": "s9sWPtfP-mbX",
        "outputId": "0dc269e1-6ae8-40c8-95f6-8d76639d9339"
      },
      "execution_count": null,
      "outputs": [
        {
          "output_type": "execute_result",
          "data": {
            "text/plain": [
              "Matrix([\n",
              "[1, -2/3, -1/2, 0],\n",
              "[0,    1, -3/2, 0],\n",
              "[0,    8,  -12, 0],\n",
              "[0,  5/3,  3/2, 1]])"
            ],
            "text/latex": "$\\displaystyle \\left[\\begin{matrix}1 & - \\frac{2}{3} & - \\frac{1}{2} & 0\\\\0 & 1 & - \\frac{3}{2} & 0\\\\0 & 8 & -12 & 0\\\\0 & \\frac{5}{3} & \\frac{3}{2} & 1\\end{matrix}\\right]$"
          },
          "metadata": {},
          "execution_count": 19
        }
      ]
    },
    {
      "cell_type": "markdown",
      "source": [
        "$R_3 \\leftarrow R_3 - 8 R_2$\n",
        "\n",
        "$R_4 \\leftarrow R_4 - \\frac{5}{3} R_2$"
      ],
      "metadata": {
        "id": "Wl_VhEiH-uxA"
      }
    },
    {
      "cell_type": "code",
      "source": [
        "A = Matrix([[1, 0, 0, 0], [0, 1, 0, 0], [0, -8, 1, 0], [0, 0, 0, 1]]) * A\n",
        "A = Matrix([[1, 0, 0, 0], [0, 1, 0, 0], [0, 0, 1, 0], [0, -Rational(5,3), 0, 1]]) * A\n",
        "A"
      ],
      "metadata": {
        "colab": {
          "base_uri": "https://localhost:8080/",
          "height": 99
        },
        "id": "4zP9SFkO-8p9",
        "outputId": "3bf82d90-6019-4dcf-8584-55de27d54ef0"
      },
      "execution_count": null,
      "outputs": [
        {
          "output_type": "execute_result",
          "data": {
            "text/plain": [
              "Matrix([\n",
              "[1, -2/3, -1/2, 0],\n",
              "[0,    1, -3/2, 0],\n",
              "[0,    0,    0, 0],\n",
              "[0,    0,    4, 1]])"
            ],
            "text/latex": "$\\displaystyle \\left[\\begin{matrix}1 & - \\frac{2}{3} & - \\frac{1}{2} & 0\\\\0 & 1 & - \\frac{3}{2} & 0\\\\0 & 0 & 0 & 0\\\\0 & 0 & 4 & 1\\end{matrix}\\right]$"
          },
          "metadata": {},
          "execution_count": 20
        }
      ]
    },
    {
      "cell_type": "markdown",
      "source": [
        "$R_4 \\leftarrow \\frac{1}{4}R_4$"
      ],
      "metadata": {
        "id": "5IKl8QiGBwPZ"
      }
    },
    {
      "cell_type": "code",
      "source": [
        "A = Matrix([[1, 0, 0, 0], [0, 1, 0, 0], [0, 0, 1, 0], [0, 0, 0, Rational(1,4)]]) *A\n",
        "A"
      ],
      "metadata": {
        "colab": {
          "base_uri": "https://localhost:8080/",
          "height": 99
        },
        "id": "6N3XiAW8B6mp",
        "outputId": "96dd276b-54d9-4c73-b5a1-d4cc84747287"
      },
      "execution_count": null,
      "outputs": [
        {
          "output_type": "execute_result",
          "data": {
            "text/plain": [
              "Matrix([\n",
              "[1, -2/3, -1/2,   0],\n",
              "[0,    1, -3/2,   0],\n",
              "[0,    0,    0,   0],\n",
              "[0,    0,    1, 1/4]])"
            ],
            "text/latex": "$\\displaystyle \\left[\\begin{matrix}1 & - \\frac{2}{3} & - \\frac{1}{2} & 0\\\\0 & 1 & - \\frac{3}{2} & 0\\\\0 & 0 & 0 & 0\\\\0 & 0 & 1 & \\frac{1}{4}\\end{matrix}\\right]$"
          },
          "metadata": {},
          "execution_count": 21
        }
      ]
    },
    {
      "cell_type": "markdown",
      "source": [
        "We'll use Gauss elimination to get the reduced row-echelon form."
      ],
      "metadata": {
        "id": "U8ryQ1jr_wgL"
      }
    },
    {
      "cell_type": "markdown",
      "source": [
        "$R_1 \\leftarrow R_1 +\\frac{2}{3}R_2$"
      ],
      "metadata": {
        "id": "ndWhFB9A_0-X"
      }
    },
    {
      "cell_type": "code",
      "source": [
        "A = Matrix([[1, Rational(2,3), 0, 0], [0, 1, 0, 0], [0, 0, 1, 0], [0, 0, 0, 1]]) *A\n",
        "A"
      ],
      "metadata": {
        "colab": {
          "base_uri": "https://localhost:8080/",
          "height": 99
        },
        "id": "16Ar97ip_9Lo",
        "outputId": "7af66f8f-aa84-440d-e80b-ac6601c892ed"
      },
      "execution_count": null,
      "outputs": [
        {
          "output_type": "execute_result",
          "data": {
            "text/plain": [
              "Matrix([\n",
              "[1, 0, -3/2,   0],\n",
              "[0, 1, -3/2,   0],\n",
              "[0, 0,    0,   0],\n",
              "[0, 0,    1, 1/4]])"
            ],
            "text/latex": "$\\displaystyle \\left[\\begin{matrix}1 & 0 & - \\frac{3}{2} & 0\\\\0 & 1 & - \\frac{3}{2} & 0\\\\0 & 0 & 0 & 0\\\\0 & 0 & 1 & \\frac{1}{4}\\end{matrix}\\right]$"
          },
          "metadata": {},
          "execution_count": 22
        }
      ]
    },
    {
      "cell_type": "markdown",
      "source": [
        "$R_1 \\leftarrow R_1 +\\frac{3}{2}R_4$\n",
        "\n",
        "$R_2 \\leftarrow R_2 + \\frac{3}{2}R_4$"
      ],
      "metadata": {
        "id": "WL9iX5pEAOqC"
      }
    },
    {
      "cell_type": "code",
      "source": [
        "A = Matrix([[1, 0, 0, Rational(3,2)], [0, 1, 0, 0], [0, 0, 1, 0], [0, 0, 0, 1]]) *A\n",
        "A = Matrix([[1, 0, 0, 0], [0, 1, 0, Rational(3,2)], [0, 0, 1, 0], [0, 0, 0, 1]]) *A\n",
        "A"
      ],
      "metadata": {
        "colab": {
          "base_uri": "https://localhost:8080/",
          "height": 99
        },
        "id": "nYWRMN1IAN_6",
        "outputId": "390ddb4d-b35e-4d65-eb16-b5aede58e9c4"
      },
      "execution_count": null,
      "outputs": [
        {
          "output_type": "execute_result",
          "data": {
            "text/plain": [
              "Matrix([\n",
              "[1, 0, 0, 3/8],\n",
              "[0, 1, 0, 3/8],\n",
              "[0, 0, 0,   0],\n",
              "[0, 0, 1, 1/4]])"
            ],
            "text/latex": "$\\displaystyle \\left[\\begin{matrix}1 & 0 & 0 & \\frac{3}{8}\\\\0 & 1 & 0 & \\frac{3}{8}\\\\0 & 0 & 0 & 0\\\\0 & 0 & 1 & \\frac{1}{4}\\end{matrix}\\right]$"
          },
          "metadata": {},
          "execution_count": 23
        }
      ]
    },
    {
      "cell_type": "markdown",
      "source": [
        "The solution is $(x_1, x_2, x_3) = (\\frac{3}{8},\\frac{3}{8},\\frac{1}{4})$."
      ],
      "metadata": {
        "id": "-0iysYetIzMa"
      }
    }
  ]
}