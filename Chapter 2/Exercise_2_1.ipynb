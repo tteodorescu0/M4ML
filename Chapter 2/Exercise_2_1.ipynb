{
  "nbformat": 4,
  "nbformat_minor": 0,
  "metadata": {
    "colab": {
      "provenance": [],
      "authorship_tag": "ABX9TyOKdHCFK4dUcXygRQqBl2JM",
      "include_colab_link": true
    },
    "kernelspec": {
      "name": "python3",
      "display_name": "Python 3"
    },
    "language_info": {
      "name": "python"
    }
  },
  "cells": [
    {
      "cell_type": "markdown",
      "metadata": {
        "id": "view-in-github",
        "colab_type": "text"
      },
      "source": [
        "<a href=\"https://colab.research.google.com/github/tteodorescu0/M4ML/blob/main/Chapter%202/Exercise_2_1.ipynb\" target=\"_parent\"><img src=\"https://colab.research.google.com/assets/colab-badge.svg\" alt=\"Open In Colab\"/></a>"
      ]
    },
    {
      "cell_type": "markdown",
      "source": [
        "#Exercise 2.1\n",
        "\n",
        "We consider $(R\\setminus\\{−1\\}, ⋆)$, where $a⋆b := ab+a+b$, $a,b ∈ R\\setminus\\{−1\\}$.\n",
        "\n",
        "a. Show that $(R\\setminus\\{−1\\}, ⋆)$ is an Abelian group. \n",
        "\n",
        "b. Solve $3 ⋆ x ⋆ x = 15$ in the Abelian group $(R\\setminus\\{−1\\}, ⋆)$."
      ],
      "metadata": {
        "id": "RLezh7wRDq_M"
      }
    },
    {
      "cell_type": "code",
      "source": [
        "import numpy as np\n",
        "from sympy import *"
      ],
      "metadata": {
        "id": "qRbqCCZZECjH"
      },
      "execution_count": 1,
      "outputs": []
    },
    {
      "cell_type": "markdown",
      "source": [
        "#Part a\n",
        "The operation $⋆$ is well defined: If $a,b ∈ R\\setminus\\{−1\\}$, then $a⋆b ∈ R\\setminus\\{−1\\}$.\n",
        "\n",
        "This follows from the identity $1+a⋆b=(1+a)(1+b)$. Since $1+a\\neq 0$ and $1+b\\neq 0$, then $1+a⋆b=(1+a)(1+b)\\neq 0$, so $a⋆b ∈ R\\setminus\\{−1\\}$.\n",
        " "
      ],
      "metadata": {
        "id": "7_xeTR8zFT7K"
      }
    },
    {
      "cell_type": "markdown",
      "source": [
        "The operation $⋆$ is commutative: If $a,b ∈ R\\setminus\\{−1\\}$, then $a⋆b = b⋆a$ as shown below."
      ],
      "metadata": {
        "id": "yEjsYZowGOcX"
      }
    },
    {
      "cell_type": "code",
      "source": [
        "from sympy import Lambda\n",
        "# Define the symbols\n",
        "from sympy.abc import a, b, c\n",
        "# Define the operation as a function f\n",
        "f = Lambda((a,b), a*b+a+b)\n",
        "# Check commutativity\n",
        "f(a,b) == f(b,a)"
      ],
      "metadata": {
        "colab": {
          "base_uri": "https://localhost:8080/"
        },
        "id": "7R76pIy8GH_j",
        "outputId": "9fa1821a-404b-4134-812e-013b90284d4c"
      },
      "execution_count": 2,
      "outputs": [
        {
          "output_type": "execute_result",
          "data": {
            "text/plain": [
              "True"
            ]
          },
          "metadata": {},
          "execution_count": 2
        }
      ]
    },
    {
      "cell_type": "markdown",
      "source": [
        "0 is a unit element for the operation $⋆$: If $a ∈ R\\setminus\\{−1\\}$, then $a⋆0 = 0⋆a = a$ as shown below."
      ],
      "metadata": {
        "id": "vwHd4UNhH_Oy"
      }
    },
    {
      "cell_type": "code",
      "source": [
        "# Check a * 0 = a\n",
        "print(f(a,0) == a)\n",
        "# Check 0 * a = a\n",
        "print(f(0,a) == a)"
      ],
      "metadata": {
        "colab": {
          "base_uri": "https://localhost:8080/"
        },
        "id": "RGTQrS-GIReQ",
        "outputId": "e7151a57-90d8-43db-b030-4a45b7581cc5"
      },
      "execution_count": 3,
      "outputs": [
        {
          "output_type": "stream",
          "name": "stdout",
          "text": [
            "True\n",
            "True\n"
          ]
        }
      ]
    },
    {
      "cell_type": "markdown",
      "source": [
        "Any element has an inverse with respect to the operation $⋆$: If $a ∈ R\\setminus\\{−1\\}$, let $b=-\\frac{a}{a+1}$. Then $a⋆b = b⋆a = 0$ as shown below."
      ],
      "metadata": {
        "id": "DcTtinnwKYow"
      }
    },
    {
      "cell_type": "code",
      "source": [
        "# Define the inverse\n",
        "a_inverse = -a/(a+1)\n",
        "# Check that a_inverse * a = 0\n",
        "print(cancel(f(a_inverse,a))==0)   # cancel simplifies a rational expression\n",
        "# Check that a * a_inverse = 0\n",
        "print(cancel(f(a,a_inverse))==0)"
      ],
      "metadata": {
        "colab": {
          "base_uri": "https://localhost:8080/"
        },
        "id": "zohvChj8K9g6",
        "outputId": "75be1125-4b80-4194-dada-9690e2b5c32d"
      },
      "execution_count": 4,
      "outputs": [
        {
          "output_type": "stream",
          "name": "stdout",
          "text": [
            "True\n",
            "True\n"
          ]
        }
      ]
    },
    {
      "cell_type": "markdown",
      "source": [
        "The operation $⋆$ is transitive: If $a,b,c ∈ R\\setminus\\{−1\\}$, then $(a⋆b)⋆c = a⋆(b⋆c)$ as shown below."
      ],
      "metadata": {
        "id": "EL4CxMm6OvWR"
      }
    },
    {
      "cell_type": "code",
      "source": [
        "# Check transitivity\n",
        "cancel(f(f(a,b),c)-f(a,f(b,c))) == 0"
      ],
      "metadata": {
        "colab": {
          "base_uri": "https://localhost:8080/"
        },
        "id": "7DKelqHEO9nG",
        "outputId": "617bf6b0-32be-4f3a-e554-3a26986f6e2b"
      },
      "execution_count": 5,
      "outputs": [
        {
          "output_type": "execute_result",
          "data": {
            "text/plain": [
              "True"
            ]
          },
          "metadata": {},
          "execution_count": 5
        }
      ]
    },
    {
      "cell_type": "markdown",
      "source": [
        "#Part b\n",
        "The equation $3 ⋆ x ⋆ x = 15$ in the Abelian group $(R\\setminus\\{−1\\}, ⋆)$ has two solutions: $x=-3$ and $x=1$ as shown below."
      ],
      "metadata": {
        "id": "hZ90tWBIOHvx"
      }
    },
    {
      "cell_type": "code",
      "source": [
        "from sympy.abc import x\n",
        "equation = f(3,f(x,x)) - 15\n",
        "solveset(equation, x)"
      ],
      "metadata": {
        "colab": {
          "base_uri": "https://localhost:8080/",
          "height": 37
        },
        "id": "uuW-h5HPTVB9",
        "outputId": "226cd5d0-c016-4c3c-e0da-48349efeddc0"
      },
      "execution_count": 7,
      "outputs": [
        {
          "output_type": "execute_result",
          "data": {
            "text/plain": [
              "FiniteSet(-3, 1)"
            ],
            "text/latex": "$\\displaystyle \\left\\{-3, 1\\right\\}$"
          },
          "metadata": {},
          "execution_count": 7
        }
      ]
    }
  ]
}