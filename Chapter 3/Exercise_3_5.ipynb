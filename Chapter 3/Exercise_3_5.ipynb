{
  "nbformat": 4,
  "nbformat_minor": 0,
  "metadata": {
    "colab": {
      "provenance": [],
      "authorship_tag": "ABX9TyPGcU08Du2+oc97IpAVeI8A",
      "include_colab_link": true
    },
    "kernelspec": {
      "name": "python3",
      "display_name": "Python 3"
    },
    "language_info": {
      "name": "python"
    }
  },
  "cells": [
    {
      "cell_type": "markdown",
      "metadata": {
        "id": "view-in-github",
        "colab_type": "text"
      },
      "source": [
        "<a href=\"https://colab.research.google.com/github/tteodorescu0/M4ML/blob/main/Chapter%203/Exercise_3_5.ipynb\" target=\"_parent\"><img src=\"https://colab.research.google.com/assets/colab-badge.svg\" alt=\"Open In Colab\"/></a>"
      ]
    },
    {
      "cell_type": "markdown",
      "source": [
        "#Exercise 3.5\n",
        "\n",
        "Consider the Euclidean vector space $\\mathbb{R}^5$ with the dot product. A subspace $U \\subseteq \\mathbb{R}^5$ and $\\mathbf{x} \\in \\mathbb{R}^5$ are given by\n",
        "\n",
        "$$U = \\mathrm{span}[\\begin{bmatrix} 0 \\\\ -1 \\\\ 2\\\\ 0 \\\\2 \\end{bmatrix}, \n",
        "\\begin{bmatrix} 1 \\\\ -3 \\\\ 1\\\\ -1 \\\\2 \\end{bmatrix},\n",
        "\\begin{bmatrix} -3 \\\\ 4 \\\\ 1\\\\ 2 \\\\1 \\end{bmatrix},\n",
        "\\begin{bmatrix} -1 \\\\ -3 \\\\ 5\\\\ 0 \\\\7 \\end{bmatrix}], \\mathbf{x} = \\begin{bmatrix} -1 \\\\ -9 \\\\ -1\\\\ 4 \\\\1 \\end{bmatrix}$$\n",
        "\n",
        "a. Determine the orthogonal projection $\\pi_U(x)$ of $\\mathbf{x}$ onto $U$.\n",
        "\n",
        "b. Determine the distance $d(\\mathbf{x},U)$."
      ],
      "metadata": {
        "id": "RLezh7wRDq_M"
      }
    },
    {
      "cell_type": "code",
      "source": [
        "from sympy import *"
      ],
      "metadata": {
        "id": "qt0m4eqx-w7M"
      },
      "execution_count": 2,
      "outputs": []
    },
    {
      "cell_type": "markdown",
      "source": [
        "#Solution: Part a\n",
        "\n",
        "The 4 vectors that span $U$ are not linear independent because the reduced row-echelon form below does not have pivots in all the columns. In fact, the computation below shows that the first 3 vectors are linear independent and that the fourth vector is linear dependend on the first 3 vectors as follows.\n",
        "\n",
        "$$\\begin{bmatrix} -1 \\\\ -3 \\\\ 5\\\\ 0 \\\\7 \\end{bmatrix} = \\begin{bmatrix} 0 \\\\ -1 \\\\ 2\\\\ 0 \\\\2 \\end{bmatrix} + 2\n",
        "\\begin{bmatrix} 1 \\\\ -3 \\\\ 1\\\\ -1 \\\\2 \\end{bmatrix} +\n",
        "\\begin{bmatrix} -3 \\\\ 4 \\\\ 1\\\\ 2 \\\\1 \\end{bmatrix}\n",
        "$$"
      ],
      "metadata": {
        "id": "h7z2M74DEdWS"
      }
    },
    {
      "cell_type": "code",
      "source": [
        "A = Matrix([[0, 1, -3, -1], [-1, -3, 4, -3], [2, 1, 1, 5], [0,-1, 2, 0], [2, 2, 1, 7]])\n",
        "A.rref()"
      ],
      "metadata": {
        "colab": {
          "base_uri": "https://localhost:8080/"
        },
        "id": "6455qBprYwWo",
        "outputId": "edfe2aba-54cd-46e2-c9ee-f25ba64c62ca"
      },
      "execution_count": 5,
      "outputs": [
        {
          "output_type": "execute_result",
          "data": {
            "text/plain": [
              "(Matrix([\n",
              " [1, 0, 0, 1],\n",
              " [0, 1, 0, 2],\n",
              " [0, 0, 1, 1],\n",
              " [0, 0, 0, 0],\n",
              " [0, 0, 0, 0]]), (0, 1, 2))"
            ]
          },
          "metadata": {},
          "execution_count": 5
        }
      ]
    },
    {
      "cell_type": "markdown",
      "source": [
        "Recall that $\\pi_U(\\mathbf{x}) = \\mathbf{B}{(\\mathbf{B}^T\\mathbf{B})}^{−1}\\mathbf{B}^T\\mathbf{x}$, where $\\mathbf{B}$ is formed by the first 3 vectors.\n",
        "\n",
        "$$\\mathbf{B} = \n",
        "\\begin{bmatrix} \n",
        "0 & 1 & -3 \\\\ \n",
        "-1 & -3 & 4 \\\\ \n",
        "2 & 1 & 1 \\\\\n",
        "0 & -1 & 2 \\\\ \n",
        "2 & 2 & 1 \n",
        "\\end{bmatrix} $$"
      ],
      "metadata": {
        "id": "v9byaqsBZjvK"
      }
    },
    {
      "cell_type": "code",
      "source": [
        "B = Matrix([[0, 1, -3], [-1, -3, 4], [2, 1, 1], [0,-1, 2], [2 , 2, 1]])\n",
        "\n",
        "x = Matrix([[-1], [-9], [-1], [4], [1]])\n",
        "\n",
        "x_U = B * (B.T * B)**(-1) * B.T * x\n",
        "x_U"
      ],
      "metadata": {
        "id": "Utk2N7E5y2Hh",
        "colab": {
          "base_uri": "https://localhost:8080/",
          "height": 119
        },
        "outputId": "11befdf9-e71b-4dbd-a772-a5ec6e35758d"
      },
      "execution_count": 7,
      "outputs": [
        {
          "output_type": "execute_result",
          "data": {
            "text/plain": [
              "Matrix([\n",
              "[ 1],\n",
              "[-5],\n",
              "[-1],\n",
              "[-2],\n",
              "[ 3]])"
            ],
            "text/latex": "$\\displaystyle \\left[\\begin{matrix}1\\\\-5\\\\-1\\\\-2\\\\3\\end{matrix}\\right]$"
          },
          "metadata": {},
          "execution_count": 7
        }
      ]
    },
    {
      "cell_type": "markdown",
      "source": [
        "The computation below verifies that $\\mathbf{x}-\\pi_U(\\mathbf{x})$ is perpendicular to $U$. "
      ],
      "metadata": {
        "id": "hS9RsWGYbnU8"
      }
    },
    {
      "cell_type": "code",
      "source": [
        "print((x-x_U).T * B.col(0))\n",
        "print((x-x_U).T * B.col(1))\n",
        "print((x-x_U).T * B.col(2))"
      ],
      "metadata": {
        "colab": {
          "base_uri": "https://localhost:8080/"
        },
        "id": "U3x72sN_byJ_",
        "outputId": "9ed0bc0c-e2a4-40c6-e373-d3939757d6e8"
      },
      "execution_count": 9,
      "outputs": [
        {
          "output_type": "stream",
          "name": "stdout",
          "text": [
            "Matrix([[0]])\n",
            "Matrix([[0]])\n",
            "Matrix([[0]])\n"
          ]
        }
      ]
    },
    {
      "cell_type": "markdown",
      "source": [
        "# Part b\n",
        "\n",
        "$d(\\mathbf{x},U) = d(\\mathbf{x}, \\pi_U(\\mathbf{x}))$"
      ],
      "metadata": {
        "id": "R7rsGWY_XdJ2"
      }
    },
    {
      "cell_type": "code",
      "source": [
        "d = ((x-x_U).T * (x-x_U))**0.5\n",
        "d\n"
      ],
      "metadata": {
        "colab": {
          "base_uri": "https://localhost:8080/",
          "height": 38
        },
        "id": "V1zH8USumdsh",
        "outputId": "02a67d2a-1332-48a2-f13e-a5b00916f905"
      },
      "execution_count": 11,
      "outputs": [
        {
          "output_type": "execute_result",
          "data": {
            "text/plain": [
              "Matrix([[7.74596669241483]])"
            ],
            "text/latex": "$\\displaystyle \\left[\\begin{matrix}7.74596669241483\\end{matrix}\\right]$"
          },
          "metadata": {},
          "execution_count": 11
        }
      ]
    }
  ]
}