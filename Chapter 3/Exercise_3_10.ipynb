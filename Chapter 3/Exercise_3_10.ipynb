{
  "nbformat": 4,
  "nbformat_minor": 0,
  "metadata": {
    "colab": {
      "provenance": [],
      "authorship_tag": "ABX9TyPyCKBswPAnfWuV6T1n1fBR",
      "include_colab_link": true
    },
    "kernelspec": {
      "name": "python3",
      "display_name": "Python 3"
    },
    "language_info": {
      "name": "python"
    }
  },
  "cells": [
    {
      "cell_type": "markdown",
      "metadata": {
        "id": "view-in-github",
        "colab_type": "text"
      },
      "source": [
        "<a href=\"https://colab.research.google.com/github/tteodorescu0/M4ML/blob/main/Chapter%203/Exercise_3_10.ipynb\" target=\"_parent\"><img src=\"https://colab.research.google.com/assets/colab-badge.svg\" alt=\"Open In Colab\"/></a>"
      ]
    },
    {
      "cell_type": "markdown",
      "source": [
        "#Exercise 3.10\n",
        "\n",
        "\n",
        "Rotate the vectors\n",
        "\n",
        "$$\\mathbf{x}_1:=\\begin{bmatrix} 2\\\\ 3 \\end{bmatrix}, \\mathbf{x}_2:=\\begin{bmatrix} 0 \\\\ -1 \\end{bmatrix}$$\n",
        "\n",
        "by $30^{\\circ}$.\n"
      ],
      "metadata": {
        "id": "RLezh7wRDq_M"
      }
    },
    {
      "cell_type": "code",
      "source": [
        "from sympy import *"
      ],
      "metadata": {
        "id": "qt0m4eqx-w7M"
      },
      "execution_count": 2,
      "outputs": []
    },
    {
      "cell_type": "markdown",
      "source": [
        "#Solution:\n",
        "\n",
        "Rotation of $30^{\\circ}$ is the linear transformation corresponding to the matrix $A=\\begin{bmatrix} \\cos(30^{\\circ}) &  -\\sin(30^{\\circ})\\\\ \\sin(30^{\\circ}) & \\cos(30^{\\circ})  \\end{bmatrix}$\n"
      ],
      "metadata": {
        "id": "h7z2M74DEdWS"
      }
    },
    {
      "cell_type": "code",
      "source": [
        "A= Matrix([[cos(30*(pi/180)), -sin(30*(pi/180))], [sin(30*(pi/180)), cos(30*(pi/180))]])\n",
        "A"
      ],
      "metadata": {
        "colab": {
          "base_uri": "https://localhost:8080/",
          "height": 68
        },
        "id": "Jh_6Ns0_IhIb",
        "outputId": "878c349b-c883-4155-c4ee-46f6089f9c63"
      },
      "execution_count": 3,
      "outputs": [
        {
          "output_type": "execute_result",
          "data": {
            "text/plain": [
              "Matrix([\n",
              "[sqrt(3)/2,      -1/2],\n",
              "[      1/2, sqrt(3)/2]])"
            ],
            "text/latex": "$\\displaystyle \\left[\\begin{matrix}\\frac{\\sqrt{3}}{2} & - \\frac{1}{2}\\\\\\frac{1}{2} & \\frac{\\sqrt{3}}{2}\\end{matrix}\\right]$"
          },
          "metadata": {},
          "execution_count": 3
        }
      ]
    },
    {
      "cell_type": "code",
      "source": [
        "A * Matrix([[2], [3]])"
      ],
      "metadata": {
        "colab": {
          "base_uri": "https://localhost:8080/",
          "height": 68
        },
        "id": "i4HgM2TIOMwO",
        "outputId": "51bf6623-a92a-43e7-ab87-df357d331859"
      },
      "execution_count": 5,
      "outputs": [
        {
          "output_type": "execute_result",
          "data": {
            "text/plain": [
              "Matrix([\n",
              "[ -3/2 + sqrt(3)],\n",
              "[1 + 3*sqrt(3)/2]])"
            ],
            "text/latex": "$\\displaystyle \\left[\\begin{matrix}- \\frac{3}{2} + \\sqrt{3}\\\\1 + \\frac{3 \\sqrt{3}}{2}\\end{matrix}\\right]$"
          },
          "metadata": {},
          "execution_count": 5
        }
      ]
    },
    {
      "cell_type": "code",
      "source": [
        "A * Matrix([[0], [-1]])"
      ],
      "metadata": {
        "colab": {
          "base_uri": "https://localhost:8080/",
          "height": 62
        },
        "id": "wcDXiF_NOS7V",
        "outputId": "344326dc-117f-48fb-eb41-62b3b33bd137"
      },
      "execution_count": 6,
      "outputs": [
        {
          "output_type": "execute_result",
          "data": {
            "text/plain": [
              "Matrix([\n",
              "[       1/2],\n",
              "[-sqrt(3)/2]])"
            ],
            "text/latex": "$\\displaystyle \\left[\\begin{matrix}\\frac{1}{2}\\\\- \\frac{\\sqrt{3}}{2}\\end{matrix}\\right]$"
          },
          "metadata": {},
          "execution_count": 6
        }
      ]
    }
  ]
}