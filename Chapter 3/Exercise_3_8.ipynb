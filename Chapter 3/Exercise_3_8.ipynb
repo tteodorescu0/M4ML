{
  "nbformat": 4,
  "nbformat_minor": 0,
  "metadata": {
    "colab": {
      "provenance": [],
      "authorship_tag": "ABX9TyNXxX7L0sGSB6GiRnkImmjD",
      "include_colab_link": true
    },
    "kernelspec": {
      "name": "python3",
      "display_name": "Python 3"
    },
    "language_info": {
      "name": "python"
    }
  },
  "cells": [
    {
      "cell_type": "markdown",
      "metadata": {
        "id": "view-in-github",
        "colab_type": "text"
      },
      "source": [
        "<a href=\"https://colab.research.google.com/github/tteodorescu0/M4ML/blob/main/Chapter%203/Exercise_3_8.ipynb\" target=\"_parent\"><img src=\"https://colab.research.google.com/assets/colab-badge.svg\" alt=\"Open In Colab\"/></a>"
      ]
    },
    {
      "cell_type": "markdown",
      "source": [
        "#Exercise 3.8\n",
        "\n",
        "Using the Gram-Schmidt method, turn the basis $B = (\\mathbf{b}_1 , \\mathbf{b}_2 )$ of a two- dimensional subspace $U \\subseteq \\mathbb{R}^3$ into an ONB $C = (\\mathbf{c}_1,\\mathbf{c}_2)$ of $U$, where\n",
        "\n",
        "$$\\mathbf{b}_1:=\\begin{bmatrix} 1\\\\ 1 \\\\ 1  \\end{bmatrix}, \\mathbf{b}_2:=\\begin{bmatrix} -1\\\\ 2 \\\\ 0  \\end{bmatrix}$$\n"
      ],
      "metadata": {
        "id": "RLezh7wRDq_M"
      }
    },
    {
      "cell_type": "code",
      "source": [
        "from sympy import *"
      ],
      "metadata": {
        "id": "qt0m4eqx-w7M"
      },
      "execution_count": 1,
      "outputs": []
    },
    {
      "cell_type": "markdown",
      "source": [
        "#Solution:\n",
        "\n",
        "Let first find a third vector $\\mathbf{b}_3$ such that $(\\mathbf{b}_1, \\mathbf{b}_2, \\mathbf{b}_3)$ form a basis of $\\mathbb{R}^3$. The computation below shows that we can select $\\mathbf{b}_3 = \\begin{bmatrix} 0 \\\\ 0 \\\\ 1  \\end{bmatrix}$\n"
      ],
      "metadata": {
        "id": "h7z2M74DEdWS"
      }
    },
    {
      "cell_type": "code",
      "source": [
        "A= Matrix([[1, -1], [1, 2], [1,0]])\n",
        "A.T.rref()"
      ],
      "metadata": {
        "colab": {
          "base_uri": "https://localhost:8080/"
        },
        "id": "Jh_6Ns0_IhIb",
        "outputId": "a56f60d7-b070-41cc-ab8d-826220b9de8f"
      },
      "execution_count": 4,
      "outputs": [
        {
          "output_type": "execute_result",
          "data": {
            "text/plain": [
              "(Matrix([\n",
              " [1, 0, 2/3],\n",
              " [0, 1, 1/3]]), (0, 1))"
            ]
          },
          "metadata": {},
          "execution_count": 4
        }
      ]
    },
    {
      "cell_type": "markdown",
      "source": [
        "Let $B=\\begin{bmatrix} 1 & -1 & 0 \\\\ 1 & 2 & 0 \\\\ 1 & 0 & 1  \\end{bmatrix}$ be the matrix corresponding to the basis $(\\mathbf{b}_1, \\mathbf{b}_2, \\mathbf{b}_3)$ of $\\mathbb{R}^3$. Consider the augmented matrix $[B^TB, B^T]$ and apply Gauss elimination using only the rule that replaces a row by subtracting from it a multiple of a row above it."
      ],
      "metadata": {
        "id": "WDZTy99mKt7o"
      }
    },
    {
      "cell_type": "code",
      "source": [
        "B= Matrix([[1, -1, 0], [1, 2, 0], [1, 0, 1]])\n",
        "X= B.T * B\n",
        "X=X.row_join(B.T)\n",
        "X"
      ],
      "metadata": {
        "colab": {
          "base_uri": "https://localhost:8080/",
          "height": 78
        },
        "id": "i4HgM2TIOMwO",
        "outputId": "d8a7e63b-6d52-49d2-9e99-a99a96d4e814"
      },
      "execution_count": 5,
      "outputs": [
        {
          "output_type": "execute_result",
          "data": {
            "text/plain": [
              "Matrix([\n",
              "[3, 1, 1,  1, 1, 1],\n",
              "[1, 5, 0, -1, 2, 0],\n",
              "[1, 0, 1,  0, 0, 1]])"
            ],
            "text/latex": "$\\displaystyle \\left[\\begin{matrix}3 & 1 & 1 & 1 & 1 & 1\\\\1 & 5 & 0 & -1 & 2 & 0\\\\1 & 0 & 1 & 0 & 0 & 1\\end{matrix}\\right]$"
          },
          "metadata": {},
          "execution_count": 5
        }
      ]
    },
    {
      "cell_type": "code",
      "source": [
        "X = Matrix([[1,0,0], [-Rational(1,3),1,0],[-Rational(1,3),0,1]]) * X\n",
        "X"
      ],
      "metadata": {
        "colab": {
          "base_uri": "https://localhost:8080/",
          "height": 78
        },
        "id": "wcDXiF_NOS7V",
        "outputId": "88be2cdd-64e7-477e-d52a-f19cf9187730"
      },
      "execution_count": 6,
      "outputs": [
        {
          "output_type": "execute_result",
          "data": {
            "text/plain": [
              "Matrix([\n",
              "[3,    1,    1,    1,    1,    1],\n",
              "[0, 14/3, -1/3, -4/3,  5/3, -1/3],\n",
              "[0, -1/3,  2/3, -1/3, -1/3,  2/3]])"
            ],
            "text/latex": "$\\displaystyle \\left[\\begin{matrix}3 & 1 & 1 & 1 & 1 & 1\\\\0 & \\frac{14}{3} & - \\frac{1}{3} & - \\frac{4}{3} & \\frac{5}{3} & - \\frac{1}{3}\\\\0 & - \\frac{1}{3} & \\frac{2}{3} & - \\frac{1}{3} & - \\frac{1}{3} & \\frac{2}{3}\\end{matrix}\\right]$"
          },
          "metadata": {},
          "execution_count": 6
        }
      ]
    },
    {
      "cell_type": "code",
      "source": [
        "X = Matrix([[1, 0, 0], [0, 1, 0], [0, Rational(1,14), 1]]) * X\n",
        "X"
      ],
      "metadata": {
        "colab": {
          "base_uri": "https://localhost:8080/",
          "height": 78
        },
        "id": "dNrwl_UrPE_S",
        "outputId": "156fc1a9-c4e8-421d-deba-26011b0045d3"
      },
      "execution_count": 7,
      "outputs": [
        {
          "output_type": "execute_result",
          "data": {
            "text/plain": [
              "Matrix([\n",
              "[3,    1,    1,    1,     1,    1],\n",
              "[0, 14/3, -1/3, -4/3,   5/3, -1/3],\n",
              "[0,    0, 9/14, -3/7, -3/14, 9/14]])"
            ],
            "text/latex": "$\\displaystyle \\left[\\begin{matrix}3 & 1 & 1 & 1 & 1 & 1\\\\0 & \\frac{14}{3} & - \\frac{1}{3} & - \\frac{4}{3} & \\frac{5}{3} & - \\frac{1}{3}\\\\0 & 0 & \\frac{9}{14} & - \\frac{3}{7} & - \\frac{3}{14} & \\frac{9}{14}\\end{matrix}\\right]$"
          },
          "metadata": {},
          "execution_count": 7
        }
      ]
    },
    {
      "cell_type": "markdown",
      "source": [
        "The rows in the right side of the augmented matrix are the orthgonal vectors obtained in the Gram-Schmidt method, while the numbers on the diagonal in the right side of the augmented matrix are the squares of the norms of these orthogonal vectors.\n",
        "\n",
        "We can conclude that $(\\mathbf{c}_1,\\mathbf{c}_2,\\mathbf{c}_3)$ is an OBN of $\\mathbb{R}^3$, where \n",
        "\n",
        "$$\\mathbf{c}_1=\\frac{1}{\\sqrt{3}}\\begin{bmatrix} 1 \\\\ 1 \\\\ 1  \\end{bmatrix}, \n",
        "\\mathbf{c}_2=\\frac{\\sqrt{3}}{\\sqrt{14}}\\begin{bmatrix} -\\frac{4}{3} \\\\ \\frac{5}{3} \\\\ -\\frac{1}{3}  \\end{bmatrix}, \n",
        "\\mathbf{c}_3=\\frac{3}{\\sqrt{14}}\\begin{bmatrix} -\\frac{3}{7} \\\\ -\\frac{3}{14} \\\\ \\frac{9}{14}  \\end{bmatrix}$$"
      ],
      "metadata": {
        "id": "BCQHOnh6Pr4p"
      }
    }
  ]
}