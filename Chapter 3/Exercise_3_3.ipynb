{
  "nbformat": 4,
  "nbformat_minor": 0,
  "metadata": {
    "colab": {
      "provenance": [],
      "authorship_tag": "ABX9TyOixwe43fHGHxac7vH7R90f",
      "include_colab_link": true
    },
    "kernelspec": {
      "name": "python3",
      "display_name": "Python 3"
    },
    "language_info": {
      "name": "python"
    }
  },
  "cells": [
    {
      "cell_type": "markdown",
      "metadata": {
        "id": "view-in-github",
        "colab_type": "text"
      },
      "source": [
        "<a href=\"https://colab.research.google.com/github/tteodorescu0/M4ML/blob/main/Chapter%203/Exercise_3_3.ipynb\" target=\"_parent\"><img src=\"https://colab.research.google.com/assets/colab-badge.svg\" alt=\"Open In Colab\"/></a>"
      ]
    },
    {
      "cell_type": "markdown",
      "source": [
        "#Exercise 3.3\n",
        "\n",
        "Compute the distance between \n",
        "\n",
        "$$\\mathbf{x}= \\begin{bmatrix} 1 \\\\ 2 \\\\ 3 \\end{bmatrix}, \\mathbf{y} = \\begin{bmatrix} -1 \\\\ -1 \\\\ 0\\end{bmatrix}$$\n",
        "\n",
        "using\n",
        "\n",
        "a. $⟨\\mathbf{x},\\mathbf{y}⟩:=\\mathbf{x}^T \\mathbf{y}$\n",
        "\n",
        "b. $⟨\\mathbf{x},\\mathbf{y}⟩:=\\mathbf{x}^T \\mathbf{A} \\mathbf{y}$, $\\mathbf{A} := \\begin{bmatrix} 2 & 1 & 0 \\\\ 1 & 3 & -1 \\\\ 0 & -1 & 2 \\end{bmatrix}$\n",
        "\n"
      ],
      "metadata": {
        "id": "RLezh7wRDq_M"
      }
    },
    {
      "cell_type": "code",
      "source": [
        "from sympy import *"
      ],
      "metadata": {
        "id": "qt0m4eqx-w7M"
      },
      "execution_count": 32,
      "outputs": []
    },
    {
      "cell_type": "markdown",
      "source": [
        "#Solution: Part a\n",
        "\n"
      ],
      "metadata": {
        "id": "h7z2M74DEdWS"
      }
    },
    {
      "cell_type": "code",
      "source": [
        "x = Matrix([[1], [2], [3]])\n",
        "y = Matrix([[-1], [-1], [0]])\n",
        "\n",
        "def dot_product_1(x, y):\n",
        "  return (x.T*y).det()\n",
        "\n",
        "distance = dot_product_1(x-y,x-y)**0.5\n",
        "distance"
      ],
      "metadata": {
        "id": "Utk2N7E5y2Hh",
        "colab": {
          "base_uri": "https://localhost:8080/",
          "height": 37
        },
        "outputId": "eba7f2b1-aead-455c-a8cb-cde9604a3622"
      },
      "execution_count": 34,
      "outputs": [
        {
          "output_type": "execute_result",
          "data": {
            "text/plain": [
              "4.69041575982343"
            ],
            "text/latex": "$\\displaystyle 4.69041575982343$"
          },
          "metadata": {},
          "execution_count": 34
        }
      ]
    },
    {
      "cell_type": "markdown",
      "source": [
        "# Part b"
      ],
      "metadata": {
        "id": "R7rsGWY_XdJ2"
      }
    },
    {
      "cell_type": "code",
      "source": [
        "A = Matrix([[2, 1, 0], [1, 3, -1], [0, -1, 2]])\n",
        "\n",
        "def dot_product_2(x, y):\n",
        "  return (x.T*A*y).det()\n",
        "\n",
        "distance2 = dot_product_2(x-y,x-y)**0.5\n",
        "distance2"
      ],
      "metadata": {
        "colab": {
          "base_uri": "https://localhost:8080/",
          "height": 37
        },
        "id": "V1zH8USumdsh",
        "outputId": "f2ec87d3-2f1c-443b-c859-9ac3944881df"
      },
      "execution_count": 35,
      "outputs": [
        {
          "output_type": "execute_result",
          "data": {
            "text/plain": [
              "6.85565460040104"
            ],
            "text/latex": "$\\displaystyle 6.85565460040104$"
          },
          "metadata": {},
          "execution_count": 35
        }
      ]
    }
  ]
}