{
  "nbformat": 4,
  "nbformat_minor": 0,
  "metadata": {
    "colab": {
      "provenance": [],
      "authorship_tag": "ABX9TyPPyqqi1NRPZh/Cn+AAyUIj",
      "include_colab_link": true
    },
    "kernelspec": {
      "name": "python3",
      "display_name": "Python 3"
    },
    "language_info": {
      "name": "python"
    }
  },
  "cells": [
    {
      "cell_type": "markdown",
      "metadata": {
        "id": "view-in-github",
        "colab_type": "text"
      },
      "source": [
        "<a href=\"https://colab.research.google.com/github/tteodorescu0/M4ML/blob/main/Chapter%203/Exercise_3_6.ipynb\" target=\"_parent\"><img src=\"https://colab.research.google.com/assets/colab-badge.svg\" alt=\"Open In Colab\"/></a>"
      ]
    },
    {
      "cell_type": "markdown",
      "source": [
        "#Exercise 3.6\n",
        "\n",
        "Consider $\\mathbb{R}^3$ with the inner product\n",
        "\n",
        "\n",
        "$$⟨\\mathbf{x},\\mathbf{y}⟩ := \\mathbf{x}^T \\begin{bmatrix} 2 & 1 & 0 \\\\ 1 & 2 & -1 \\\\ 0 & -1 & 2 \\end{bmatrix} \\mathbf{y}$$\n",
        "\n",
        "Furthermore, we define $\\mathbf{e}_1$, $\\mathbf{e}_2$, $\\mathbf{e}_3$ as the standard/canonical basis in $\\mathbb{R}^3$.\n",
        "\n",
        "a. Determine the orthogonal projection $\\pi_U(\\mathbf{e}_2)$ of $\\mathbf{e}_2$ onto $U = \\mathrm{span}[\\mathbf{e}_1, \\mathbf{e}_3]$.\n",
        "\n",
        "Hint: Orthogonality is defined through the inner product.\n",
        "\n",
        "b. Compute the distance $d(\\mathbf{e}_2,U)$.\n",
        "\n",
        "c. Draw the scenario: standard basis vectors and $\\pi_U(\\mathbf{e}_2)$.\n"
      ],
      "metadata": {
        "id": "RLezh7wRDq_M"
      }
    },
    {
      "cell_type": "code",
      "source": [
        "from sympy import *"
      ],
      "metadata": {
        "id": "qt0m4eqx-w7M"
      },
      "execution_count": 1,
      "outputs": []
    },
    {
      "cell_type": "markdown",
      "source": [
        "#Solution: Part a\n",
        "\n",
        "$⟨\\mathbf{x},\\mathbf{y}⟩$ is bilinear and symmetric in $\\mathbf{x}$ and $\\mathbf{y}$. Since \n",
        "\n",
        "$$⟨\\mathbf{x},\\mathbf{x}⟩ =  2x_1^2+2x_1x_2+2x_2^2-2x_2x_3+2x_3^2=x_1^2+{(x_1+x_2)}^2 + {(x_2-x_3)}^2+x_3^2,$$\n",
        "\n",
        "$⟨\\mathbf{x},\\mathbf{y}⟩$ is also positive definite, and therefore it defines an inner product on ${\\mathbb{R}}^3$.\n",
        "\n",
        "Let $\\pi_U(\\mathbf{e}_2)=a\\mathbf{e}_1+b\\mathbf{e}_3$. Since $\\pi_U(\\mathbf{e}_2)$ is the orthogonal projection onto $U=\\mathrm{span}[\\mathbf{e}_1, \\mathbf{e}_3]$, we have\n",
        "\n",
        "$$⟨\\mathbf{e}_2-\\pi_U(\\mathbf{e}_2),\\mathbf{e}_1⟩=0$$\n",
        "$$⟨\\mathbf{e}_2-\\pi_U(\\mathbf{e}_2),\\mathbf{e}_3⟩=0$$\n",
        "\n",
        "which are equivalent to\n",
        "\n",
        "$$⟨\\mathbf{e}_2,\\mathbf{e}_1⟩-a⟨\\mathbf{e}_1,\\mathbf{e}_1⟩-b⟨\\mathbf{e}_3,\\mathbf{e}_1⟩=0$$\n",
        "$$⟨\\mathbf{e}_2,\\mathbf{e}_3⟩-a⟨\\mathbf{e}_1,\\mathbf{e}_3⟩-b⟨\\mathbf{e}_3,\\mathbf{e}_3⟩=0$$\n",
        "\n",
        "or\n",
        "\n",
        "$$1-2a=0$$\n",
        "$$-1-2b=0$$\n",
        "\n",
        "which implies that $a=\\frac{1}{2}$, $b=-\\frac{1}{2}$, and that $\\pi_U(\\mathbf{e}_2)=\\frac{1}{2}\\mathbf{e}_1-\\frac{1}{2}\\mathbf{e}_3$.\n",
        "\n"
      ],
      "metadata": {
        "id": "h7z2M74DEdWS"
      }
    },
    {
      "cell_type": "markdown",
      "source": [
        "# Part b\n",
        "\n",
        "$d(\\mathbf{e}_2,U) = d(\\mathbf{e}_2, \\pi_U(\\mathbf{e}_2)) = d(\\mathbf{e}_2, \\frac{1}{2}\\mathbf{e}_1-\\frac{1}{2}\\mathbf{e}_3) = ⟨\\mathbf{e}_2-\\frac{1}{2}\\mathbf{e}_1+\\frac{1}{2}\\mathbf{e}_3,\\mathbf{e}_2-\\frac{1}{2}\\mathbf{e}_1+\\frac{1}{2}\\mathbf{e}_3⟩=1$"
      ],
      "metadata": {
        "id": "R7rsGWY_XdJ2"
      }
    }
  ]
}