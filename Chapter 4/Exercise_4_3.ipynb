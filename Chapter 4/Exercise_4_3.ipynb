{
  "nbformat": 4,
  "nbformat_minor": 0,
  "metadata": {
    "colab": {
      "provenance": [],
      "authorship_tag": "ABX9TyP3nOXbnJDr6Hl3obiAL3mh",
      "include_colab_link": true
    },
    "kernelspec": {
      "name": "python3",
      "display_name": "Python 3"
    },
    "language_info": {
      "name": "python"
    }
  },
  "cells": [
    {
      "cell_type": "markdown",
      "metadata": {
        "id": "view-in-github",
        "colab_type": "text"
      },
      "source": [
        "<a href=\"https://colab.research.google.com/github/tteodorescu0/M4ML/blob/main/Chapter%204/Exercise_4_3.ipynb\" target=\"_parent\"><img src=\"https://colab.research.google.com/assets/colab-badge.svg\" alt=\"Open In Colab\"/></a>"
      ]
    },
    {
      "cell_type": "markdown",
      "source": [
        "#Exercise 4.3\n",
        "\n",
        "\n",
        "Compute the eigenspaces of \n",
        "\n",
        "a.\n",
        "\n",
        "$$A= \\begin{bmatrix} 1 & 0 \\\\ 1 & 1 \\end{bmatrix}$$\n",
        "\n",
        "b.\n",
        "\n",
        "$$B= \\begin{bmatrix} -2 & 2 \\\\ 2 & 1 \\end{bmatrix}$$"
      ],
      "metadata": {
        "id": "RLezh7wRDq_M"
      }
    },
    {
      "cell_type": "code",
      "source": [
        "from sympy import *"
      ],
      "metadata": {
        "id": "qt0m4eqx-w7M"
      },
      "execution_count": 1,
      "outputs": []
    },
    {
      "cell_type": "markdown",
      "source": [
        "#Solution: Part a\n",
        "\n",
        "The only eigenvalue of $A$ is 1. The algebraic multiplicty of 1 is 2. The geometric multiplicity of 1 is 1. The eigenspace of 1 is $\\mathrm{span}[\\begin{bmatrix} 0 \\\\ 1 \\end{bmatrix}]$. "
      ],
      "metadata": {
        "id": "h7z2M74DEdWS"
      }
    },
    {
      "cell_type": "code",
      "source": [
        "A= Matrix([[1, 0], [1, 1]])\n",
        "A.eigenvals()"
      ],
      "metadata": {
        "colab": {
          "base_uri": "https://localhost:8080/"
        },
        "id": "Jh_6Ns0_IhIb",
        "outputId": "847aa514-7ba5-491c-ce4e-b6afbd84e2a2"
      },
      "execution_count": 2,
      "outputs": [
        {
          "output_type": "execute_result",
          "data": {
            "text/plain": [
              "{1: 2}"
            ]
          },
          "metadata": {},
          "execution_count": 2
        }
      ]
    },
    {
      "cell_type": "code",
      "source": [
        "A.eigenvects()"
      ],
      "metadata": {
        "colab": {
          "base_uri": "https://localhost:8080/"
        },
        "id": "rFx3ZxUFivv-",
        "outputId": "9ce24bed-8d77-4ffd-ad5b-e5ad1ea5bb3e"
      },
      "execution_count": 3,
      "outputs": [
        {
          "output_type": "execute_result",
          "data": {
            "text/plain": [
              "[(1, 2, [Matrix([\n",
              "   [0],\n",
              "   [1]])])]"
            ]
          },
          "metadata": {},
          "execution_count": 3
        }
      ]
    },
    {
      "cell_type": "markdown",
      "source": [
        "#Part b\n",
        "\n",
        "The eigenvalues of $B$ are 2 and $-3$. \n",
        "\n",
        "For eigenvalue 2, the algebraic multiplicty is 1 and the geometric multiplicity is 1. The eigenspace of 2 is $\\mathrm{span}[\\begin{bmatrix} \\frac{1}{2} \\\\ 1 \\end{bmatrix}]$. \n",
        "\n",
        "For eigenvalue $-3$, the algebraic multiplicty is 1 and the geometric multiplicity is 1. The eigenspace of $-3$ is $\\mathrm{span}[\\begin{bmatrix} -2 \\\\ 1 \\end{bmatrix}]$. "
      ],
      "metadata": {
        "id": "HHdw0Srgjbjg"
      }
    },
    {
      "cell_type": "code",
      "source": [
        "B = Matrix([[-2, 2], [2, 1]])\n",
        "B.eigenvals()"
      ],
      "metadata": {
        "colab": {
          "base_uri": "https://localhost:8080/"
        },
        "id": "53lbnusKjnAK",
        "outputId": "44983a07-fe65-4551-ef50-1e93bdbc5e30"
      },
      "execution_count": 4,
      "outputs": [
        {
          "output_type": "execute_result",
          "data": {
            "text/plain": [
              "{2: 1, -3: 1}"
            ]
          },
          "metadata": {},
          "execution_count": 4
        }
      ]
    },
    {
      "cell_type": "code",
      "source": [
        "B.eigenvects()"
      ],
      "metadata": {
        "colab": {
          "base_uri": "https://localhost:8080/"
        },
        "id": "NvpdXSL8j_QG",
        "outputId": "955f91ce-d13e-4e40-8c04-12bc486f111e"
      },
      "execution_count": 5,
      "outputs": [
        {
          "output_type": "execute_result",
          "data": {
            "text/plain": [
              "[(-3, 1, [Matrix([\n",
              "   [-2],\n",
              "   [ 1]])]), (2, 1, [Matrix([\n",
              "   [1/2],\n",
              "   [  1]])])]"
            ]
          },
          "metadata": {},
          "execution_count": 5
        }
      ]
    }
  ]
}