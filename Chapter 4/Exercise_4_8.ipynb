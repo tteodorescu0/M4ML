{
  "nbformat": 4,
  "nbformat_minor": 0,
  "metadata": {
    "colab": {
      "provenance": [],
      "authorship_tag": "ABX9TyM2z4EUnDtXB7OH/iv4MYAZ",
      "include_colab_link": true
    },
    "kernelspec": {
      "name": "python3",
      "display_name": "Python 3"
    },
    "language_info": {
      "name": "python"
    }
  },
  "cells": [
    {
      "cell_type": "markdown",
      "metadata": {
        "id": "view-in-github",
        "colab_type": "text"
      },
      "source": [
        "<a href=\"https://colab.research.google.com/github/tteodorescu0/M4ML/blob/main/Chapter%204/Exercise_4_8.ipynb\" target=\"_parent\"><img src=\"https://colab.research.google.com/assets/colab-badge.svg\" alt=\"Open In Colab\"/></a>"
      ]
    },
    {
      "cell_type": "markdown",
      "source": [
        "#Exercise 4.8\n",
        "\n",
        "Find the SVD of the matrix\n",
        "\n",
        "$$A=\\begin{bmatrix} 3 & 2 & 2  \\\\ 2 & 3 & -2  \\end{bmatrix}$$\n"
      ],
      "metadata": {
        "id": "RLezh7wRDq_M"
      }
    },
    {
      "cell_type": "code",
      "source": [
        "from sympy import *"
      ],
      "metadata": {
        "id": "qt0m4eqx-w7M"
      },
      "execution_count": 1,
      "outputs": []
    },
    {
      "cell_type": "markdown",
      "source": [
        "#Solution:\n",
        "\n",
        "\n",
        "The SVD $A=U\\cdot \\Sigma \\cdot V^T$ is\n",
        "\n",
        "$$\\begin{bmatrix} 3 & 2 & 2  \\\\ 2 & 3 & -2  \\end{bmatrix} = \n",
        "\\begin{bmatrix} \\frac{\\sqrt{2}}{2} & \\frac{\\sqrt{2}}{2}   \\\\ \\frac{\\sqrt{2}}{2} & -\\frac{\\sqrt{2}}{2}  \\end{bmatrix} \\cdot\n",
        "\\begin{bmatrix} 5 & 0 & 0  \\\\ 0 & 3 & 0  \\end{bmatrix} \\cdot\n",
        "\\begin{bmatrix} \\frac{1}{\\sqrt{2}} & \\frac{1}{\\sqrt{2}} & 0  \\\\ \\frac{1}{\\sqrt{18}} & \\frac{-1}{\\sqrt{18}} & \\frac{4}{\\sqrt{18}}  \\\\ \\frac{-2}{3} & \\frac{2}{3} & \\frac{1}{3} \\end{bmatrix}\n",
        "$$\n",
        "\n",
        "as shown below.\n"
      ],
      "metadata": {
        "id": "h7z2M74DEdWS"
      }
    },
    {
      "cell_type": "code",
      "source": [
        "A = Matrix([[3, 2, 2], [2, 3, -2]])"
      ],
      "metadata": {
        "id": "KZZZGzhHuBqh"
      },
      "execution_count": 2,
      "outputs": []
    },
    {
      "cell_type": "code",
      "source": [
        "(A.T*A).eigenvects()"
      ],
      "metadata": {
        "colab": {
          "base_uri": "https://localhost:8080/"
        },
        "id": "T-Jd9vJDBx8N",
        "outputId": "b6a98a7c-fcce-422e-cfb7-cdfdac0a66b1"
      },
      "execution_count": 4,
      "outputs": [
        {
          "output_type": "execute_result",
          "data": {
            "text/plain": [
              "[(0, 1, [Matrix([\n",
              "   [-2],\n",
              "   [ 2],\n",
              "   [ 1]])]), (9, 1, [Matrix([\n",
              "   [ 1/4],\n",
              "   [-1/4],\n",
              "   [   1]])]), (25, 1, [Matrix([\n",
              "   [1],\n",
              "   [1],\n",
              "   [0]])])]"
            ]
          },
          "metadata": {},
          "execution_count": 4
        }
      ]
    },
    {
      "cell_type": "code",
      "source": [
        "P = Matrix([\n",
        "    [1/sqrt(2),  1/sqrt(18), -2*Rational(1,3)],\n",
        "    [1/sqrt(2), -1/sqrt(18),  2*Rational(1,3)],\n",
        "    [        0,  4/sqrt(18),    Rational(1,3)]\n",
        "])\n",
        "P.T*P #check that P is orthogonal matrix"
      ],
      "metadata": {
        "colab": {
          "base_uri": "https://localhost:8080/",
          "height": 78
        },
        "id": "nD70Z0wfB7Wt",
        "outputId": "d63fef87-730a-465b-f6be-d0a0bc399cf5"
      },
      "execution_count": 5,
      "outputs": [
        {
          "output_type": "execute_result",
          "data": {
            "text/plain": [
              "Matrix([\n",
              "[1, 0, 0],\n",
              "[0, 1, 0],\n",
              "[0, 0, 1]])"
            ],
            "text/latex": "$\\displaystyle \\left[\\begin{matrix}1 & 0 & 0\\\\0 & 1 & 0\\\\0 & 0 & 1\\end{matrix}\\right]$"
          },
          "metadata": {},
          "execution_count": 5
        }
      ]
    },
    {
      "cell_type": "code",
      "source": [
        "P.T*(A.T*A)*P"
      ],
      "metadata": {
        "colab": {
          "base_uri": "https://localhost:8080/",
          "height": 78
        },
        "id": "pPfPA4URCQet",
        "outputId": "3e86c5e5-3d91-4e5e-a4e0-7eed25d72d32"
      },
      "execution_count": 6,
      "outputs": [
        {
          "output_type": "execute_result",
          "data": {
            "text/plain": [
              "Matrix([\n",
              "[25, 0, 0],\n",
              "[ 0, 9, 0],\n",
              "[ 0, 0, 0]])"
            ],
            "text/latex": "$\\displaystyle \\left[\\begin{matrix}25 & 0 & 0\\\\0 & 9 & 0\\\\0 & 0 & 0\\end{matrix}\\right]$"
          },
          "metadata": {},
          "execution_count": 6
        }
      ]
    },
    {
      "cell_type": "code",
      "source": [
        "V=P"
      ],
      "metadata": {
        "id": "aej4l1IAIPHg"
      },
      "execution_count": 7,
      "outputs": []
    },
    {
      "cell_type": "code",
      "source": [
        "Rational(1,5)*A*Matrix([[1/sqrt(2)], [1/sqrt(2)], [0]])"
      ],
      "metadata": {
        "colab": {
          "base_uri": "https://localhost:8080/",
          "height": 68
        },
        "id": "CElQcor6K6GP",
        "outputId": "cb218777-00dc-4fd6-9575-4bc1b490e37e"
      },
      "execution_count": 8,
      "outputs": [
        {
          "output_type": "execute_result",
          "data": {
            "text/plain": [
              "Matrix([\n",
              "[sqrt(2)/2],\n",
              "[sqrt(2)/2]])"
            ],
            "text/latex": "$\\displaystyle \\left[\\begin{matrix}\\frac{\\sqrt{2}}{2}\\\\\\frac{\\sqrt{2}}{2}\\end{matrix}\\right]$"
          },
          "metadata": {},
          "execution_count": 8
        }
      ]
    },
    {
      "cell_type": "code",
      "source": [
        "Rational(1,3)*A*Matrix([[1/sqrt(18)], [-1/sqrt(18)], [4/sqrt(18)]])"
      ],
      "metadata": {
        "colab": {
          "base_uri": "https://localhost:8080/",
          "height": 68
        },
        "id": "f89_C3OQIQag",
        "outputId": "ff16f423-a34b-48a2-aebf-d616d5a69c61"
      },
      "execution_count": 9,
      "outputs": [
        {
          "output_type": "execute_result",
          "data": {
            "text/plain": [
              "Matrix([\n",
              "[ sqrt(2)/2],\n",
              "[-sqrt(2)/2]])"
            ],
            "text/latex": "$\\displaystyle \\left[\\begin{matrix}\\frac{\\sqrt{2}}{2}\\\\- \\frac{\\sqrt{2}}{2}\\end{matrix}\\right]$"
          },
          "metadata": {},
          "execution_count": 9
        }
      ]
    },
    {
      "cell_type": "code",
      "source": [
        "U=(sqrt(2)/2)*Matrix([[1, 1], [1, -1]])\n",
        "U.T*U # check that U is an orthogonal matrix"
      ],
      "metadata": {
        "colab": {
          "base_uri": "https://localhost:8080/",
          "height": 58
        },
        "id": "DJ0NFb6zJyMq",
        "outputId": "e0a0baaf-1f40-4d69-a876-a88a40bce17c"
      },
      "execution_count": 10,
      "outputs": [
        {
          "output_type": "execute_result",
          "data": {
            "text/plain": [
              "Matrix([\n",
              "[1, 0],\n",
              "[0, 1]])"
            ],
            "text/latex": "$\\displaystyle \\left[\\begin{matrix}1 & 0\\\\0 & 1\\end{matrix}\\right]$"
          },
          "metadata": {},
          "execution_count": 10
        }
      ]
    },
    {
      "cell_type": "code",
      "source": [
        "U.T*A*V"
      ],
      "metadata": {
        "colab": {
          "base_uri": "https://localhost:8080/",
          "height": 58
        },
        "id": "acSLvjSbKFH7",
        "outputId": "a11d6778-3fcd-47e2-815a-efb1b8f9af65"
      },
      "execution_count": 11,
      "outputs": [
        {
          "output_type": "execute_result",
          "data": {
            "text/plain": [
              "Matrix([\n",
              "[5, 0, 0],\n",
              "[0, 3, 0]])"
            ],
            "text/latex": "$\\displaystyle \\left[\\begin{matrix}5 & 0 & 0\\\\0 & 3 & 0\\end{matrix}\\right]$"
          },
          "metadata": {},
          "execution_count": 11
        }
      ]
    }
  ]
}