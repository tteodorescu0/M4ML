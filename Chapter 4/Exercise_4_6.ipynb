{
  "nbformat": 4,
  "nbformat_minor": 0,
  "metadata": {
    "colab": {
      "provenance": [],
      "authorship_tag": "ABX9TyPP7+uo28nv2rtlRG2e6er4",
      "include_colab_link": true
    },
    "kernelspec": {
      "name": "python3",
      "display_name": "Python 3"
    },
    "language_info": {
      "name": "python"
    }
  },
  "cells": [
    {
      "cell_type": "markdown",
      "metadata": {
        "id": "view-in-github",
        "colab_type": "text"
      },
      "source": [
        "<a href=\"https://colab.research.google.com/github/tteodorescu0/M4ML/blob/main/Chapter%204/Exercise_4_6.ipynb\" target=\"_parent\"><img src=\"https://colab.research.google.com/assets/colab-badge.svg\" alt=\"Open In Colab\"/></a>"
      ]
    },
    {
      "cell_type": "markdown",
      "source": [
        "#Exercise 4.6\n",
        "\n",
        "Compute the eigenspaces of the following transformation matrices. Are they diagonalizable?\n",
        "\n",
        "a. For\n",
        "\n",
        "$$A=\\begin{bmatrix} 2 & 3 & 0 \\\\ 1 & 4 & 3 \\\\ 0 & 0 & 1 \\end{bmatrix}$$\n",
        "\n",
        "b. For\n",
        "\n",
        "$$B=\\begin{bmatrix} 1 & 1 & 0 & 0 \\\\ 0 &  0 & 0 & 0 \\\\  0 &  0 & 0 & 0 \\\\ 0 &  0 & 0 & 0 \\end{bmatrix}$$\n"
      ],
      "metadata": {
        "id": "RLezh7wRDq_M"
      }
    },
    {
      "cell_type": "code",
      "source": [
        "from sympy import *"
      ],
      "metadata": {
        "id": "qt0m4eqx-w7M"
      },
      "execution_count": 1,
      "outputs": []
    },
    {
      "cell_type": "markdown",
      "source": [
        "#Solution: Part a\n",
        "\n",
        "$A$ is not diagonalizable because the geometric multiplicity is different than the algebraic multiplicty for eigenvalue 1."
      ],
      "metadata": {
        "id": "h7z2M74DEdWS"
      }
    },
    {
      "cell_type": "code",
      "source": [
        "A = Matrix([[2, 3, 0], [1, 4, 3], [0, 0, 1]])"
      ],
      "metadata": {
        "id": "KZZZGzhHuBqh"
      },
      "execution_count": 2,
      "outputs": []
    },
    {
      "cell_type": "code",
      "source": [
        "A.eigenvals()"
      ],
      "metadata": {
        "colab": {
          "base_uri": "https://localhost:8080/"
        },
        "id": "qqJ97HFwuZzk",
        "outputId": "08ba7e7a-9c8a-481e-e306-694629841006"
      },
      "execution_count": 3,
      "outputs": [
        {
          "output_type": "execute_result",
          "data": {
            "text/plain": [
              "{5: 1, 1: 2}"
            ]
          },
          "metadata": {},
          "execution_count": 3
        }
      ]
    },
    {
      "cell_type": "code",
      "source": [
        "A.eigenvects()"
      ],
      "metadata": {
        "colab": {
          "base_uri": "https://localhost:8080/"
        },
        "id": "4QXWMjByuhsY",
        "outputId": "bf870b78-f0a9-434f-c078-602882666835"
      },
      "execution_count": 4,
      "outputs": [
        {
          "output_type": "execute_result",
          "data": {
            "text/plain": [
              "[(1, 2, [Matrix([\n",
              "   [-3],\n",
              "   [ 1],\n",
              "   [ 0]])]), (5, 1, [Matrix([\n",
              "   [1],\n",
              "   [1],\n",
              "   [0]])])]"
            ]
          },
          "metadata": {},
          "execution_count": 4
        }
      ]
    },
    {
      "cell_type": "markdown",
      "source": [
        "#Part b\n",
        "\n",
        "$B$ is not diagonalizable because the geometric multiplicity equals the algebraic multiplicty for each of the two eigenvalues 0 and 1."
      ],
      "metadata": {
        "id": "6m6O2Tl2vVD4"
      }
    },
    {
      "cell_type": "code",
      "source": [
        "B = Matrix([[1, 1, 0, 0], [0, 0, 0, 0], [0, 0, 0, 0], [0, 0, 0, 0]])"
      ],
      "metadata": {
        "id": "48LWlFpWvaYM"
      },
      "execution_count": 5,
      "outputs": []
    },
    {
      "cell_type": "code",
      "source": [
        "B.eigenvals()"
      ],
      "metadata": {
        "colab": {
          "base_uri": "https://localhost:8080/"
        },
        "id": "qEKRcpf1vj52",
        "outputId": "3075941d-c7f6-4a3d-ee31-caa09a06f104"
      },
      "execution_count": 6,
      "outputs": [
        {
          "output_type": "execute_result",
          "data": {
            "text/plain": [
              "{1: 1, 0: 3}"
            ]
          },
          "metadata": {},
          "execution_count": 6
        }
      ]
    },
    {
      "cell_type": "code",
      "source": [
        "B.eigenvects()"
      ],
      "metadata": {
        "colab": {
          "base_uri": "https://localhost:8080/"
        },
        "id": "3gsLrXCevmXi",
        "outputId": "292ced7d-f930-4a65-df75-0413544dd034"
      },
      "execution_count": 7,
      "outputs": [
        {
          "output_type": "execute_result",
          "data": {
            "text/plain": [
              "[(0, 3, [Matrix([\n",
              "   [-1],\n",
              "   [ 1],\n",
              "   [ 0],\n",
              "   [ 0]]), Matrix([\n",
              "   [0],\n",
              "   [0],\n",
              "   [1],\n",
              "   [0]]), Matrix([\n",
              "   [0],\n",
              "   [0],\n",
              "   [0],\n",
              "   [1]])]), (1, 1, [Matrix([\n",
              "   [1],\n",
              "   [0],\n",
              "   [0],\n",
              "   [0]])])]"
            ]
          },
          "metadata": {},
          "execution_count": 7
        }
      ]
    }
  ]
}