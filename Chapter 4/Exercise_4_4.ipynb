{
  "nbformat": 4,
  "nbformat_minor": 0,
  "metadata": {
    "colab": {
      "provenance": [],
      "authorship_tag": "ABX9TyMrSplC5yIJE0hThnkmXPkI",
      "include_colab_link": true
    },
    "kernelspec": {
      "name": "python3",
      "display_name": "Python 3"
    },
    "language_info": {
      "name": "python"
    }
  },
  "cells": [
    {
      "cell_type": "markdown",
      "metadata": {
        "id": "view-in-github",
        "colab_type": "text"
      },
      "source": [
        "<a href=\"https://colab.research.google.com/github/tteodorescu0/M4ML/blob/main/Chapter%204/Exercise_4_4.ipynb\" target=\"_parent\"><img src=\"https://colab.research.google.com/assets/colab-badge.svg\" alt=\"Open In Colab\"/></a>"
      ]
    },
    {
      "cell_type": "markdown",
      "source": [
        "#Exercise 4.4\n",
        "\n",
        "Compute the eigenspaces of \n",
        "\n",
        "$$A= \\begin{bmatrix} 0 & −1 & 1 & 1 \\\\ \n",
        "−1 & 1 & −2 & 3 \\\\\n",
        "2 & −1 & 0 & 0 \\\\\n",
        "1 & −1 & 1 & 0 \\end{bmatrix}$$\n"
      ],
      "metadata": {
        "id": "RLezh7wRDq_M"
      }
    },
    {
      "cell_type": "code",
      "source": [
        "import sympy\n",
        "from sympy import Matrix"
      ],
      "metadata": {
        "id": "qt0m4eqx-w7M"
      },
      "execution_count": 1,
      "outputs": []
    },
    {
      "cell_type": "markdown",
      "source": [
        "#Solution:\n",
        "\n",
        "The eigenvalues of $A$ are $-1$, 1, and 2. \n",
        "\n",
        "For eigenvalue $-1$, the algebraic multiplicty is 2, but the geometric multiplicity is 1. The eigenspace of $-1$ is $\\mathrm{span}[\\begin{bmatrix} 0 \\\\ 1 \\\\ 1 \\\\ 0 \\end{bmatrix}]$. \n",
        "\n",
        "For eigenvalue 1, the algebraic multiplicty and the geometric multiplicity are both 1. The eigenspace of 1 is $\\mathrm{span}[\\begin{bmatrix} 1 \\\\ 1 \\\\ 1 \\\\ 1 \\end{bmatrix}]$. \n",
        "\n",
        "For eigenvalue 2, the algebraic multiplicty and the geometric multiplicity are both 1. The eigenspace of 2 is $\\mathrm{span}[\\begin{bmatrix} 1 \\\\ 0 \\\\ 1 \\\\ 1 \\end{bmatrix}]$. "
      ],
      "metadata": {
        "id": "h7z2M74DEdWS"
      }
    },
    {
      "cell_type": "code",
      "source": [
        "A= Matrix([[0, -1, 1, 1], [-1, 1, -2, 3], [2, -1, 0, 0], [1, -1, 1, 0]])"
      ],
      "metadata": {
        "id": "Jh_6Ns0_IhIb"
      },
      "execution_count": 2,
      "outputs": []
    },
    {
      "cell_type": "code",
      "source": [
        "A.eigenvals()"
      ],
      "metadata": {
        "colab": {
          "base_uri": "https://localhost:8080/"
        },
        "id": "JUBKf7ZcoGru",
        "outputId": "14f83b5a-265d-457c-cffe-93afeac053d7"
      },
      "execution_count": 3,
      "outputs": [
        {
          "output_type": "execute_result",
          "data": {
            "text/plain": [
              "{2: 1, 1: 1, -1: 2}"
            ]
          },
          "metadata": {},
          "execution_count": 3
        }
      ]
    },
    {
      "cell_type": "code",
      "source": [
        "A.eigenvects()"
      ],
      "metadata": {
        "colab": {
          "base_uri": "https://localhost:8080/"
        },
        "id": "rFx3ZxUFivv-",
        "outputId": "7e036e24-eacd-40a1-ffd5-af8e2579881d"
      },
      "execution_count": 4,
      "outputs": [
        {
          "output_type": "execute_result",
          "data": {
            "text/plain": [
              "[(-1, 2, [Matrix([\n",
              "   [0],\n",
              "   [1],\n",
              "   [1],\n",
              "   [0]])]), (1, 1, [Matrix([\n",
              "   [1],\n",
              "   [1],\n",
              "   [1],\n",
              "   [1]])]), (2, 1, [Matrix([\n",
              "   [1],\n",
              "   [0],\n",
              "   [1],\n",
              "   [1]])])]"
            ]
          },
          "metadata": {},
          "execution_count": 4
        }
      ]
    }
  ]
}