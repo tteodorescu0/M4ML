{
  "nbformat": 4,
  "nbformat_minor": 0,
  "metadata": {
    "colab": {
      "provenance": [],
      "authorship_tag": "ABX9TyPoibrSmuBvuKeONj471W9x",
      "include_colab_link": true
    },
    "kernelspec": {
      "name": "python3",
      "display_name": "Python 3"
    },
    "language_info": {
      "name": "python"
    }
  },
  "cells": [
    {
      "cell_type": "markdown",
      "metadata": {
        "id": "view-in-github",
        "colab_type": "text"
      },
      "source": [
        "<a href=\"https://colab.research.google.com/github/tteodorescu0/M4ML/blob/main/Chapter%204/Exercise_4_1.ipynb\" target=\"_parent\"><img src=\"https://colab.research.google.com/assets/colab-badge.svg\" alt=\"Open In Colab\"/></a>"
      ]
    },
    {
      "cell_type": "markdown",
      "source": [
        "#Exercise 4.1\n",
        "\n",
        "Compute the determinant using the Laplace expansion (using the first row) and the Sarrus rule for\n",
        "\n",
        "$$\\mathbf{A}=\\begin{bmatrix} 1 & 3 & 5 \\\\ 2 & 4 & 6 \\\\ 0 & 2 & 4 \\end{bmatrix}.$$\n"
      ],
      "metadata": {
        "id": "RLezh7wRDq_M"
      }
    },
    {
      "cell_type": "code",
      "source": [
        "from sympy import *"
      ],
      "metadata": {
        "id": "qt0m4eqx-w7M"
      },
      "execution_count": 2,
      "outputs": []
    },
    {
      "cell_type": "markdown",
      "source": [
        "#Solution:\n",
        "\n",
        "Using the Laplace expansion (using the first row):\n",
        "\n",
        "$$|\\mathbf{A}|= 1 \\cdot \\begin{bmatrix} 4 & 6 \\\\ 2 & 4 \\end{bmatrix} - 3 \\cdot \\begin{bmatrix} 2 & 6 \\\\ 0 & 4 \\end{bmatrix} + 5 \\cdot \\begin{bmatrix} 2 & 4 \\\\ 0 & 2 \\end{bmatrix} = 1 \\cdot (4\\cdot 4 - 2 \\cdot 6) - 3 (2 \\cdot 4 - 0 \\cdot 6) + 5 \\cdot (2 \\cdot 2 - 0 \\cdot 4) = 4-24+20=0$$"
      ],
      "metadata": {
        "id": "h7z2M74DEdWS"
      }
    },
    {
      "cell_type": "markdown",
      "source": [
        "Using the Sarrus rule:\n",
        "\n",
        "$$|\\mathbf{A}|= 1 \\cdot 4\\cdot 4 + 2 \\cdot 2 \\cdot 5 + 0 \\cdot 3 \\cdot 6 - 0 \\cdot 4 \\cdot 5 - 1 \\cdot 2 \\cdot 6 - 2 \\cdot 3 \\cdot 4 =0$$"
      ],
      "metadata": {
        "id": "1idZeEqHT4DN"
      }
    },
    {
      "cell_type": "markdown",
      "source": [
        "Verification:"
      ],
      "metadata": {
        "id": "Z3VWB9UtUidA"
      }
    },
    {
      "cell_type": "code",
      "source": [
        "A= Matrix([[1, 3, 5], [2, 4, 6], [0, 2, 4]])\n",
        "det(A)"
      ],
      "metadata": {
        "colab": {
          "base_uri": "https://localhost:8080/",
          "height": 37
        },
        "id": "Jh_6Ns0_IhIb",
        "outputId": "1ece61db-7c93-4360-f43c-dabe1158c707"
      },
      "execution_count": 4,
      "outputs": [
        {
          "output_type": "execute_result",
          "data": {
            "text/plain": [
              "0"
            ],
            "text/latex": "$\\displaystyle 0$"
          },
          "metadata": {},
          "execution_count": 4
        }
      ]
    }
  ]
}