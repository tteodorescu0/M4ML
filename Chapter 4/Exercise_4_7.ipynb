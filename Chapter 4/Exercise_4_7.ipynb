{
  "nbformat": 4,
  "nbformat_minor": 0,
  "metadata": {
    "colab": {
      "provenance": [],
      "authorship_tag": "ABX9TyPzV0FSY2mjQJEn8RXZE+fo",
      "include_colab_link": true
    },
    "kernelspec": {
      "name": "python3",
      "display_name": "Python 3"
    },
    "language_info": {
      "name": "python"
    }
  },
  "cells": [
    {
      "cell_type": "markdown",
      "metadata": {
        "id": "view-in-github",
        "colab_type": "text"
      },
      "source": [
        "<a href=\"https://colab.research.google.com/github/tteodorescu0/M4ML/blob/main/Chapter%204/Exercise_4_7.ipynb\" target=\"_parent\"><img src=\"https://colab.research.google.com/assets/colab-badge.svg\" alt=\"Open In Colab\"/></a>"
      ]
    },
    {
      "cell_type": "markdown",
      "source": [
        "#Exercise 4.7\n",
        "\n",
        "Are the following matrices diagonalizable? If yes, determine their diagonal form and a basis with respect to which the transformation matrices are diagonal. If no, give reasons why they are not diagonalizable.\n",
        "\n",
        "a.\n",
        "\n",
        "$$A=\\begin{bmatrix} 0 & 1  \\\\ -8 & 4  \\end{bmatrix}$$\n",
        "\n",
        "b.\n",
        "\n",
        "$$B=\\begin{bmatrix} 1 & 1 & 1  \\\\ 1 &  1 & 1  \\\\  1 &  1 & 1  \\end{bmatrix}$$\n",
        "\n",
        "c.\n",
        "\n",
        "$$C=\\begin{bmatrix} 5 & 4 & 2 & 1 \\\\ 0 &  1 & -1 & -1 \\\\  -1 &  -1 & 3 & 0 \\\\ 1 &  1 & -1 & 2 \\end{bmatrix}$$\n",
        "\n",
        "d.\n",
        "\n",
        "$$D=\\begin{bmatrix} 5 & -6 & -6  \\\\ -1 & 4 & 2  \\\\  3 & -6 & -4  \\end{bmatrix}$$\n"
      ],
      "metadata": {
        "id": "RLezh7wRDq_M"
      }
    },
    {
      "cell_type": "code",
      "source": [
        "from sympy import *"
      ],
      "metadata": {
        "id": "qt0m4eqx-w7M"
      },
      "execution_count": 1,
      "outputs": []
    },
    {
      "cell_type": "markdown",
      "source": [
        "#Solution: Part a\n",
        "\n",
        "$A$ is not diagonalizable over $\\mathbb{R}$ because the eigenvalues of $A$ are not real numbers.\n",
        "\n",
        "$A$ is diagonalizable over $\\mathbb{C}$ because $A$ has two different complex eigenvalues. A basis that makes $A$ diagonal is $(\\begin{bmatrix} \\frac{1}{4}+\\frac{1}{4}i \\\\ 1 \\end{bmatrix}, \\begin{bmatrix} \\frac{1}{4}-\\frac{1}{4}i \\\\ 1 \\end{bmatrix})$. The diagonal form of $A$ is $\\begin{bmatrix} 2-2i & 0 \\\\ 0 & 2+2i \\end{bmatrix}$."
      ],
      "metadata": {
        "id": "h7z2M74DEdWS"
      }
    },
    {
      "cell_type": "code",
      "source": [
        "A = Matrix([[0, 1], [-8, 4]])"
      ],
      "metadata": {
        "id": "KZZZGzhHuBqh"
      },
      "execution_count": 2,
      "outputs": []
    },
    {
      "cell_type": "code",
      "source": [
        "A.eigenvals()"
      ],
      "metadata": {
        "colab": {
          "base_uri": "https://localhost:8080/"
        },
        "id": "qqJ97HFwuZzk",
        "outputId": "b1ea0772-db78-47e2-b7f9-098646b94910"
      },
      "execution_count": 3,
      "outputs": [
        {
          "output_type": "execute_result",
          "data": {
            "text/plain": [
              "{2 - 2*I: 1, 2 + 2*I: 1}"
            ]
          },
          "metadata": {},
          "execution_count": 3
        }
      ]
    },
    {
      "cell_type": "code",
      "source": [
        "A.eigenvects()"
      ],
      "metadata": {
        "colab": {
          "base_uri": "https://localhost:8080/"
        },
        "id": "4QXWMjByuhsY",
        "outputId": "95f484d1-fee8-4886-d5a7-b967ac458e5e"
      },
      "execution_count": 4,
      "outputs": [
        {
          "output_type": "execute_result",
          "data": {
            "text/plain": [
              "[(2 - 2*I, 1, [Matrix([\n",
              "   [1/4 + I/4],\n",
              "   [        1]])]), (2 + 2*I, 1, [Matrix([\n",
              "   [1/4 - I/4],\n",
              "   [        1]])])]"
            ]
          },
          "metadata": {},
          "execution_count": 4
        }
      ]
    },
    {
      "cell_type": "code",
      "source": [
        "P = Matrix([\n",
        "   [1/4 + I/4, 1/4 - I/4],\n",
        "   [        1, 1]])\n",
        "simplify(P.inv()*A*P)"
      ],
      "metadata": {
        "colab": {
          "base_uri": "https://localhost:8080/",
          "height": 58
        },
        "id": "dCgINvJy30Df",
        "outputId": "a8571f53-7269-458d-ee5b-59c292f074b2"
      },
      "execution_count": 10,
      "outputs": [
        {
          "output_type": "execute_result",
          "data": {
            "text/plain": [
              "Matrix([\n",
              "[2.0 - 2.0*I,         0],\n",
              "[          0, 2 + 2.0*I]])"
            ],
            "text/latex": "$\\displaystyle \\left[\\begin{matrix}2.0 - 2.0 i & 0\\\\0 & 2 + 2.0 i\\end{matrix}\\right]$"
          },
          "metadata": {},
          "execution_count": 10
        }
      ]
    },
    {
      "cell_type": "markdown",
      "source": [
        "#Part b\n",
        "\n",
        "$B$ is diagonalizable over $\\mathbb{R}$ because the geometric multiplity equals the algebraic multiplicity for each of the two eigenvalues of $B$, 0 and 3.\n",
        "\n",
        "A basis that makes $B$ diagonal is $(\\begin{bmatrix} -1 \\\\ 1 \\\\ 0 \\end{bmatrix}, \\begin{bmatrix} -1 \\\\ 0 \\\\ 1 \\end{bmatrix}, \\begin{bmatrix} 1 \\\\ 1 \\\\ 1 \\end{bmatrix})$. The diagonal form of $B$ is $\\begin{bmatrix} 0 & 0 & 0 \\\\ 0 & 0 & 0 \\\\ 0 & 0 & 3 \\end{bmatrix}$."
      ],
      "metadata": {
        "id": "6m6O2Tl2vVD4"
      }
    },
    {
      "cell_type": "code",
      "source": [
        "B = Matrix([[1, 1, 1], [1, 1, 1], [1, 1, 1]])"
      ],
      "metadata": {
        "id": "48LWlFpWvaYM"
      },
      "execution_count": 5,
      "outputs": []
    },
    {
      "cell_type": "code",
      "source": [
        "B.eigenvals()"
      ],
      "metadata": {
        "colab": {
          "base_uri": "https://localhost:8080/"
        },
        "id": "qEKRcpf1vj52",
        "outputId": "35fd57c2-1fcf-48ae-d4d0-006a0108567f"
      },
      "execution_count": 6,
      "outputs": [
        {
          "output_type": "execute_result",
          "data": {
            "text/plain": [
              "{3: 1, 0: 2}"
            ]
          },
          "metadata": {},
          "execution_count": 6
        }
      ]
    },
    {
      "cell_type": "code",
      "source": [
        "B.eigenvects()"
      ],
      "metadata": {
        "colab": {
          "base_uri": "https://localhost:8080/"
        },
        "id": "3gsLrXCevmXi",
        "outputId": "b4858136-66ec-4c73-8acb-38226d88ea63"
      },
      "execution_count": 7,
      "outputs": [
        {
          "output_type": "execute_result",
          "data": {
            "text/plain": [
              "[(0, 2, [Matrix([\n",
              "   [-1],\n",
              "   [ 1],\n",
              "   [ 0]]), Matrix([\n",
              "   [-1],\n",
              "   [ 0],\n",
              "   [ 1]])]), (3, 1, [Matrix([\n",
              "   [1],\n",
              "   [1],\n",
              "   [1]])])]"
            ]
          },
          "metadata": {},
          "execution_count": 7
        }
      ]
    },
    {
      "cell_type": "code",
      "source": [
        "R = Matrix([\n",
        "   [-1, -1, 1],\n",
        "   [ 1,  0, 1],\n",
        "   [ 0,  1, 1]])\n",
        "simplify(R.inv()*B*R)"
      ],
      "metadata": {
        "colab": {
          "base_uri": "https://localhost:8080/",
          "height": 78
        },
        "id": "j2LanG9r5WRL",
        "outputId": "64303da8-5b38-4490-fe3c-452fe3c69eda"
      },
      "execution_count": 11,
      "outputs": [
        {
          "output_type": "execute_result",
          "data": {
            "text/plain": [
              "Matrix([\n",
              "[0, 0, 0],\n",
              "[0, 0, 0],\n",
              "[0, 0, 3]])"
            ],
            "text/latex": "$\\displaystyle \\left[\\begin{matrix}0 & 0 & 0\\\\0 & 0 & 0\\\\0 & 0 & 3\\end{matrix}\\right]$"
          },
          "metadata": {},
          "execution_count": 11
        }
      ]
    },
    {
      "cell_type": "markdown",
      "source": [
        "#Part c\n",
        "\n",
        "$C$ is not diagonalizable over $\\mathbb{R}$ because the geometric multiplity is different than the algebraic multiplicity for eigenvalue 4.\n",
        "\n",
        "$C$ is not diagonalizable over $\\mathbb{C}$ for the same reason.\n",
        "\n"
      ],
      "metadata": {
        "id": "i-ungD5U6AVx"
      }
    },
    {
      "cell_type": "code",
      "source": [
        "C = Matrix([[5, 4, 2, 1], [0, 1, -1, -1], [-1, -1, 3, 0], [1, 1, -1, 2]])\n",
        "C"
      ],
      "metadata": {
        "colab": {
          "base_uri": "https://localhost:8080/",
          "height": 98
        },
        "id": "jfUS1-256dUW",
        "outputId": "125bb945-efb1-43e3-ba50-dba630ec4261"
      },
      "execution_count": 12,
      "outputs": [
        {
          "output_type": "execute_result",
          "data": {
            "text/plain": [
              "Matrix([\n",
              "[ 5,  4,  2,  1],\n",
              "[ 0,  1, -1, -1],\n",
              "[-1, -1,  3,  0],\n",
              "[ 1,  1, -1,  2]])"
            ],
            "text/latex": "$\\displaystyle \\left[\\begin{matrix}5 & 4 & 2 & 1\\\\0 & 1 & -1 & -1\\\\-1 & -1 & 3 & 0\\\\1 & 1 & -1 & 2\\end{matrix}\\right]$"
          },
          "metadata": {},
          "execution_count": 12
        }
      ]
    },
    {
      "cell_type": "code",
      "source": [
        "C.eigenvals()"
      ],
      "metadata": {
        "colab": {
          "base_uri": "https://localhost:8080/"
        },
        "id": "4mgku3QR6vqs",
        "outputId": "2c58d440-d142-4a41-ef72-66aac820abc9"
      },
      "execution_count": 13,
      "outputs": [
        {
          "output_type": "execute_result",
          "data": {
            "text/plain": [
              "{2: 1, 1: 1, 4: 2}"
            ]
          },
          "metadata": {},
          "execution_count": 13
        }
      ]
    },
    {
      "cell_type": "code",
      "source": [
        "C.eigenvects()"
      ],
      "metadata": {
        "colab": {
          "base_uri": "https://localhost:8080/"
        },
        "id": "m3eqV8rl60Hr",
        "outputId": "3a02d406-4e39-4f66-ebc1-6a8d6341d3b3"
      },
      "execution_count": 14,
      "outputs": [
        {
          "output_type": "execute_result",
          "data": {
            "text/plain": [
              "[(1, 1, [Matrix([\n",
              "   [-1],\n",
              "   [ 1],\n",
              "   [ 0],\n",
              "   [ 0]])]), (2, 1, [Matrix([\n",
              "   [ 1],\n",
              "   [-1],\n",
              "   [ 0],\n",
              "   [ 1]])]), (4, 2, [Matrix([\n",
              "   [ 1],\n",
              "   [ 0],\n",
              "   [-1],\n",
              "   [ 1]])])]"
            ]
          },
          "metadata": {},
          "execution_count": 14
        }
      ]
    },
    {
      "cell_type": "markdown",
      "source": [
        "#Part d\n",
        "\n",
        "$D$ is diagonalizable over $\\mathbb{R}$ because the geometric multiplity equals the algebraic multiplicity for each of the two eigenvalues of $D$, 1 and 2.\n",
        "\n",
        "A basis that makes $D$ diagonal is $(\\begin{bmatrix} -1 \\\\ -\\frac{1}{3} \\\\ 1 \\end{bmatrix}, \\begin{bmatrix} 2 \\\\ 1 \\\\ 0 \\end{bmatrix}, \\begin{bmatrix} 2 \\\\ 0 \\\\ 1 \\end{bmatrix})$. The diagonal form of $D$ is $\\begin{bmatrix} 1 & 0 & 0 \\\\ 0 & 2 & 0 \\\\ 0 & 0 & 2 \\end{bmatrix}$."
      ],
      "metadata": {
        "id": "oQznVD6P7jgI"
      }
    },
    {
      "cell_type": "code",
      "source": [
        "D = Matrix([[5, -6, -6], [-1, 4, 2], [3, -6, -4]])\n",
        "D"
      ],
      "metadata": {
        "colab": {
          "base_uri": "https://localhost:8080/",
          "height": 78
        },
        "id": "2cBQsUlF7xNv",
        "outputId": "83f34b16-02ce-43d6-b80b-0367c1fbe139"
      },
      "execution_count": 15,
      "outputs": [
        {
          "output_type": "execute_result",
          "data": {
            "text/plain": [
              "Matrix([\n",
              "[ 5, -6, -6],\n",
              "[-1,  4,  2],\n",
              "[ 3, -6, -4]])"
            ],
            "text/latex": "$\\displaystyle \\left[\\begin{matrix}5 & -6 & -6\\\\-1 & 4 & 2\\\\3 & -6 & -4\\end{matrix}\\right]$"
          },
          "metadata": {},
          "execution_count": 15
        }
      ]
    },
    {
      "cell_type": "code",
      "source": [
        "D.eigenvals()"
      ],
      "metadata": {
        "colab": {
          "base_uri": "https://localhost:8080/"
        },
        "id": "O63lmM588Ai-",
        "outputId": "6171eaa7-d6fb-41bb-fc8c-7292c7b53ca5"
      },
      "execution_count": 16,
      "outputs": [
        {
          "output_type": "execute_result",
          "data": {
            "text/plain": [
              "{1: 1, 2: 2}"
            ]
          },
          "metadata": {},
          "execution_count": 16
        }
      ]
    },
    {
      "cell_type": "code",
      "source": [
        "D.eigenvects()"
      ],
      "metadata": {
        "colab": {
          "base_uri": "https://localhost:8080/"
        },
        "id": "JO_pE66H8CtD",
        "outputId": "1de00b05-43a8-48af-b7e3-a8433e454945"
      },
      "execution_count": 17,
      "outputs": [
        {
          "output_type": "execute_result",
          "data": {
            "text/plain": [
              "[(1, 1, [Matrix([\n",
              "   [   1],\n",
              "   [-1/3],\n",
              "   [   1]])]), (2, 2, [Matrix([\n",
              "   [2],\n",
              "   [1],\n",
              "   [0]]), Matrix([\n",
              "   [2],\n",
              "   [0],\n",
              "   [1]])])]"
            ]
          },
          "metadata": {},
          "execution_count": 17
        }
      ]
    },
    {
      "cell_type": "code",
      "source": [
        "T = Matrix([\n",
        "   [1, 2, 2],\n",
        "   [-Rational(1,3),  1, 0],\n",
        "   [ 1,  0, 1]])\n",
        "simplify(T.inv()*D*T)"
      ],
      "metadata": {
        "colab": {
          "base_uri": "https://localhost:8080/",
          "height": 78
        },
        "id": "7fGNTg2I8fa6",
        "outputId": "41c561f5-9f98-4286-f3c6-a085fd7c0cbf"
      },
      "execution_count": 18,
      "outputs": [
        {
          "output_type": "execute_result",
          "data": {
            "text/plain": [
              "Matrix([\n",
              "[1, 0, 0],\n",
              "[0, 2, 0],\n",
              "[0, 0, 2]])"
            ],
            "text/latex": "$\\displaystyle \\left[\\begin{matrix}1 & 0 & 0\\\\0 & 2 & 0\\\\0 & 0 & 2\\end{matrix}\\right]$"
          },
          "metadata": {},
          "execution_count": 18
        }
      ]
    }
  ]
}