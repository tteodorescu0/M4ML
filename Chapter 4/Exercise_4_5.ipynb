{
  "nbformat": 4,
  "nbformat_minor": 0,
  "metadata": {
    "colab": {
      "provenance": [],
      "authorship_tag": "ABX9TyNZvgx41KxfBvuDIT6dhQbs",
      "include_colab_link": true
    },
    "kernelspec": {
      "name": "python3",
      "display_name": "Python 3"
    },
    "language_info": {
      "name": "python"
    }
  },
  "cells": [
    {
      "cell_type": "markdown",
      "metadata": {
        "id": "view-in-github",
        "colab_type": "text"
      },
      "source": [
        "<a href=\"https://colab.research.google.com/github/tteodorescu0/M4ML/blob/main/Chapter%204/Exercise_4_5.ipynb\" target=\"_parent\"><img src=\"https://colab.research.google.com/assets/colab-badge.svg\" alt=\"Open In Colab\"/></a>"
      ]
    },
    {
      "cell_type": "markdown",
      "source": [
        "#Exercise 4.5\n",
        "\n",
        "Diagonalizability of a matrix is unrelated to its invertibility. Determine for the following four matrices whether they are diagonalizable and/or invertible.\n",
        "\n",
        "$$\\begin{bmatrix} 1 & 0 \\\\ 0 & 1 \\end{bmatrix},\n",
        "\\begin{bmatrix} 1 & 0 \\\\ 0 & 0 \\end{bmatrix},\n",
        "\\begin{bmatrix} 1 & 1 \\\\ 0 & 1 \\end{bmatrix},\n",
        "\\begin{bmatrix} 0 & 1 \\\\ 0 & 0 \\end{bmatrix}.\n",
        "$$\n"
      ],
      "metadata": {
        "id": "RLezh7wRDq_M"
      }
    },
    {
      "cell_type": "code",
      "source": [
        "from sympy import *"
      ],
      "metadata": {
        "id": "qt0m4eqx-w7M"
      },
      "execution_count": 1,
      "outputs": []
    },
    {
      "cell_type": "markdown",
      "source": [
        "#Solution:\n",
        "\n",
        "$\\begin{bmatrix} 1 & 0 \\\\ 0 & 1 \\end{bmatrix}$ is invertible (because the determinant is 1) and diagonalizable (because it is already in diagonal form).\n",
        "\n",
        "$\\begin{bmatrix} 1 & 0 \\\\ 0 & 0 \\end{bmatrix}$ is not invertible (because the determinant is 0) and diagonalizable (because it is already in diagonal form).\n",
        "\n",
        "$\\begin{bmatrix} 1 & 1 \\\\ 0 & 1 \\end{bmatrix}$ is invertible (because the determinant is 1) and not diagonalizable (because the geometric multiplicity is different than the algebraic multiplicity for the only eigenvalue 1).\n",
        "\n",
        "$\\begin{bmatrix} 0 & 1 \\\\ 0 & 0 \\end{bmatrix}$ is not invertible (because the determinant is 0) and not diagonalizable (because the geometric multiplicity is different than the algebraic multiplicity for the only eigenvalue 0).\n",
        "\n",
        "\n",
        "\n"
      ],
      "metadata": {
        "id": "h7z2M74DEdWS"
      }
    }
  ]
}