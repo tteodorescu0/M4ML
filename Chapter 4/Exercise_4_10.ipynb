{
  "nbformat": 4,
  "nbformat_minor": 0,
  "metadata": {
    "colab": {
      "provenance": [],
      "authorship_tag": "ABX9TyPFPKleYmrnTRgfbk3RGkq/",
      "include_colab_link": true
    },
    "kernelspec": {
      "name": "python3",
      "display_name": "Python 3"
    },
    "language_info": {
      "name": "python"
    }
  },
  "cells": [
    {
      "cell_type": "markdown",
      "metadata": {
        "id": "view-in-github",
        "colab_type": "text"
      },
      "source": [
        "<a href=\"https://colab.research.google.com/github/tteodorescu0/M4ML/blob/main/Chapter%204/Exercise_4_10.ipynb\" target=\"_parent\"><img src=\"https://colab.research.google.com/assets/colab-badge.svg\" alt=\"Open In Colab\"/></a>"
      ]
    },
    {
      "cell_type": "markdown",
      "source": [
        "#Exercise 4.10\n",
        "\n",
        "Find the rank-1 approximation of\n",
        "\n",
        "$$A=\\begin{bmatrix} 3 & 2 & 2  \\\\ 2 & 3 & -2  \\end{bmatrix}$$\n"
      ],
      "metadata": {
        "id": "RLezh7wRDq_M"
      }
    },
    {
      "cell_type": "code",
      "source": [
        "from sympy import *"
      ],
      "metadata": {
        "id": "qt0m4eqx-w7M"
      },
      "execution_count": 2,
      "outputs": []
    },
    {
      "cell_type": "markdown",
      "source": [
        "#Solution:\n",
        "\n",
        "The rank-1 approximation of $A$ is \n",
        "\n",
        "$$\\hat{A}(1) = \\sigma_1 A_1 = \\sigma_1 u_1 v^T_1 = \\begin{bmatrix} \\frac{5}{2} & \\frac{5}{2} & 0  \\\\ \\frac{5}{2} & \\frac{5}{2} & 0  \\end{bmatrix}$$\n",
        "\n",
        "where \n",
        "\n",
        "$$\\sigma_1 = 5$$\n",
        "$$u_1={\\begin{bmatrix} \\frac{1}{\\sqrt{2}} & \\frac{1}{\\sqrt{2}} & 0 \\end{bmatrix}}^T$$\n",
        "$$v_1={\\begin{bmatrix} \\frac{1}{\\sqrt{2}} & \\frac{1}{\\sqrt{2}} \\end{bmatrix}}^T$$\n",
        "\n",
        "as shown below.\n",
        "\n",
        "\n",
        "The rank-2 approximation of $A$ is \n",
        "\n",
        "$$\\hat{A}(2) = \\sigma_1 u_1 v^T_1 + \\sigma_2 u_2 v^T_2 = \\begin{bmatrix} \\frac{5}{2} & \\frac{5}{2} & 0  \\\\ \\frac{5}{2} & \\frac{5}{2} & 0  \\end{bmatrix} + \\begin{bmatrix} \\frac{1}{6} & \\frac{-1}{6} & \\frac{4}{6}  \\\\ \\frac{-1}{6} & \\frac{1}{6} & \\frac{-4}{6}  \\end{bmatrix} = \\begin{bmatrix} \\frac{8}{3} & \\frac{7}{3} & \\frac{2}{3}  \\\\ \\frac{7}{3} & \\frac{8}{3} & \\frac{-2}{3}  \\end{bmatrix}$$\n",
        "\n",
        "where \n",
        "\n",
        "$$\\sigma_2 = 3$$\n",
        "$$u_2={\\begin{bmatrix} \\frac{1}{\\sqrt{18}} & \\frac{-1}{\\sqrt{18}} & \\frac{4}{\\sqrt{18}} \\end{bmatrix}}^T$$\n",
        "$$v_2={\\begin{bmatrix} \\frac{1}{\\sqrt{2}} & \\frac{-1}{\\sqrt{2}} \\end{bmatrix}}^T$$"
      ],
      "metadata": {
        "id": "h7z2M74DEdWS"
      }
    },
    {
      "cell_type": "code",
      "source": [
        "A = Matrix([[3, 2, 2], [2, 3, -2]])"
      ],
      "metadata": {
        "id": "KZZZGzhHuBqh"
      },
      "execution_count": 3,
      "outputs": []
    },
    {
      "cell_type": "code",
      "source": [
        "(A.T*A).eigenvects()"
      ],
      "metadata": {
        "colab": {
          "base_uri": "https://localhost:8080/"
        },
        "id": "T-Jd9vJDBx8N",
        "outputId": "86a37f45-f2e8-4506-fe75-238c26074cdc"
      },
      "execution_count": 4,
      "outputs": [
        {
          "output_type": "execute_result",
          "data": {
            "text/plain": [
              "[(0, 1, [Matrix([\n",
              "   [-2],\n",
              "   [ 2],\n",
              "   [ 1]])]), (9, 1, [Matrix([\n",
              "   [ 1/4],\n",
              "   [-1/4],\n",
              "   [   1]])]), (25, 1, [Matrix([\n",
              "   [1],\n",
              "   [1],\n",
              "   [0]])])]"
            ]
          },
          "metadata": {},
          "execution_count": 4
        }
      ]
    },
    {
      "cell_type": "code",
      "source": [
        "P = Matrix([\n",
        "    [1/sqrt(2),  1/sqrt(18), -2*Rational(1,3)],\n",
        "    [1/sqrt(2), -1/sqrt(18),  2*Rational(1,3)],\n",
        "    [        0,  4/sqrt(18),    Rational(1,3)]\n",
        "])\n",
        "P.T*P #check that P is orthogonal matrix"
      ],
      "metadata": {
        "colab": {
          "base_uri": "https://localhost:8080/",
          "height": 78
        },
        "id": "nD70Z0wfB7Wt",
        "outputId": "f2feadb2-b9e7-4058-91cf-30d4552b788e"
      },
      "execution_count": 6,
      "outputs": [
        {
          "output_type": "execute_result",
          "data": {
            "text/plain": [
              "Matrix([\n",
              "[1, 0, 0],\n",
              "[0, 1, 0],\n",
              "[0, 0, 1]])"
            ],
            "text/latex": "$\\displaystyle \\left[\\begin{matrix}1 & 0 & 0\\\\0 & 1 & 0\\\\0 & 0 & 1\\end{matrix}\\right]$"
          },
          "metadata": {},
          "execution_count": 6
        }
      ]
    },
    {
      "cell_type": "code",
      "source": [
        "P.T*(A.T*A)*P"
      ],
      "metadata": {
        "colab": {
          "base_uri": "https://localhost:8080/",
          "height": 78
        },
        "id": "pPfPA4URCQet",
        "outputId": "52532e6c-513f-40f6-9645-6ffb39d8630c"
      },
      "execution_count": 7,
      "outputs": [
        {
          "output_type": "execute_result",
          "data": {
            "text/plain": [
              "Matrix([\n",
              "[25, 0, 0],\n",
              "[ 0, 9, 0],\n",
              "[ 0, 0, 0]])"
            ],
            "text/latex": "$\\displaystyle \\left[\\begin{matrix}25 & 0 & 0\\\\0 & 9 & 0\\\\0 & 0 & 0\\end{matrix}\\right]$"
          },
          "metadata": {},
          "execution_count": 7
        }
      ]
    },
    {
      "cell_type": "code",
      "source": [
        "V=P"
      ],
      "metadata": {
        "id": "aej4l1IAIPHg"
      },
      "execution_count": 8,
      "outputs": []
    },
    {
      "cell_type": "code",
      "source": [
        "Rational(1,5)*A*Matrix([[1/sqrt(2)], [1/sqrt(2)], [0]])"
      ],
      "metadata": {
        "colab": {
          "base_uri": "https://localhost:8080/",
          "height": 68
        },
        "id": "CElQcor6K6GP",
        "outputId": "2984eb58-7cb4-454b-85fb-cbbcf47e19c7"
      },
      "execution_count": 9,
      "outputs": [
        {
          "output_type": "execute_result",
          "data": {
            "text/plain": [
              "Matrix([\n",
              "[sqrt(2)/2],\n",
              "[sqrt(2)/2]])"
            ],
            "text/latex": "$\\displaystyle \\left[\\begin{matrix}\\frac{\\sqrt{2}}{2}\\\\\\frac{\\sqrt{2}}{2}\\end{matrix}\\right]$"
          },
          "metadata": {},
          "execution_count": 9
        }
      ]
    },
    {
      "cell_type": "code",
      "source": [
        "Rational(1,3)*A*Matrix([[1/sqrt(18)], [-1/sqrt(18)], [4/sqrt(18)]])"
      ],
      "metadata": {
        "colab": {
          "base_uri": "https://localhost:8080/",
          "height": 68
        },
        "id": "f89_C3OQIQag",
        "outputId": "bb909daf-978c-4d7d-89c2-8fc30811432e"
      },
      "execution_count": 10,
      "outputs": [
        {
          "output_type": "execute_result",
          "data": {
            "text/plain": [
              "Matrix([\n",
              "[ sqrt(2)/2],\n",
              "[-sqrt(2)/2]])"
            ],
            "text/latex": "$\\displaystyle \\left[\\begin{matrix}\\frac{\\sqrt{2}}{2}\\\\- \\frac{\\sqrt{2}}{2}\\end{matrix}\\right]$"
          },
          "metadata": {},
          "execution_count": 10
        }
      ]
    },
    {
      "cell_type": "code",
      "source": [
        "U=(sqrt(2)/2)*Matrix([[1, 1], [1, -1]])\n",
        "U.T*U # check that U is an orthogonal matrix"
      ],
      "metadata": {
        "colab": {
          "base_uri": "https://localhost:8080/",
          "height": 58
        },
        "id": "DJ0NFb6zJyMq",
        "outputId": "be00c28a-65a4-455e-8bba-666bc8b8fecc"
      },
      "execution_count": 11,
      "outputs": [
        {
          "output_type": "execute_result",
          "data": {
            "text/plain": [
              "Matrix([\n",
              "[1, 0],\n",
              "[0, 1]])"
            ],
            "text/latex": "$\\displaystyle \\left[\\begin{matrix}1 & 0\\\\0 & 1\\end{matrix}\\right]$"
          },
          "metadata": {},
          "execution_count": 11
        }
      ]
    },
    {
      "cell_type": "code",
      "source": [
        "U.T*A*V"
      ],
      "metadata": {
        "colab": {
          "base_uri": "https://localhost:8080/",
          "height": 58
        },
        "id": "acSLvjSbKFH7",
        "outputId": "976999e0-7d21-4c08-f4a4-bb48304e285a"
      },
      "execution_count": 12,
      "outputs": [
        {
          "output_type": "execute_result",
          "data": {
            "text/plain": [
              "Matrix([\n",
              "[5, 0, 0],\n",
              "[0, 3, 0]])"
            ],
            "text/latex": "$\\displaystyle \\left[\\begin{matrix}5 & 0 & 0\\\\0 & 3 & 0\\end{matrix}\\right]$"
          },
          "metadata": {},
          "execution_count": 12
        }
      ]
    }
  ]
}