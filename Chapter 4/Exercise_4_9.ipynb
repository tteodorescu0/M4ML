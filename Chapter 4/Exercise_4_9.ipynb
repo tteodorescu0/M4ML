{
  "nbformat": 4,
  "nbformat_minor": 0,
  "metadata": {
    "colab": {
      "provenance": [],
      "authorship_tag": "ABX9TyO450u8Jf13tPZVRNU4Lxf+",
      "include_colab_link": true
    },
    "kernelspec": {
      "name": "python3",
      "display_name": "Python 3"
    },
    "language_info": {
      "name": "python"
    }
  },
  "cells": [
    {
      "cell_type": "markdown",
      "metadata": {
        "id": "view-in-github",
        "colab_type": "text"
      },
      "source": [
        "<a href=\"https://colab.research.google.com/github/tteodorescu0/M4ML/blob/main/Chapter%204/Exercise_4_9.ipynb\" target=\"_parent\"><img src=\"https://colab.research.google.com/assets/colab-badge.svg\" alt=\"Open In Colab\"/></a>"
      ]
    },
    {
      "cell_type": "markdown",
      "source": [
        "#Exercise 4.9\n",
        "\n",
        "Find the singular value decomposition of\n",
        "\n",
        "$$A=\\begin{bmatrix} 2 & 2  \\\\ -1 & 1  \\end{bmatrix}$$\n"
      ],
      "metadata": {
        "id": "RLezh7wRDq_M"
      }
    },
    {
      "cell_type": "code",
      "source": [
        "from sympy import *"
      ],
      "metadata": {
        "id": "qt0m4eqx-w7M"
      },
      "execution_count": 2,
      "outputs": []
    },
    {
      "cell_type": "markdown",
      "source": [
        "#Solution:\n",
        "\n",
        "\n",
        "The SVD $A=U\\cdot \\Sigma \\cdot V^T$ is\n",
        "\n",
        "$$\\begin{bmatrix} 2 & 2  \\\\ -1 & 1  \\end{bmatrix} = \n",
        "\\begin{bmatrix} 1 & 0   \\\\ 0 & 1  \\end{bmatrix} \\cdot\n",
        "\\begin{bmatrix} 2\\sqrt{2} & 0   \\\\ 0 & \\sqrt{2}   \\end{bmatrix} \\cdot\n",
        "\\begin{bmatrix} \\frac{1}{\\sqrt{2}} & \\frac{1}{\\sqrt{2}}   \\\\ \\frac{-1}{\\sqrt{2}} & \\frac{1}{\\sqrt{2}}   \\end{bmatrix}\n",
        "$$\n",
        "\n",
        "as shown below.\n"
      ],
      "metadata": {
        "id": "h7z2M74DEdWS"
      }
    },
    {
      "cell_type": "code",
      "source": [
        "A = Matrix([[2, 2], [-1, 1]])"
      ],
      "metadata": {
        "id": "KZZZGzhHuBqh"
      },
      "execution_count": 3,
      "outputs": []
    },
    {
      "cell_type": "code",
      "source": [
        "(A.T*A).eigenvects()"
      ],
      "metadata": {
        "colab": {
          "base_uri": "https://localhost:8080/"
        },
        "id": "T-Jd9vJDBx8N",
        "outputId": "0689ddf0-04ff-4868-c673-969dab762676"
      },
      "execution_count": 4,
      "outputs": [
        {
          "output_type": "execute_result",
          "data": {
            "text/plain": [
              "[(2, 1, [Matrix([\n",
              "   [-1],\n",
              "   [ 1]])]), (8, 1, [Matrix([\n",
              "   [1],\n",
              "   [1]])])]"
            ]
          },
          "metadata": {},
          "execution_count": 4
        }
      ]
    },
    {
      "cell_type": "code",
      "source": [
        "P = Matrix([\n",
        "    [1/sqrt(2), -1/sqrt(2)],\n",
        "    [1/sqrt(2),  1/sqrt(2)]\n",
        "])\n",
        "P.T*P #check that P is orthogonal matrix"
      ],
      "metadata": {
        "colab": {
          "base_uri": "https://localhost:8080/",
          "height": 58
        },
        "id": "nD70Z0wfB7Wt",
        "outputId": "3b3496f4-b165-442b-92a4-46125f39bf12"
      },
      "execution_count": 5,
      "outputs": [
        {
          "output_type": "execute_result",
          "data": {
            "text/plain": [
              "Matrix([\n",
              "[1, 0],\n",
              "[0, 1]])"
            ],
            "text/latex": "$\\displaystyle \\left[\\begin{matrix}1 & 0\\\\0 & 1\\end{matrix}\\right]$"
          },
          "metadata": {},
          "execution_count": 5
        }
      ]
    },
    {
      "cell_type": "code",
      "source": [
        "P.T*(A.T*A)*P"
      ],
      "metadata": {
        "colab": {
          "base_uri": "https://localhost:8080/",
          "height": 58
        },
        "id": "pPfPA4URCQet",
        "outputId": "1c81d0c8-a258-4ebd-9812-2b296b06476e"
      },
      "execution_count": 6,
      "outputs": [
        {
          "output_type": "execute_result",
          "data": {
            "text/plain": [
              "Matrix([\n",
              "[8, 0],\n",
              "[0, 2]])"
            ],
            "text/latex": "$\\displaystyle \\left[\\begin{matrix}8 & 0\\\\0 & 2\\end{matrix}\\right]$"
          },
          "metadata": {},
          "execution_count": 6
        }
      ]
    },
    {
      "cell_type": "code",
      "source": [
        "V=P"
      ],
      "metadata": {
        "id": "aej4l1IAIPHg"
      },
      "execution_count": 7,
      "outputs": []
    },
    {
      "cell_type": "code",
      "source": [
        "(1/sqrt(8))*A*Matrix([[1/sqrt(2)], [1/sqrt(2)]])"
      ],
      "metadata": {
        "colab": {
          "base_uri": "https://localhost:8080/",
          "height": 58
        },
        "id": "CElQcor6K6GP",
        "outputId": "cf3f87d5-314a-4648-c48c-554618ebb252"
      },
      "execution_count": 8,
      "outputs": [
        {
          "output_type": "execute_result",
          "data": {
            "text/plain": [
              "Matrix([\n",
              "[1],\n",
              "[0]])"
            ],
            "text/latex": "$\\displaystyle \\left[\\begin{matrix}1\\\\0\\end{matrix}\\right]$"
          },
          "metadata": {},
          "execution_count": 8
        }
      ]
    },
    {
      "cell_type": "code",
      "source": [
        "(1/sqrt(2))*A*Matrix([[-1/sqrt(2)], [1/sqrt(2)]])"
      ],
      "metadata": {
        "colab": {
          "base_uri": "https://localhost:8080/",
          "height": 58
        },
        "id": "f89_C3OQIQag",
        "outputId": "ccd96752-352a-403a-b31a-24af961ae7af"
      },
      "execution_count": 9,
      "outputs": [
        {
          "output_type": "execute_result",
          "data": {
            "text/plain": [
              "Matrix([\n",
              "[0],\n",
              "[1]])"
            ],
            "text/latex": "$\\displaystyle \\left[\\begin{matrix}0\\\\1\\end{matrix}\\right]$"
          },
          "metadata": {},
          "execution_count": 9
        }
      ]
    },
    {
      "cell_type": "code",
      "source": [
        "U=Matrix([[1, 0], [0, 1]])\n",
        "U.T*U # check that U is an orthogonal matrix"
      ],
      "metadata": {
        "colab": {
          "base_uri": "https://localhost:8080/",
          "height": 58
        },
        "id": "DJ0NFb6zJyMq",
        "outputId": "ec223650-7418-418f-f312-e9da2eeb51dc"
      },
      "execution_count": 10,
      "outputs": [
        {
          "output_type": "execute_result",
          "data": {
            "text/plain": [
              "Matrix([\n",
              "[1, 0],\n",
              "[0, 1]])"
            ],
            "text/latex": "$\\displaystyle \\left[\\begin{matrix}1 & 0\\\\0 & 1\\end{matrix}\\right]$"
          },
          "metadata": {},
          "execution_count": 10
        }
      ]
    },
    {
      "cell_type": "code",
      "source": [
        "U.T*A*V"
      ],
      "metadata": {
        "colab": {
          "base_uri": "https://localhost:8080/",
          "height": 60
        },
        "id": "acSLvjSbKFH7",
        "outputId": "8a353281-877c-49c5-e5bf-a13f4043affd"
      },
      "execution_count": 11,
      "outputs": [
        {
          "output_type": "execute_result",
          "data": {
            "text/plain": [
              "Matrix([\n",
              "[2*sqrt(2),       0],\n",
              "[        0, sqrt(2)]])"
            ],
            "text/latex": "$\\displaystyle \\left[\\begin{matrix}2 \\sqrt{2} & 0\\\\0 & \\sqrt{2}\\end{matrix}\\right]$"
          },
          "metadata": {},
          "execution_count": 11
        }
      ]
    }
  ]
}