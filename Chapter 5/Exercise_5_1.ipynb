{
  "nbformat": 4,
  "nbformat_minor": 0,
  "metadata": {
    "colab": {
      "provenance": [],
      "authorship_tag": "ABX9TyPKivBgxKg1Aj4K+zJGmJA8",
      "include_colab_link": true
    },
    "kernelspec": {
      "name": "python3",
      "display_name": "Python 3"
    },
    "language_info": {
      "name": "python"
    }
  },
  "cells": [
    {
      "cell_type": "markdown",
      "metadata": {
        "id": "view-in-github",
        "colab_type": "text"
      },
      "source": [
        "<a href=\"https://colab.research.google.com/github/tteodorescu0/M4ML/blob/main/Chapter%205/Exercise_5_1.ipynb\" target=\"_parent\"><img src=\"https://colab.research.google.com/assets/colab-badge.svg\" alt=\"Open In Colab\"/></a>"
      ]
    },
    {
      "cell_type": "markdown",
      "source": [
        "#Exercise 5.1\n",
        "\n",
        "Compute the derivative $f'(x)$ for\n",
        "\n",
        "$$f(x) = \\log(x^4)\\sin(x^3).$$"
      ],
      "metadata": {
        "id": "RLezh7wRDq_M"
      }
    },
    {
      "cell_type": "code",
      "source": [
        "from sympy import *"
      ],
      "metadata": {
        "id": "qt0m4eqx-w7M"
      },
      "execution_count": 1,
      "outputs": []
    },
    {
      "cell_type": "markdown",
      "source": [
        "#Solution:"
      ],
      "metadata": {
        "id": "h7z2M74DEdWS"
      }
    },
    {
      "cell_type": "code",
      "source": [
        "x = symbols('x')\n",
        "diff(log(x**4)*sin(x**3), x)"
      ],
      "metadata": {
        "id": "KZZZGzhHuBqh",
        "colab": {
          "base_uri": "https://localhost:8080/",
          "height": 56
        },
        "outputId": "62fa6d92-049d-4de0-9e16-8e7606bbb210"
      },
      "execution_count": 2,
      "outputs": [
        {
          "output_type": "execute_result",
          "data": {
            "text/plain": [
              "3*x**2*log(x**4)*cos(x**3) + 4*sin(x**3)/x"
            ],
            "text/latex": "$\\displaystyle 3 x^{2} \\log{\\left(x^{4} \\right)} \\cos{\\left(x^{3} \\right)} + \\frac{4 \\sin{\\left(x^{3} \\right)}}{x}$"
          },
          "metadata": {},
          "execution_count": 2
        }
      ]
    }
  ]
}