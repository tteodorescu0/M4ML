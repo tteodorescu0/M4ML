{
  "nbformat": 4,
  "nbformat_minor": 0,
  "metadata": {
    "colab": {
      "provenance": [],
      "authorship_tag": "ABX9TyNz2aaZRaPb4RIVjI1jPeRW",
      "include_colab_link": true
    },
    "kernelspec": {
      "name": "python3",
      "display_name": "Python 3"
    },
    "language_info": {
      "name": "python"
    }
  },
  "cells": [
    {
      "cell_type": "markdown",
      "metadata": {
        "id": "view-in-github",
        "colab_type": "text"
      },
      "source": [
        "<a href=\"https://colab.research.google.com/github/tteodorescu0/M4ML/blob/main/Chapter%205/Exercise_5_3.ipynb\" target=\"_parent\"><img src=\"https://colab.research.google.com/assets/colab-badge.svg\" alt=\"Open In Colab\"/></a>"
      ]
    },
    {
      "cell_type": "markdown",
      "source": [
        "#Exercise 5.3\n",
        "\n",
        "Compute the derivative $f'(x)$ of the function\n",
        "\n",
        "$$f(x)=\\exp(-\\frac{1}{2\\sigma^2} {(x−\\mu)}^2),$$\n",
        "\n",
        "where $\\mu, \\sigma \\in \\mathbb{R}$ are constants."
      ],
      "metadata": {
        "id": "RLezh7wRDq_M"
      }
    },
    {
      "cell_type": "code",
      "source": [
        "from sympy import *"
      ],
      "metadata": {
        "id": "qt0m4eqx-w7M"
      },
      "execution_count": 1,
      "outputs": []
    },
    {
      "cell_type": "markdown",
      "source": [
        "#Solution:"
      ],
      "metadata": {
        "id": "h7z2M74DEdWS"
      }
    },
    {
      "cell_type": "code",
      "source": [
        "x, s, m = symbols('x s m')\n",
        "diff(exp(-(1/(2*s**2))*(x-m)**2), x)"
      ],
      "metadata": {
        "id": "KZZZGzhHuBqh",
        "colab": {
          "base_uri": "https://localhost:8080/",
          "height": 63
        },
        "outputId": "5f539aa2-90b5-4c42-aff0-a0f801d36029"
      },
      "execution_count": 5,
      "outputs": [
        {
          "output_type": "execute_result",
          "data": {
            "text/plain": [
              "-(-2*m + 2*x)*exp(-(-m + x)**2/(2*s**2))/(2*s**2)"
            ],
            "text/latex": "$\\displaystyle - \\frac{\\left(- 2 m + 2 x\\right) e^{- \\frac{\\left(- m + x\\right)^{2}}{2 s^{2}}}}{2 s^{2}}$"
          },
          "metadata": {},
          "execution_count": 5
        }
      ]
    }
  ]
}