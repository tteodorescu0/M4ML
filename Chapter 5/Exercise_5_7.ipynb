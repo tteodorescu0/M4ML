{
  "nbformat": 4,
  "nbformat_minor": 0,
  "metadata": {
    "colab": {
      "provenance": [],
      "authorship_tag": "ABX9TyNqX6gWHoGBN5gr30UDjbC/",
      "include_colab_link": true
    },
    "kernelspec": {
      "name": "python3",
      "display_name": "Python 3"
    },
    "language_info": {
      "name": "python"
    }
  },
  "cells": [
    {
      "cell_type": "markdown",
      "metadata": {
        "id": "view-in-github",
        "colab_type": "text"
      },
      "source": [
        "<a href=\"https://colab.research.google.com/github/tteodorescu0/M4ML/blob/main/Chapter%205/Exercise_5_7.ipynb\" target=\"_parent\"><img src=\"https://colab.research.google.com/assets/colab-badge.svg\" alt=\"Open In Colab\"/></a>"
      ]
    },
    {
      "cell_type": "markdown",
      "source": [
        "#Exercise 5.7\n",
        "\n",
        "Compute the derivatives $df /d\\mathbf{x}$ of the following functions by using the chain rule. Provide the dimensions of every single partial derivative. Describe your steps in detail.\n",
        "\n",
        "a.\n",
        "\n",
        "$$f(z)=\\log(1+z), z=\\mathbf{x}^T\\mathbf{x}, \\mathbf{x}\\in \\mathbb{R}^D$$\n",
        "\n",
        "b.\n",
        "\n",
        "$$f(\\mathbf{z})=\\sin(\\mathbf{z}), \\mathbf{z}=\\mathbf{A}\\mathbf{x}+\\mathbf{b}, \\mathbf{A} \\in \\mathbb{R}^{E\\times D},\\mathbf{x} \\in \\mathbb{R}^D,\\mathbf{b} \\in \\mathbb{R}^E$$\n",
        "\n",
        "\n",
        "where $\\sin(\\cdot)$ is applied to every element of $\\mathbf{z}$.\n"
      ],
      "metadata": {
        "id": "RLezh7wRDq_M"
      }
    },
    {
      "cell_type": "code",
      "source": [
        "from sympy import *"
      ],
      "metadata": {
        "id": "qt0m4eqx-w7M"
      },
      "execution_count": 1,
      "outputs": []
    },
    {
      "cell_type": "markdown",
      "source": [
        "#Solution: Part a\n",
        "\n",
        "Since $f:\\mathbb{R}^D\\to \\mathbb{R}$, the dimensions of $\\frac{\\partial f(\\mathbf{x})}{\\partial \\mathbf{x}}$ are $1\\times D$ and $\\frac{\\partial f(\\mathbf{x})}{\\partial \\mathbf{x}} \\in \\mathbb{R}^{1\\times D}=\\mathbb{R}^D$. Let $\\mathbf{x}=[x_1, \\ldots,x_i,\\ldots, x_D]^T$ and note that $\\mathbf{x}^T\\mathbf{x}=x_1^2+\\ldots+x_i^2+\\ldots+x_D^2$. The computation below shows that $\\frac{\\partial f(\\mathbf{x})}{\\partial \\mathbf{x}} = \\frac{2}{1+{\\lVert \\mathbf{x}\\rVert}^2}\\mathbf{t}^T$.\n",
        "\n",
        "\n",
        "$$\\frac{\\partial f(\\mathbf{x})}{\\partial x_i}=\\frac{\\partial}{\\partial x_i}\\log(1+x_1^2+\\ldots+x_i^2+\\ldots+x_d^2)=\\frac{1}{1+x_1^2+\\ldots+x_i^2+\\ldots+x_d^2}\\cdot 2 x_i$$\n",
        "\n",
        "Another way is to notice that $f(\\mathbf{x})$ is a function composition of the function $g:\\mathbb{R}^D \\to \\mathbb{R}$, $z=g(\\mathbf{x})=\\mathbf{x}^T\\mathbf{x}$ and $h:\\mathbb{R} \\to \\mathbb{R}$, $h(z)=\\log(1+z)$. Note that $g$ is $f_3$ from exercise 5.5 and that $\\frac{\\partial g(\\mathbf{x})}{\\partial \\mathbf{x}}= 2\\mathbf{x}^T$. Note also that $\\frac{\\partial h(z)}{\\partial z}= \\frac{1}{1+z}$. Using the chain rule, we get that $\\frac{\\partial f(\\mathbf{x})}{\\partial \\mathbf{x}} = \\frac{2}{1+{\\lVert \\mathbf{x}\\rVert}^2}\\mathbf{x}^T$.\n",
        "\n",
        "\n"
      ],
      "metadata": {
        "id": "h7z2M74DEdWS"
      }
    },
    {
      "cell_type": "markdown",
      "source": [
        "#Part b\n",
        "\n",
        "Since $f:\\mathbb{R}^{D}\\to \\mathbb{R}^E$, the dimensions of $\\frac{\\partial f}{\\partial \\mathbf{x}}$ are $E\\times D$ and $\\frac{\\partial f}{\\partial \\mathbf{x}} \\in \\mathbb{R}^{E\\times F}$. \n",
        "\n",
        "\n",
        "\n",
        "Note that $f(\\mathbf{x})$ is a function composition of the functions \n",
        "\n",
        "$$g:\\mathbb{R}^D \\to \\mathbb{R}^E, \\mathbf{z}=g(\\mathbf{x})=\\mathbf{A}\\mathbf{x}+\\mathbf{b}$$ \n",
        "\n",
        "$$h:\\mathbb{R}^E \\to \\mathbb{R}^E, h(\\mathbf{z})=\\sin(\\mathbf{z})$$\n",
        "\n",
        "where $\\sin(\\cdot)$ is applied to all the elmenets of $\\mathbf{z}$. \n",
        "\n",
        "\n",
        "\n",
        "\n",
        "First let's look at $g$ and its Jacobian. Let $\\mathbf{A}=[a_{ij}]$, $\\mathbf{x}=[x_{j}]$, and $\\mathbf{B}=[x_{i}]$, where $1\\leq i \\leq E$ and $1\\leq j \\leq D$. Note that $g_i(\\mathbf{x})=\\sum_{j=1, \\ldots, D} a_{ij}x_{j} + b_{i}$. The computation below shows that $\\frac{\\partial g}{\\partial \\mathbf{x}} = \\mathbf{A}\\in \\mathbb{R}^{E\\times D}$.\n",
        "\n",
        "\n",
        "$$\\frac{\\partial g_i(\\mathbf{z})}{\\partial x_{j}} = a_{ij}$$\n",
        "\n",
        "Next let's look at $h$ and its Jacobian. Let $\\mathbf{z}=[z_{i}]$, where $1\\leq i \\leq E$. Note that $h_i(\\mathbf{z})=\\sin(z_{i})$. The computation below shows that $\\frac{\\partial h}{\\partial \\mathbf{z}} = \\mathrm{diag}[\\cos(z_1), \\ldots, ..., \\cos(z_E)]$, which is equivalent to applying $\\cos$ to every element.\n",
        "\n",
        "\n",
        "$$\\frac{\\partial h_i(\\mathbf{z})}{\\partial z_{j}} = \\delta_{ij} \\cos(z_j)$$\n",
        "\n",
        "Using the chain rule for $h\\circ g$ we get that $\\frac{\\partial f(\\mathbf{x})}{\\partial \\mathbf{x}} = \\cos(\\mathbf{A}\\mathbf{x}+\\mathbf{b})\\mathbf{A}$.\n"
      ],
      "metadata": {
        "id": "oLH_S19ZJxWC"
      }
    }
  ]
}