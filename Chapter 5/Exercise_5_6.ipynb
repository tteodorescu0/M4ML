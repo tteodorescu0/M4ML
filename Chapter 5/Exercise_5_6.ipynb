{
  "nbformat": 4,
  "nbformat_minor": 0,
  "metadata": {
    "colab": {
      "provenance": [],
      "authorship_tag": "ABX9TyNMaYsLUnnvqOlh0T8Hl/Iv",
      "include_colab_link": true
    },
    "kernelspec": {
      "name": "python3",
      "display_name": "Python 3"
    },
    "language_info": {
      "name": "python"
    }
  },
  "cells": [
    {
      "cell_type": "markdown",
      "metadata": {
        "id": "view-in-github",
        "colab_type": "text"
      },
      "source": [
        "<a href=\"https://colab.research.google.com/github/tteodorescu0/M4ML/blob/main/Chapter%205/Exercise_5_6.ipynb\" target=\"_parent\"><img src=\"https://colab.research.google.com/assets/colab-badge.svg\" alt=\"Open In Colab\"/></a>"
      ]
    },
    {
      "cell_type": "markdown",
      "source": [
        "#Exercise 5.6\n",
        "\n",
        "Differentiate $f$ with respect to $\\mathbf{t}$ and $g$ with respect to $\\mathbf{X}$, where\n",
        "\n",
        "$$f(\\mathbf{t}) = \\sin(\\log(\\mathbf{t}^T \\mathbf{t})) , \\mathbf{t} \\in \\mathbb{R}^D$$\n",
        "\n",
        "$$g(\\mathbf{X}) = \\mathrm{tr}(\\mathbf{A}\\mathbf{X}\\mathbf{B}), \\mathbf{A} \\in \\mathbb{R}^{D\\times E}, \\mathbf{X} \\in \\mathbb{R}^{E\\times F}, \\mathbf{B} \\in \\mathbb{R}^{F\\times D},$$\n",
        "\n",
        "where $\\mathrm{tr}(\\cdot)$ denotes the trace."
      ],
      "metadata": {
        "id": "RLezh7wRDq_M"
      }
    },
    {
      "cell_type": "code",
      "source": [
        "from sympy import *"
      ],
      "metadata": {
        "id": "qt0m4eqx-w7M"
      },
      "execution_count": null,
      "outputs": []
    },
    {
      "cell_type": "markdown",
      "source": [
        "#Solution: Part a\n",
        "\n",
        "Since $f:\\mathbb{R}^D\\to \\mathbb{R}$, the dimensions of $\\frac{\\partial f}{\\partial \\mathbf{t}}$ are $1\\times D$ and $\\frac{\\partial f}{\\partial \\mathbf{t}} \\in \\mathbb{R}^{1\\times D}=\\mathbb{R}^D$. Let $\\mathbf{t}=[t_1, \\ldots,t_i,\\ldots, t_D]^T$ and note that $\\mathbf{t}^T\\mathbf{t}=t_1^2+\\ldots+t_i^2+\\ldots+t_d^2$. The computation below shows that $\\frac{\\partial f(\\mathbf{t})}{\\partial \\mathbf{t}} = \\frac{2\\cos(\\log({\\lVert \\mathbf{t}\\rVert}^2))}{{\\lVert \\mathbf{t}\\rVert}^2}\\mathbf{t}^T$.\n",
        "\n",
        "\n",
        "$$\\frac{\\partial f(\\mathbf{t})}{\\partial t_i}=\\frac{\\partial}{\\partial t_i}\\sin(\\log(t_1^2+\\ldots+t_i^2+\\ldots+t_d^2))=\\cos(\\log(t_1^2+\\ldots+t_i^2+\\ldots+t_d^2))\\cdot \\frac{1}{t_1^2+\\ldots+t_i^2+\\ldots+t_d^2}\\cdot 2 t_i$$\n",
        "\n",
        "\n"
      ],
      "metadata": {
        "id": "h7z2M74DEdWS"
      }
    },
    {
      "cell_type": "markdown",
      "source": [
        "#Part b\n",
        "\n",
        "Since $g:\\mathbb{R}^{E\\times F}\\to \\mathbb{R}$, the dimensions of $\\frac{\\partial g}{\\partial \\mathbf{X}}$ are $1\\times (E\\times F)$ and $\\frac{\\partial g}{\\partial \\mathbf{X}} \\in \\mathbb{R}^{1\\times (E\\times F)} = \\mathbb{R}^{E\\times F}$. Let $\\mathbf{A}=[a_{ij}]$, $\\mathbf{X}=[x_{jk}]$, and $\\mathbf{B}=[x_{kl}]$, where $1\\leq i \\leq D$, $1\\leq j \\leq E$, $1\\leq k \\leq F$, and $1\\leq l \\leq D$. Note that $g(\\mathbf{X})=\\sum_{\\begin{matrix}i=1, \\ldots, D\\\\ j=1, \\ldots, E\\\\ k=1, \\ldots, F\\end{matrix}} a_{ij}x_{jk}b_{ki}$. The computation below shows that $\\frac{\\partial g}{\\partial \\mathbf{X}} = \\mathbf{A}^T\\mathbf{B}^T$.\n",
        "\n",
        "$$\\frac{\\partial g(\\mathbf{X})}{\\partial x_{jk}} = \\sum_{i=1, \\ldots, D} a_{ij}b_{ki} = \\sum_{i=1, \\ldots, D} {(\\mathbf{A}^T)}_{ji}{(\\mathbf{B}^T)}_{ik}= {(\\mathbf{A}^T\\mathbf{B}^T)}_{jk}$$"
      ],
      "metadata": {
        "id": "oLH_S19ZJxWC"
      }
    }
  ]
}