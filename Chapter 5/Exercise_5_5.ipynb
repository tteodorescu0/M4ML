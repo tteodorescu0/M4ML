{
  "nbformat": 4,
  "nbformat_minor": 0,
  "metadata": {
    "colab": {
      "provenance": [],
      "authorship_tag": "ABX9TyP1ZNCEZLeFj7wQHn3XUhQn",
      "include_colab_link": true
    },
    "kernelspec": {
      "name": "python3",
      "display_name": "Python 3"
    },
    "language_info": {
      "name": "python"
    }
  },
  "cells": [
    {
      "cell_type": "markdown",
      "metadata": {
        "id": "view-in-github",
        "colab_type": "text"
      },
      "source": [
        "<a href=\"https://colab.research.google.com/github/tteodorescu0/M4ML/blob/main/Chapter%205/Exercise_5_5.ipynb\" target=\"_parent\"><img src=\"https://colab.research.google.com/assets/colab-badge.svg\" alt=\"Open In Colab\"/></a>"
      ]
    },
    {
      "cell_type": "markdown",
      "source": [
        "#Exercise 5.5\n",
        "\n",
        "Consider the following functions:\n",
        "\n",
        "$$f_1(\\mathbf{x}) = \\sin(x_1) \\cos(x_2), \\mathbf{x} \\in \\mathbb{R}^2$$ \n",
        "\n",
        "$$f_2(\\mathbf{x},\\mathbf{y})=\\mathbf{x}^T\\mathbf{y}, \\mathbf{x},\\mathbf{y} \\in \\mathbb{R}^n$$ \n",
        "\n",
        "$$f_3(\\mathbf{x}) = \\mathbf{x}\\mathbf{x}^T , \\mathbf{x} \\in \\mathbb{R}^n$$ \n",
        "\n",
        "a. What are the dimensions of $\\frac{\\partial f_i}{\\partial \\mathbf{x}}$ ?\n",
        "\n",
        "b. Compute the Jacobians."
      ],
      "metadata": {
        "id": "RLezh7wRDq_M"
      }
    },
    {
      "cell_type": "code",
      "source": [
        "from sympy import *"
      ],
      "metadata": {
        "id": "qt0m4eqx-w7M"
      },
      "execution_count": 1,
      "outputs": []
    },
    {
      "cell_type": "markdown",
      "source": [
        "#Solution: Part a\n",
        "\n",
        "Since $f_1:\\mathbb{R}^2\\to \\mathbb{R}$, the dimensions of $\\frac{\\partial f_1}{\\partial \\mathbf{x}}$ are $1\\times 2$.\n",
        "\n",
        "Since $f_2:\\mathbb{R}^{2n}\\to \\mathbb{R}$, the dimensions of $\\frac{\\partial f_2}{\\partial \\mathbf{x}}$ are $1\\times 2n$.\n",
        "\n",
        "Since $f_3:\\mathbb{R}^n\\to \\mathbb{R}^{n\\times n}$, the dimensions of $\\frac{\\partial f_3}{\\partial \\mathbf{x}}$ are $(n\\times n)\\times n$.\n"
      ],
      "metadata": {
        "id": "h7z2M74DEdWS"
      }
    },
    {
      "cell_type": "markdown",
      "source": [
        "#Part b\n",
        "\n",
        "${\\nabla}_{\\mathbf{x}}(f_1)=\\begin{bmatrix} \\cos(x_1)\\cos(x_2) & -\\sin(x_1)\\sin(x_2)\\end{bmatrix}$\n",
        "\n",
        "${\\nabla}_{\\mathbf{x}}(f_2)=\\begin{bmatrix} \\mathbf{y}^T & \\mathbf{x}^T \\end{bmatrix}$\n",
        "\n",
        "${\\nabla}_{\\mathbf{x}}(f_3)={[ A_{ij} ]}_{1\\leq i, j \\leq n}$, where $A_{ij}\\in \\mathbf{R}^n$ are as follows:\n",
        "\n",
        "\n",
        "* when $i=j$, $A_{ii}$ contains zero everywhere except at $i$ where it contains $2x_i$,\n",
        "\n",
        "* when $i \\neq j$, $A_{ij}$ contains zero everywhere except at $i$ where it contains $x_j$ and at $j$ where it contains $x_i$.\n",
        "\n",
        "\n",
        "Another way to write the last Jacobian is ${\\nabla}_{\\mathbf{x}}(f_3)={[\\frac{\\partial (x_ix_j)}{\\partial \\mathbf{x}}]}_{1\\leq i, j \\leq n}$, with $\\frac{\\partial (x_ix_j)}{\\partial \\mathbf{x}}\\in \\mathbf{R}^n$ where:\n",
        "\n",
        "* when $i=j$, $\\frac{\\partial (x_ix_i)}{\\partial \\mathbf{x}}$ contains zero everywhere except at $i$ where it contains $2x_i$,\n",
        "\n",
        "* when $i \\neq j$, $\\frac{\\partial (x_ix_j)}{\\partial \\mathbf{x}}]$ contains zero everywhere except at $i$ where it contains $x_j$ and at $j$ where it contains $x_i$.\n",
        "\n",
        "\n",
        "\n"
      ],
      "metadata": {
        "id": "6fzWLa0Ul9Ge"
      }
    }
  ]
}