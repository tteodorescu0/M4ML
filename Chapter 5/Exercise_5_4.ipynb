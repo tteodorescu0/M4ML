{
  "nbformat": 4,
  "nbformat_minor": 0,
  "metadata": {
    "colab": {
      "provenance": [],
      "authorship_tag": "ABX9TyNBgQHev3FZr0xSzBd+AO1v",
      "include_colab_link": true
    },
    "kernelspec": {
      "name": "python3",
      "display_name": "Python 3"
    },
    "language_info": {
      "name": "python"
    }
  },
  "cells": [
    {
      "cell_type": "markdown",
      "metadata": {
        "id": "view-in-github",
        "colab_type": "text"
      },
      "source": [
        "<a href=\"https://colab.research.google.com/github/tteodorescu0/M4ML/blob/main/Chapter%205/Exercise_5_4.ipynb\" target=\"_parent\"><img src=\"https://colab.research.google.com/assets/colab-badge.svg\" alt=\"Open In Colab\"/></a>"
      ]
    },
    {
      "cell_type": "markdown",
      "source": [
        "#Exercise 5.4\n",
        "\n",
        "\n",
        "Compute the Taylor polynomials $T_n$, $n = 0, . . . , 5$ of $f(x) = \\sin(x) + \\cos(x)$ at $x_0 =0$."
      ],
      "metadata": {
        "id": "RLezh7wRDq_M"
      }
    },
    {
      "cell_type": "code",
      "source": [
        "from sympy import *"
      ],
      "metadata": {
        "id": "qt0m4eqx-w7M"
      },
      "execution_count": null,
      "outputs": []
    },
    {
      "cell_type": "markdown",
      "source": [
        "#Solution:\n",
        "\n",
        "We have:\n",
        "\n",
        "$$f(0)=\\sin(0)+\\cos(0)=1$$\n",
        "$$f'(0)=\\cos(0)-\\sin(0)=1$$\n",
        "$$f''(0)=-\\sin(0)-\\cos(0)=-1$$\n",
        "$$f^{(3)}(0)=-\\cos(0)+\\sin(0)=-1$$\n",
        "$$f^{(4)}(0)=\\sin(0)+\\cos(0)=1$$\n",
        "$$f^{(5)}(0)=\\cos(0)-\\sin(0)=1$$\n",
        "\n",
        "Since\n",
        "\n",
        "$$T_n(x)=\\sum_{k=0}^n \\frac{f^{(k)}(x_0)}{k!}{(x-x_0)}^k$$\n",
        "\n",
        "we have\n",
        "\n",
        "$$T_0(x)=1$$\n",
        "$$T_1(x)=1+x$$\n",
        "$$T_2(x)=1+x-\\frac{1}{2}x^2$$\n",
        "$$T_3(x)=1+x-\\frac{1}{2}x^2-\\frac{1}{6}x^3$$\n",
        "$$T_4(x)=1+x-\\frac{1}{2}x^2-\\frac{1}{6}x^3+\\frac{1}{24}x^4$$\n",
        "$$T_5(x)=1+x-\\frac{1}{2}x^2-\\frac{1}{6}x^3+\\frac{1}{24}x^4+\\frac{1}{120}x^5$$"
      ],
      "metadata": {
        "id": "h7z2M74DEdWS"
      }
    }
  ]
}