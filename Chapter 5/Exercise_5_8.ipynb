{
  "nbformat": 4,
  "nbformat_minor": 0,
  "metadata": {
    "colab": {
      "provenance": [],
      "authorship_tag": "ABX9TyOaavRS61nhfEMssVJAu7c3",
      "include_colab_link": true
    },
    "kernelspec": {
      "name": "python3",
      "display_name": "Python 3"
    },
    "language_info": {
      "name": "python"
    }
  },
  "cells": [
    {
      "cell_type": "markdown",
      "metadata": {
        "id": "view-in-github",
        "colab_type": "text"
      },
      "source": [
        "<a href=\"https://colab.research.google.com/github/tteodorescu0/M4ML/blob/main/Chapter%205/Exercise_5_8.ipynb\" target=\"_parent\"><img src=\"https://colab.research.google.com/assets/colab-badge.svg\" alt=\"Open In Colab\"/></a>"
      ]
    },
    {
      "cell_type": "markdown",
      "source": [
        "#Exercise 5.8\n",
        "\n",
        "Compute the derivatives $df /d\\mathbf{x}$ of the following functions. Describe your steps in detail.\n",
        "\n",
        "a. Use the chain rule. Provide the dimensions of every single partial derivative.\n",
        "\n",
        "$$f(z) = \\exp(-\\frac{1}{2}z)$$\n",
        "$$z = g(\\mathbf{y}) = \\mathbf{y}^T \\mathbf{S}^{-1} \\mathbf{y}$$\n",
        "$$\\mathbf{y} = h(\\mathbf{x}) = \\mathbf{x} − \\mathbf{\\mu} $$\n",
        "\n",
        "where $\\mathbf{x},\\mathbf{\\mu} \\in \\mathbb{R}^D, \\mathbf{S} \\in \\mathbb{R}^{D\\times D}$.\n",
        "\n",
        "b. \n",
        "\n",
        "$$f(\\mathbf{x})=\\mathrm{tr}(\\mathbf{x}\\mathbf{x}^T+\\sigma^2\\mathbf{I}), \\mathbf{x}\\in \\mathbb{R}^D$$\n",
        "\n",
        "Here $\\mathrm{tr}(\\mathbf{A})$ is the trace of $\\mathbf{A}$, i.e., the sum of the diagonal elements $A_{ii}$.\n",
        "\n",
        "*Hint: Explicitly write out the outer product.*\n",
        "\n",
        "c. Use the chain rule. Provide the dimensions of every single partial derivative. You do not need to compute the product of the partial derivatives explicitly.\n",
        "\n",
        "$$f = \\tanh(\\mathbf{z}) \\in \\mathbb{R}^M$$\n",
        "$$\\mathbf{z}=\\mathbf{A}\\mathbf{x}+\\mathbf{b}, \\mathbf{x}\\in \\mathbb{R}^N,\\mathbf{A}\\in \\mathbb{R}^{M\\times N},\\mathbf{b}\\in \\mathbb{R}^M$$. \n",
        "\n",
        "Here, $\\tanh$ is applied to every component of $\\mathbf{z}$.\n",
        "\n"
      ],
      "metadata": {
        "id": "RLezh7wRDq_M"
      }
    },
    {
      "cell_type": "code",
      "source": [
        "from sympy import *"
      ],
      "metadata": {
        "id": "qt0m4eqx-w7M"
      },
      "execution_count": 1,
      "outputs": []
    },
    {
      "cell_type": "markdown",
      "source": [
        "#Solution: Part a\n",
        "\n",
        "If $w=f(z)$, then $w=(f\\circ g \\circ h)(\\mathbf{x})$ and $\\frac{\\partial w}{\\partial \\mathbf{x}} = \\frac{\\partial w}{\\partial z}\\cdot \\frac{\\partial z}{\\partial \\mathbf{y}} \\cdot \\frac{\\partial \\mathbf{y}}{\\partial \\mathbf{x}}$.\n",
        "\n",
        "Since $f:\\mathbb{R}\\to \\mathbb{R}$, the dimensions of $\\frac{\\partial w}{\\partial z}$ are $1\\times 1$ and $\\frac{\\partial w}{\\partial z} \\in \\mathbb{R}^{1\\times 1}=\\mathbb{R}^1$. \n",
        "\n",
        "\n",
        "$$\\frac{\\partial w}{\\partial z}=-\\frac{1}{2}\\exp(-\\frac{1}{2}z)$$\n",
        "\n",
        "\n",
        "Since $g:\\mathbb{R}^D\\to \\mathbb{R}$, the dimensions of $\\frac{\\partial z}{\\partial \\mathbf{y}}$ are $1\\times D$ and $\\frac{\\partial z}{\\partial \\mathbf{y}} \\in \\mathbb{R}^{1\\times D}$. Let $\\mathbf{A}={\\mathbf{S}}^{-1}$, where $\\mathbf{A}=(A_{ij})$, $1\\leq i, j\\leq D$. Let $\\mathbf{y}=[y_1, \\ldots,y_i,\\ldots, y_D]^T$. Then $z=\\sum_{i,j} y_i A_{ij} y_j$. Note that \n",
        "\n",
        "$$\\frac{\\partial z}{\\partial y_j} = \\sum_{i} y_iA_{ij} + \\sum_{i} A_{ji}y_i=\\sum_{i} y_i(A_{ij} + (A^T)_{ij})={(\\mathbf{y}^T(\\mathbf{A} + \\mathbf{A}^T))}_j$$\n",
        "\n",
        "and\n",
        "\n",
        "$$\\frac{\\partial z}{\\partial \\mathbf{y}} = \\mathbf{y}^T(\\mathbf{A} + \\mathbf{A}^T).$$\n",
        "\n",
        "Since $h:\\mathbb{R}^D\\to \\mathbb{R}^D$, the dimensions of $\\frac{\\partial \\mathbf{y}}{\\partial \\mathbf{x}}$ are $D\\times D$ and $\\frac{\\partial \\mathbf{y}}{\\partial \\mathbf{x}} \\in \\mathbb{R}^{D\\times D}$. Let $\\mathbf{x}=[x_1, \\ldots,x_i,\\ldots, x_D]^T$ and let $\\mathbf{y}=h(\\mathbf{x})=[y_1, \\ldots,y_i,\\ldots, y_D]^T$, note that $y_i=x_i-\\mu_i$ and $\\frac{\\partial y_i}{\\partial x_j}=\\delta_{ij}$ and\n",
        "\n",
        "\n",
        "$$\\frac{\\partial \\mathbf{y}}{\\partial \\mathbf{x}} = \\mathbf{I}_D \\in \\mathbb{R}^{D\\times D}$$\n",
        "\n",
        "The chain rule implies that\n",
        "\n",
        "$$\\frac{\\partial w}{\\partial \\mathbf{x}} = \\frac{\\partial w}{\\partial z}\\cdot \\frac{\\partial z}{\\partial \\mathbf{y}} \\cdot \\frac{\\partial \\mathbf{y}}{\\partial \\mathbf{x}}$$\n",
        "$$=-\\frac{1}{2}\\exp(-\\frac{1}{2}z) \\cdot \\mathbf{y}^T(\\mathbf{A} + \\mathbf{A}^T) \\cdot \\mathbf{I}_D $$\n",
        "$$=-\\frac{1}{2}\\exp(-\\frac{1}{2}z) \\cdot (\\mathbf{x}-\\mathbf{\\mu})^T(\\mathbf{S}^{-1} + ((\\mathbf{S})^{-1})^T)$$\n",
        "$$=-\\frac{1}{2}\\exp(-\\frac{1}{2}(\\mathbf{x}-\\mathbf{\\mu})^T\\mathbf{S}^{-1}(\\mathbf{x}-\\mathbf{\\mu})) \\cdot (\\mathbf{x}-\\mathbf{\\mu})^T(\\mathbf{S}^{-1} + (\\mathbf{S}^T)^{-1})$$\n"
      ],
      "metadata": {
        "id": "h7z2M74DEdWS"
      }
    },
    {
      "cell_type": "markdown",
      "source": [
        "#Part b\n",
        "\n",
        "Let $\\mathbf{x}=[x_1, \\ldots,x_i,\\ldots, x_D]^T$. The ${}_{11}$ component of $\\mathbf{x}\\mathbf{x}^T+\\sigma^2\\mathbf{I}$ is $x^2_1+\\sigma^2$. Similary, the ${}_{ii}$ component of $\\mathbf{x}\\mathbf{x}^T+\\sigma^2\\mathbf{I}$ is $x^2_i+\\sigma^2$ for all $1\\leq i \\leq D$. Therefore $\\mathrm{tr}(\\mathbf{x}\\mathbf{x}^T+\\sigma^2\\mathbf{I})=\\mathbf{x}^T\\mathbf{x}+D\\sigma^2$ and \n",
        "\n",
        "$$\\frac{\\partial f(\\mathbf{x})}{\\partial \\mathbf{x}} = 2\\mathbf{x}^T \\in \\mathbb{R}^{1\\times D}$$\n"
      ],
      "metadata": {
        "id": "oLH_S19ZJxWC"
      }
    },
    {
      "cell_type": "markdown",
      "source": [
        "#Part c\n",
        "\n",
        "\n",
        "The chain rule implies that $\\frac{\\partial f}{\\partial \\mathbf{x}} = \\frac{\\partial f}{\\partial \\mathbf{z}} \\cdot \\frac{\\partial \\mathbf{z}}{\\partial \\mathbf{x}}$, where $\\frac{\\partial f}{\\partial \\mathbf{z}} \\in \\mathbb{R}^{1\\times M}$ and $\\frac{\\partial \\mathbf{z}}{\\partial \\mathbf{x}} \\in \\mathbb{R}^{M\\times N}$.\n",
        "\n",
        "Since $\\frac{d \\tanh x}{dx}=1-\\tanh^2 x$, let $g(x)= 1-\\tanh^2 x$ for $x\\in\\mathbb{R}$. Then \n",
        "\n",
        "$$\\frac{\\partial f}{\\partial \\mathbf{z}}=g(\\mathbf{z})\\in \\mathbb{R}^{1\\times M}$$\n",
        "\n",
        "where $g$ is applied to all components of $\\mathbf{z}$.\n",
        "\n",
        "Using an argument in an earlier exercise, \n",
        "\n",
        "$$\\frac{\\partial \\mathbf{z}}{\\partial \\mathbf{x}}= \\frac{\\partial}{\\partial \\mathbf{x}} (\\mathbf{A}\\mathbf{x}+\\mathbf{b})=\\mathbf{A}\\in \\mathbb{R}^{M\\times N}$$\n",
        "\n",
        "Putting all together,\n",
        "\n",
        "$$\\frac{\\partial f}{\\partial \\mathbf{x}} = \\frac{\\partial f}{\\partial \\mathbf{z}} \\cdot \\frac{\\partial \\mathbf{z}}{\\partial \\mathbf{x}}$$\n",
        "\n",
        "$$=g(\\mathbf{A}\\mathbf{x}+\\mathbf{b})\\cdot \\mathbf{A} \\in \\mathbb{R}^{1\\times N}$$\n",
        "\n",
        "where $g$ is applied to all components of $\\mathbf{z}$."
      ],
      "metadata": {
        "id": "B4i5bb1CCGGs"
      }
    }
  ]
}