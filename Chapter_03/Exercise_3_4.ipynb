{
  "nbformat": 4,
  "nbformat_minor": 0,
  "metadata": {
    "colab": {
      "provenance": [],
      "authorship_tag": "ABX9TyMlAvILHcRNlzEXMWwYbUHp",
      "include_colab_link": true
    },
    "kernelspec": {
      "name": "python3",
      "display_name": "Python 3"
    },
    "language_info": {
      "name": "python"
    }
  },
  "cells": [
    {
      "cell_type": "markdown",
      "metadata": {
        "id": "view-in-github",
        "colab_type": "text"
      },
      "source": [
        "<a href=\"https://colab.research.google.com/github/tteodorescu0/M4ML/blob/main/Chapter_03/Exercise_3_4.ipynb\" target=\"_parent\"><img src=\"https://colab.research.google.com/assets/colab-badge.svg\" alt=\"Open In Colab\"/></a>"
      ]
    },
    {
      "cell_type": "markdown",
      "source": [
        "#Exercise 3.4\n",
        "\n",
        "Compute the angle between \n",
        "\n",
        "$$\\mathbf{x}= \\begin{bmatrix} 1 \\\\ 2  \\end{bmatrix}, \\mathbf{y} = \\begin{bmatrix} -1 \\\\ -1 \\end{bmatrix}$$\n",
        "\n",
        "using\n",
        "\n",
        "a. $⟨\\mathbf{x},\\mathbf{y}⟩:=\\mathbf{x}^T \\mathbf{y}$\n",
        "\n",
        "b. $⟨\\mathbf{x},\\mathbf{y}⟩:=\\mathbf{x}^T \\mathbf{A} \\mathbf{y}$, $\\mathbf{A} := \\begin{bmatrix} 2 & 1  \\\\ 1 & 3  \\end{bmatrix}$\n",
        "\n"
      ],
      "metadata": {
        "id": "RLezh7wRDq_M"
      }
    },
    {
      "cell_type": "code",
      "source": [
        "from sympy import *"
      ],
      "metadata": {
        "id": "qt0m4eqx-w7M"
      },
      "execution_count": 2,
      "outputs": []
    },
    {
      "cell_type": "markdown",
      "source": [
        "#Solution: Part a\n",
        "\n"
      ],
      "metadata": {
        "id": "h7z2M74DEdWS"
      }
    },
    {
      "cell_type": "code",
      "source": [
        "x = Matrix([[1], [2]])\n",
        "y = Matrix([[-1], [-1]])\n",
        "\n",
        "def dot_product_1(x, y):\n",
        "  return (x.T*y).det()\n",
        "\n",
        "theta = acos(Rational( dot_product_1(x,y), dot_product_1(x,x)**0.5 * dot_product_1(y,y)**0.5 ))\n",
        "(theta * 180/pi).evalf() # angle in degrees"
      ],
      "metadata": {
        "id": "Utk2N7E5y2Hh",
        "colab": {
          "base_uri": "https://localhost:8080/",
          "height": 37
        },
        "outputId": "78c9a348-2fe6-453d-c814-ff771c766824"
      },
      "execution_count": 3,
      "outputs": [
        {
          "output_type": "execute_result",
          "data": {
            "text/plain": [
              "161.565051177078"
            ],
            "text/latex": "$\\displaystyle 161.565051177078$"
          },
          "metadata": {},
          "execution_count": 3
        }
      ]
    },
    {
      "cell_type": "markdown",
      "source": [
        "# Part b"
      ],
      "metadata": {
        "id": "R7rsGWY_XdJ2"
      }
    },
    {
      "cell_type": "code",
      "source": [
        "A = Matrix([[2, 1], [1, 3]])\n",
        "\n",
        "def dot_product_2(x, y):\n",
        "  return (x.T*A*y).det()\n",
        "\n",
        "theta2 = acos(Rational( dot_product_2(x,y), dot_product_2(x,x)**0.5 * dot_product_2(y,y)**0.5 ))\n",
        "(theta2 * 180/pi).evalf() # angle in degrees"
      ],
      "metadata": {
        "colab": {
          "base_uri": "https://localhost:8080/",
          "height": 37
        },
        "id": "V1zH8USumdsh",
        "outputId": "3d8ad512-9737-4075-b69f-fcc95260fcfb"
      },
      "execution_count": 4,
      "outputs": [
        {
          "output_type": "execute_result",
          "data": {
            "text/plain": [
              "168.509540096268"
            ],
            "text/latex": "$\\displaystyle 168.509540096268$"
          },
          "metadata": {},
          "execution_count": 4
        }
      ]
    }
  ]
}